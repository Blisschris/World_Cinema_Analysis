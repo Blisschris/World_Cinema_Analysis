{
 "cells": [
  {
   "cell_type": "markdown",
   "id": "d313bb48-d869-4a5b-80ff-9aaec778e132",
   "metadata": {
    "tags": []
   },
   "source": [
    "## Title:  The World Cinema\n",
    "## Author: Christian Little\n",
    "## Date: 10/3/2022"
   ]
  },
  {
   "cell_type": "markdown",
   "id": "6a0d9492-808b-4bb0-931c-8ca588fafb21",
   "metadata": {},
   "source": [
    "# Introduction:"
   ]
  },
  {
   "cell_type": "markdown",
   "id": "1fd3c2d4-8b57-4f6f-a5a9-fd2f9cca6851",
   "metadata": {},
   "source": [
    "The movie industry over the past 50 years has become very diverse. In this world, people think the directors, or the writers are what gives the movie life. In reality, its up to the audience that views it. Throughout the history of cinema, it has been proven that movies thrive on the simple act of feedback. Without someones opinion or perspective on the mattter, the movie is pointless. In America, we have top companies that work hard to entertain us in different ways, in which are put into genres. In a way, the genres alot of the time determines the amount of sales."
   ]
  },
  {
   "cell_type": "markdown",
   "id": "b2f0aed9-4591-41b0-868f-6b363a974447",
   "metadata": {},
   "source": [
    "This analysis is comprised of multiple datasets revolving around the topic of movies. This dataset contains information on movies made in America but viewed internationally. Utilizing python, we will explore the dataset in an attempt to extractpolate an annalytical conclusion. The purpose of This data was to explain the key similarities and differences in how the movies performed in realation to genre. In this analysis, viewers will get the chance to dive into the complexities of what effects a movie's sales both internationally and domestically.  "
   ]
  },
  {
   "cell_type": "markdown",
   "id": "c2e0e775-83a8-44a9-9bdb-92adb7eb4132",
   "metadata": {},
   "source": [
    "# Ask:"
   ]
  },
  {
   "cell_type": "markdown",
   "id": "e938d81a-b345-4e67-870e-183909ae38b9",
   "metadata": {},
   "source": [
    "### 1. Identify the task"
   ]
  },
  {
   "cell_type": "markdown",
   "id": "3952850d-d035-44c9-864d-01fbc91d1bbb",
   "metadata": {},
   "source": [
    "Analyze Movies specifics in order to gain insight on which genres performed the best with each studio."
   ]
  },
  {
   "cell_type": "markdown",
   "id": "dff720da-4d7b-4793-a02f-e6fc5a40a828",
   "metadata": {},
   "source": [
    "### 2. Questions for the analysis"
   ]
  },
  {
   "cell_type": "markdown",
   "id": "7b22bf2c-7bce-4c40-a2f6-7e4055a95494",
   "metadata": {},
   "source": [
    "-  What studio does the best with which genres?\n",
    "-  What distributor makes the most money?\n",
    "- Internationally and domestically, which companies gross the most in each genre category?"
   ]
  },
  {
   "cell_type": "markdown",
   "id": "84093cf6-0d8a-45c4-99c5-e37e547930fe",
   "metadata": {},
   "source": [
    "### Key task:"
   ]
  },
  {
   "cell_type": "markdown",
   "id": "c0875761-4dc6-47fd-89dd-231eb277de3e",
   "metadata": {},
   "source": [
    "Get the top 5 companies that have the highest amount of sales"
   ]
  },
  {
   "cell_type": "markdown",
   "id": "54c7da26-4194-4ad9-8275-7af29c708dc4",
   "metadata": {},
   "source": [
    "# Prepare:"
   ]
  },
  {
   "cell_type": "markdown",
   "id": "29f7f0b5-0266-491d-b932-21a283594db3",
   "metadata": {},
   "source": [
    "This data for this analysis will come from https://www.kaggle.com/datasets/sanjeetsinghnaik/top-1000-highest-grossing-movies on Kaggle. This dataset is composed of one small csv file containing 914 rows. In this file,34 companies make up the total amount of movies put out from the 1970s to 2020. This data was brought into excel for cleaning purposes to better understand the information provided."
   ]
  },
  {
   "cell_type": "markdown",
   "id": "b11947a8-422f-40ee-a45f-bb72ef0ff3af",
   "metadata": {
    "tags": []
   },
   "source": [
    "### Importing"
   ]
  },
  {
   "cell_type": "code",
   "execution_count": 248,
   "id": "b66d29e8-2994-43cf-b450-39f71185bd1e",
   "metadata": {},
   "outputs": [
    {
     "data": {
      "text/html": [
       "        <script type=\"text/javascript\">\n",
       "        window.PlotlyConfig = {MathJaxConfig: 'local'};\n",
       "        if (window.MathJax) {MathJax.Hub.Config({SVG: {font: \"STIX-Web\"}});}\n",
       "        if (typeof require !== 'undefined') {\n",
       "        require.undef(\"plotly\");\n",
       "        requirejs.config({\n",
       "            paths: {\n",
       "                'plotly': ['https://cdn.plot.ly/plotly-2.9.0.min']\n",
       "            }\n",
       "        });\n",
       "        require(['plotly'], function(Plotly) {\n",
       "            window._Plotly = Plotly;\n",
       "        });\n",
       "        }\n",
       "        </script>\n",
       "        "
      ]
     },
     "metadata": {},
     "output_type": "display_data"
    }
   ],
   "source": [
    "# importing and loading libraires\n",
    "import pandas as pd \n",
    "import seaborn as sns\n",
    "import matplotlib.pyplot as plt\n",
    "import numpy as np\n",
    "from ast import literal_eval\n",
    "import plotly.express as px\n",
    "import plotly.io as pio\n",
    "from plotly.offline import download_plotlyjs, init_notebook_mode,  iplot\n",
    "init_notebook_mode(connected=True)\n",
    "import kaleido\n",
    "pio.renderers\n",
    "pio.renderers.default = \"jupyterlab\""
   ]
  },
  {
   "cell_type": "code",
   "execution_count": 249,
   "id": "3aae83d2-a364-4750-b9c8-62f9a0bef9bb",
   "metadata": {},
   "outputs": [
    {
     "data": {
      "text/html": [
       "<div>\n",
       "<style scoped>\n",
       "    .dataframe tbody tr th:only-of-type {\n",
       "        vertical-align: middle;\n",
       "    }\n",
       "\n",
       "    .dataframe tbody tr th {\n",
       "        vertical-align: top;\n",
       "    }\n",
       "\n",
       "    .dataframe thead th {\n",
       "        text-align: right;\n",
       "    }\n",
       "</style>\n",
       "<table border=\"1\" class=\"dataframe\">\n",
       "  <thead>\n",
       "    <tr style=\"text-align: right;\">\n",
       "      <th></th>\n",
       "      <th>Unnamed: 0</th>\n",
       "      <th>Title</th>\n",
       "      <th>Movie Info</th>\n",
       "      <th>Distributor</th>\n",
       "      <th>Release Date</th>\n",
       "      <th>Domestic Sales (in $)</th>\n",
       "      <th>International Sales (in $)</th>\n",
       "      <th>World Sales (in $)</th>\n",
       "      <th>Genre</th>\n",
       "      <th>Movie Runtime</th>\n",
       "      <th>License</th>\n",
       "    </tr>\n",
       "  </thead>\n",
       "  <tbody>\n",
       "    <tr>\n",
       "      <th>0</th>\n",
       "      <td>0</td>\n",
       "      <td>Star Wars: Episode VII - The Force Awakens (2015)</td>\n",
       "      <td>As a new threat to the galaxy rises, Rey, a de...</td>\n",
       "      <td>Walt Disney Studios Motion Pictures</td>\n",
       "      <td>December 16, 2015</td>\n",
       "      <td>936662225</td>\n",
       "      <td>1132859475</td>\n",
       "      <td>2069521700</td>\n",
       "      <td>['Action', 'Adventure', 'Sci-Fi']</td>\n",
       "      <td>2 hr 18 min</td>\n",
       "      <td>PG-13</td>\n",
       "    </tr>\n",
       "    <tr>\n",
       "      <th>1</th>\n",
       "      <td>1</td>\n",
       "      <td>Avengers: Endgame (2019)</td>\n",
       "      <td>After the devastating events of Avengers: Infi...</td>\n",
       "      <td>Walt Disney Studios Motion Pictures</td>\n",
       "      <td>April 24, 2019</td>\n",
       "      <td>858373000</td>\n",
       "      <td>1939128328</td>\n",
       "      <td>2797501328</td>\n",
       "      <td>['Action', 'Adventure', 'Drama', 'Sci-Fi']</td>\n",
       "      <td>3 hr 1 min</td>\n",
       "      <td>PG-13</td>\n",
       "    </tr>\n",
       "    <tr>\n",
       "      <th>2</th>\n",
       "      <td>2</td>\n",
       "      <td>Avatar (2009)</td>\n",
       "      <td>A paraplegic Marine dispatched to the moon Pan...</td>\n",
       "      <td>Twentieth Century Fox</td>\n",
       "      <td>December 16, 2009</td>\n",
       "      <td>760507625</td>\n",
       "      <td>2086738578</td>\n",
       "      <td>2847246203</td>\n",
       "      <td>['Action', 'Adventure', 'Fantasy', 'Sci-Fi']</td>\n",
       "      <td>2 hr 42 min</td>\n",
       "      <td>PG-13</td>\n",
       "    </tr>\n",
       "    <tr>\n",
       "      <th>3</th>\n",
       "      <td>3</td>\n",
       "      <td>Black Panther (2018)</td>\n",
       "      <td>T'Challa, heir to the hidden but advanced king...</td>\n",
       "      <td>Walt Disney Studios Motion Pictures</td>\n",
       "      <td>NaN</td>\n",
       "      <td>700426566</td>\n",
       "      <td>647171407</td>\n",
       "      <td>1347597973</td>\n",
       "      <td>['Action', 'Adventure', 'Sci-Fi']</td>\n",
       "      <td>2 hr 14 min</td>\n",
       "      <td>NaN</td>\n",
       "    </tr>\n",
       "    <tr>\n",
       "      <th>4</th>\n",
       "      <td>4</td>\n",
       "      <td>Avengers: Infinity War (2018)</td>\n",
       "      <td>The Avengers and their allies must be willing ...</td>\n",
       "      <td>Walt Disney Studios Motion Pictures</td>\n",
       "      <td>NaN</td>\n",
       "      <td>678815482</td>\n",
       "      <td>1369544272</td>\n",
       "      <td>2048359754</td>\n",
       "      <td>['Action', 'Adventure', 'Sci-Fi']</td>\n",
       "      <td>2 hr 29 min</td>\n",
       "      <td>NaN</td>\n",
       "    </tr>\n",
       "    <tr>\n",
       "      <th>...</th>\n",
       "      <td>...</td>\n",
       "      <td>...</td>\n",
       "      <td>...</td>\n",
       "      <td>...</td>\n",
       "      <td>...</td>\n",
       "      <td>...</td>\n",
       "      <td>...</td>\n",
       "      <td>...</td>\n",
       "      <td>...</td>\n",
       "      <td>...</td>\n",
       "      <td>...</td>\n",
       "    </tr>\n",
       "    <tr>\n",
       "      <th>913</th>\n",
       "      <td>913</td>\n",
       "      <td>The Notebook (2004)</td>\n",
       "      <td>A poor yet passionate young man falls in love ...</td>\n",
       "      <td>New Line Cinema</td>\n",
       "      <td>June 25, 2004</td>\n",
       "      <td>81001787</td>\n",
       "      <td>36813370</td>\n",
       "      <td>117815157</td>\n",
       "      <td>['Drama', 'Romance']</td>\n",
       "      <td>2 hr 3 min</td>\n",
       "      <td>PG-13</td>\n",
       "    </tr>\n",
       "    <tr>\n",
       "      <th>914</th>\n",
       "      <td>914</td>\n",
       "      <td>Jimmy Neutron: Boy Genius (2001)</td>\n",
       "      <td>An eight-year-old boy genius and his friends m...</td>\n",
       "      <td>Paramount Pictures</td>\n",
       "      <td>December 21, 2001</td>\n",
       "      <td>80936232</td>\n",
       "      <td>22056304</td>\n",
       "      <td>102992536</td>\n",
       "      <td>['Action', 'Adventure', 'Animation', 'Comedy',...</td>\n",
       "      <td>1 hr 22 min</td>\n",
       "      <td>NaN</td>\n",
       "    </tr>\n",
       "    <tr>\n",
       "      <th>915</th>\n",
       "      <td>915</td>\n",
       "      <td>Eat Pray Love (2010)</td>\n",
       "      <td>A married woman realizes how unhappy her marri...</td>\n",
       "      <td>Sony Pictures Entertainment (SPE)</td>\n",
       "      <td>August 13, 2010</td>\n",
       "      <td>80574010</td>\n",
       "      <td>124020006</td>\n",
       "      <td>204594016</td>\n",
       "      <td>['Biography', 'Drama', 'Romance']</td>\n",
       "      <td>2 hr 13 min</td>\n",
       "      <td>PG-13</td>\n",
       "    </tr>\n",
       "    <tr>\n",
       "      <th>916</th>\n",
       "      <td>916</td>\n",
       "      <td>The Texas Chainsaw Massacre (2003)</td>\n",
       "      <td>After picking up a traumatized young hitchhike...</td>\n",
       "      <td>New Line Cinema</td>\n",
       "      <td>October 17, 2003</td>\n",
       "      <td>80571655</td>\n",
       "      <td>26792250</td>\n",
       "      <td>107363905</td>\n",
       "      <td>['Crime', 'Horror']</td>\n",
       "      <td>1 hr 38 min</td>\n",
       "      <td>R</td>\n",
       "    </tr>\n",
       "    <tr>\n",
       "      <th>917</th>\n",
       "      <td>917</td>\n",
       "      <td>Zookeeper (2011)</td>\n",
       "      <td>A group of zoo animals decide to break their c...</td>\n",
       "      <td>Sony Pictures Entertainment (SPE)</td>\n",
       "      <td>July 6, 2011</td>\n",
       "      <td>80360843</td>\n",
       "      <td>89491916</td>\n",
       "      <td>169852759</td>\n",
       "      <td>['Comedy', 'Family', 'Fantasy', 'Romance']</td>\n",
       "      <td>1 hr 42 min</td>\n",
       "      <td>PG</td>\n",
       "    </tr>\n",
       "  </tbody>\n",
       "</table>\n",
       "<p>918 rows × 11 columns</p>\n",
       "</div>"
      ],
      "text/plain": [
       "     Unnamed: 0                                              Title  \\\n",
       "0             0  Star Wars: Episode VII - The Force Awakens (2015)   \n",
       "1             1                           Avengers: Endgame (2019)   \n",
       "2             2                                      Avatar (2009)   \n",
       "3             3                               Black Panther (2018)   \n",
       "4             4                      Avengers: Infinity War (2018)   \n",
       "..          ...                                                ...   \n",
       "913         913                                The Notebook (2004)   \n",
       "914         914                   Jimmy Neutron: Boy Genius (2001)   \n",
       "915         915                               Eat Pray Love (2010)   \n",
       "916         916                 The Texas Chainsaw Massacre (2003)   \n",
       "917         917                                   Zookeeper (2011)   \n",
       "\n",
       "                                            Movie Info  \\\n",
       "0    As a new threat to the galaxy rises, Rey, a de...   \n",
       "1    After the devastating events of Avengers: Infi...   \n",
       "2    A paraplegic Marine dispatched to the moon Pan...   \n",
       "3    T'Challa, heir to the hidden but advanced king...   \n",
       "4    The Avengers and their allies must be willing ...   \n",
       "..                                                 ...   \n",
       "913  A poor yet passionate young man falls in love ...   \n",
       "914  An eight-year-old boy genius and his friends m...   \n",
       "915  A married woman realizes how unhappy her marri...   \n",
       "916  After picking up a traumatized young hitchhike...   \n",
       "917  A group of zoo animals decide to break their c...   \n",
       "\n",
       "                             Distributor       Release Date  \\\n",
       "0    Walt Disney Studios Motion Pictures  December 16, 2015   \n",
       "1    Walt Disney Studios Motion Pictures     April 24, 2019   \n",
       "2                  Twentieth Century Fox  December 16, 2009   \n",
       "3    Walt Disney Studios Motion Pictures                NaN   \n",
       "4    Walt Disney Studios Motion Pictures                NaN   \n",
       "..                                   ...                ...   \n",
       "913                      New Line Cinema      June 25, 2004   \n",
       "914                   Paramount Pictures  December 21, 2001   \n",
       "915    Sony Pictures Entertainment (SPE)    August 13, 2010   \n",
       "916                      New Line Cinema   October 17, 2003   \n",
       "917    Sony Pictures Entertainment (SPE)       July 6, 2011   \n",
       "\n",
       "     Domestic Sales (in $)  International Sales (in $)  World Sales (in $)  \\\n",
       "0                936662225                  1132859475          2069521700   \n",
       "1                858373000                  1939128328          2797501328   \n",
       "2                760507625                  2086738578          2847246203   \n",
       "3                700426566                   647171407          1347597973   \n",
       "4                678815482                  1369544272          2048359754   \n",
       "..                     ...                         ...                 ...   \n",
       "913               81001787                    36813370           117815157   \n",
       "914               80936232                    22056304           102992536   \n",
       "915               80574010                   124020006           204594016   \n",
       "916               80571655                    26792250           107363905   \n",
       "917               80360843                    89491916           169852759   \n",
       "\n",
       "                                                 Genre Movie Runtime License  \n",
       "0                    ['Action', 'Adventure', 'Sci-Fi']   2 hr 18 min   PG-13  \n",
       "1           ['Action', 'Adventure', 'Drama', 'Sci-Fi']    3 hr 1 min   PG-13  \n",
       "2         ['Action', 'Adventure', 'Fantasy', 'Sci-Fi']   2 hr 42 min   PG-13  \n",
       "3                    ['Action', 'Adventure', 'Sci-Fi']   2 hr 14 min     NaN  \n",
       "4                    ['Action', 'Adventure', 'Sci-Fi']   2 hr 29 min     NaN  \n",
       "..                                                 ...           ...     ...  \n",
       "913                               ['Drama', 'Romance']    2 hr 3 min   PG-13  \n",
       "914  ['Action', 'Adventure', 'Animation', 'Comedy',...   1 hr 22 min     NaN  \n",
       "915                  ['Biography', 'Drama', 'Romance']   2 hr 13 min   PG-13  \n",
       "916                                ['Crime', 'Horror']   1 hr 38 min       R  \n",
       "917         ['Comedy', 'Family', 'Fantasy', 'Romance']   1 hr 42 min      PG  \n",
       "\n",
       "[918 rows x 11 columns]"
      ]
     },
     "execution_count": 249,
     "metadata": {},
     "output_type": "execute_result"
    }
   ],
   "source": [
    "# importing dataset and renaming the csv file\n",
    "hw=pd.read_csv('/Users/blisschris/Downloads/Highest Holywood Grossing Movies.csv')\n",
    "hw"
   ]
  },
  {
   "cell_type": "code",
   "execution_count": 250,
   "id": "0b0953b2-adaf-4674-bb3d-70c326793ed0",
   "metadata": {},
   "outputs": [],
   "source": [
    "# Changed Realease Date to Datetime\n",
    "hw['Release Date'] = pd.to_datetime(hw['Release Date'])"
   ]
  },
  {
   "cell_type": "code",
   "execution_count": 251,
   "id": "6aca13a8-de93-465b-802d-3ef18898594a",
   "metadata": {},
   "outputs": [
    {
     "data": {
      "text/plain": [
       "Unnamed: 0                             int64\n",
       "Title                                 object\n",
       "Movie Info                            object\n",
       "Distributor                           object\n",
       "Release Date                  datetime64[ns]\n",
       "Domestic Sales (in $)                  int64\n",
       "International Sales (in $)             int64\n",
       "World Sales (in $)                     int64\n",
       "Genre                                 object\n",
       "Movie Runtime                         object\n",
       "License                               object\n",
       "dtype: object"
      ]
     },
     "execution_count": 251,
     "metadata": {},
     "output_type": "execute_result"
    }
   ],
   "source": [
    "# Checking data types in the dataframe\n",
    "hw.dtypes"
   ]
  },
  {
   "cell_type": "code",
   "execution_count": 252,
   "id": "a524bfee-c6a3-4ebc-b8c7-42e0b19495cb",
   "metadata": {},
   "outputs": [
    {
     "data": {
      "text/plain": [
       "Unnamed: 0                      0\n",
       "Title                           0\n",
       "Movie Info                      0\n",
       "Distributor                     0\n",
       "Release Date                  118\n",
       "Domestic Sales (in $)           0\n",
       "International Sales (in $)      0\n",
       "World Sales (in $)              0\n",
       "Genre                           0\n",
       "Movie Runtime                   0\n",
       "License                       174\n",
       "dtype: int64"
      ]
     },
     "execution_count": 252,
     "metadata": {},
     "output_type": "execute_result"
    }
   ],
   "source": [
    "# Checking for null values. No nulls identified in required columns\n",
    "hw.isna().sum()"
   ]
  },
  {
   "cell_type": "markdown",
   "id": "9f7f3124-cd9c-466a-b28a-f31077c63d0d",
   "metadata": {},
   "source": [
    "# Intial Inspection process"
   ]
  },
  {
   "cell_type": "markdown",
   "id": "691597e8-d207-4bc4-a2d0-ea61bdfd047c",
   "metadata": {},
   "source": [
    "This process is showing the highest grossing movies along with the top distributors for them"
   ]
  },
  {
   "cell_type": "code",
   "execution_count": 253,
   "id": "cef6234c-3dc2-4e1b-9500-e456737ebd4f",
   "metadata": {},
   "outputs": [
    {
     "data": {
      "text/html": [
       "<div>\n",
       "<style scoped>\n",
       "    .dataframe tbody tr th:only-of-type {\n",
       "        vertical-align: middle;\n",
       "    }\n",
       "\n",
       "    .dataframe tbody tr th {\n",
       "        vertical-align: top;\n",
       "    }\n",
       "\n",
       "    .dataframe thead th {\n",
       "        text-align: right;\n",
       "    }\n",
       "</style>\n",
       "<table border=\"1\" class=\"dataframe\">\n",
       "  <thead>\n",
       "    <tr style=\"text-align: right;\">\n",
       "      <th></th>\n",
       "      <th>Unnamed: 0</th>\n",
       "      <th>Title</th>\n",
       "      <th>Movie Info</th>\n",
       "      <th>Distributor</th>\n",
       "      <th>Release Date</th>\n",
       "      <th>Domestic Sales (in $)</th>\n",
       "      <th>International Sales (in $)</th>\n",
       "      <th>World Sales (in $)</th>\n",
       "      <th>Genre</th>\n",
       "      <th>Movie Runtime</th>\n",
       "      <th>License</th>\n",
       "    </tr>\n",
       "  </thead>\n",
       "  <tbody>\n",
       "    <tr>\n",
       "      <th>2</th>\n",
       "      <td>2</td>\n",
       "      <td>Avatar (2009)</td>\n",
       "      <td>A paraplegic Marine dispatched to the moon Pan...</td>\n",
       "      <td>Twentieth Century Fox</td>\n",
       "      <td>2009-12-16</td>\n",
       "      <td>760507625</td>\n",
       "      <td>2086738578</td>\n",
       "      <td>2847246203</td>\n",
       "      <td>['Action', 'Adventure', 'Fantasy', 'Sci-Fi']</td>\n",
       "      <td>2 hr 42 min</td>\n",
       "      <td>PG-13</td>\n",
       "    </tr>\n",
       "    <tr>\n",
       "      <th>1</th>\n",
       "      <td>1</td>\n",
       "      <td>Avengers: Endgame (2019)</td>\n",
       "      <td>After the devastating events of Avengers: Infi...</td>\n",
       "      <td>Walt Disney Studios Motion Pictures</td>\n",
       "      <td>2019-04-24</td>\n",
       "      <td>858373000</td>\n",
       "      <td>1939128328</td>\n",
       "      <td>2797501328</td>\n",
       "      <td>['Action', 'Adventure', 'Drama', 'Sci-Fi']</td>\n",
       "      <td>3 hr 1 min</td>\n",
       "      <td>PG-13</td>\n",
       "    </tr>\n",
       "    <tr>\n",
       "      <th>6</th>\n",
       "      <td>6</td>\n",
       "      <td>Titanic (1997)</td>\n",
       "      <td>A seventeen-year-old aristocrat falls in love ...</td>\n",
       "      <td>Paramount Pictures</td>\n",
       "      <td>1997-12-19</td>\n",
       "      <td>659363944</td>\n",
       "      <td>1542283320</td>\n",
       "      <td>2201647264</td>\n",
       "      <td>['Drama', 'Romance']</td>\n",
       "      <td>3 hr 14 min</td>\n",
       "      <td>PG-13</td>\n",
       "    </tr>\n",
       "    <tr>\n",
       "      <th>0</th>\n",
       "      <td>0</td>\n",
       "      <td>Star Wars: Episode VII - The Force Awakens (2015)</td>\n",
       "      <td>As a new threat to the galaxy rises, Rey, a de...</td>\n",
       "      <td>Walt Disney Studios Motion Pictures</td>\n",
       "      <td>2015-12-16</td>\n",
       "      <td>936662225</td>\n",
       "      <td>1132859475</td>\n",
       "      <td>2069521700</td>\n",
       "      <td>['Action', 'Adventure', 'Sci-Fi']</td>\n",
       "      <td>2 hr 18 min</td>\n",
       "      <td>PG-13</td>\n",
       "    </tr>\n",
       "    <tr>\n",
       "      <th>4</th>\n",
       "      <td>4</td>\n",
       "      <td>Avengers: Infinity War (2018)</td>\n",
       "      <td>The Avengers and their allies must be willing ...</td>\n",
       "      <td>Walt Disney Studios Motion Pictures</td>\n",
       "      <td>NaT</td>\n",
       "      <td>678815482</td>\n",
       "      <td>1369544272</td>\n",
       "      <td>2048359754</td>\n",
       "      <td>['Action', 'Adventure', 'Sci-Fi']</td>\n",
       "      <td>2 hr 29 min</td>\n",
       "      <td>NaN</td>\n",
       "    </tr>\n",
       "    <tr>\n",
       "      <th>7</th>\n",
       "      <td>7</td>\n",
       "      <td>Jurassic World (2015)</td>\n",
       "      <td>A new theme park, built on the original site o...</td>\n",
       "      <td>Universal Pictures</td>\n",
       "      <td>2015-06-10</td>\n",
       "      <td>652385625</td>\n",
       "      <td>1018130819</td>\n",
       "      <td>1670516444</td>\n",
       "      <td>['Action', 'Adventure', 'Sci-Fi']</td>\n",
       "      <td>2 hr 4 min</td>\n",
       "      <td>PG-13</td>\n",
       "    </tr>\n",
       "    <tr>\n",
       "      <th>11</th>\n",
       "      <td>11</td>\n",
       "      <td>The Lion King (2019)</td>\n",
       "      <td>After the murder of his father, a young lion p...</td>\n",
       "      <td>Walt Disney Studios Motion Pictures</td>\n",
       "      <td>2019-07-11</td>\n",
       "      <td>543638043</td>\n",
       "      <td>1119261396</td>\n",
       "      <td>1662899439</td>\n",
       "      <td>['Adventure', 'Animation', 'Drama', 'Family', ...</td>\n",
       "      <td>1 hr 58 min</td>\n",
       "      <td>PG</td>\n",
       "    </tr>\n",
       "    <tr>\n",
       "      <th>5</th>\n",
       "      <td>5</td>\n",
       "      <td>Spider-Man: No Way Home (2021)</td>\n",
       "      <td>With Spider-Man's identity now revealed, Peter...</td>\n",
       "      <td>Sony Pictures Entertainment (SPE)</td>\n",
       "      <td>NaT</td>\n",
       "      <td>675813257</td>\n",
       "      <td>868642706</td>\n",
       "      <td>1544455963</td>\n",
       "      <td>['Action', 'Adventure', 'Fantasy', 'Sci-Fi']</td>\n",
       "      <td>2 hr 28 min</td>\n",
       "      <td>NaN</td>\n",
       "    </tr>\n",
       "    <tr>\n",
       "      <th>8</th>\n",
       "      <td>8</td>\n",
       "      <td>The Avengers (2012)</td>\n",
       "      <td>Earth's mightiest heroes must come together an...</td>\n",
       "      <td>Walt Disney Studios Motion Pictures</td>\n",
       "      <td>2012-04-25</td>\n",
       "      <td>623357910</td>\n",
       "      <td>895457605</td>\n",
       "      <td>1518815515</td>\n",
       "      <td>['Action', 'Adventure', 'Sci-Fi']</td>\n",
       "      <td>2 hr 23 min</td>\n",
       "      <td>PG-13</td>\n",
       "    </tr>\n",
       "    <tr>\n",
       "      <th>54</th>\n",
       "      <td>54</td>\n",
       "      <td>Furious 7 (2015)</td>\n",
       "      <td>Deckard Shaw seeks revenge against Dominic Tor...</td>\n",
       "      <td>Universal Pictures</td>\n",
       "      <td>2015-04-01</td>\n",
       "      <td>353007020</td>\n",
       "      <td>1162334379</td>\n",
       "      <td>1515341399</td>\n",
       "      <td>['Action', 'Thriller']</td>\n",
       "      <td>2 hr 17 min</td>\n",
       "      <td>PG-13</td>\n",
       "    </tr>\n",
       "  </tbody>\n",
       "</table>\n",
       "</div>"
      ],
      "text/plain": [
       "    Unnamed: 0                                              Title  \\\n",
       "2            2                                      Avatar (2009)   \n",
       "1            1                           Avengers: Endgame (2019)   \n",
       "6            6                                     Titanic (1997)   \n",
       "0            0  Star Wars: Episode VII - The Force Awakens (2015)   \n",
       "4            4                      Avengers: Infinity War (2018)   \n",
       "7            7                              Jurassic World (2015)   \n",
       "11          11                               The Lion King (2019)   \n",
       "5            5                     Spider-Man: No Way Home (2021)   \n",
       "8            8                                The Avengers (2012)   \n",
       "54          54                                   Furious 7 (2015)   \n",
       "\n",
       "                                           Movie Info  \\\n",
       "2   A paraplegic Marine dispatched to the moon Pan...   \n",
       "1   After the devastating events of Avengers: Infi...   \n",
       "6   A seventeen-year-old aristocrat falls in love ...   \n",
       "0   As a new threat to the galaxy rises, Rey, a de...   \n",
       "4   The Avengers and their allies must be willing ...   \n",
       "7   A new theme park, built on the original site o...   \n",
       "11  After the murder of his father, a young lion p...   \n",
       "5   With Spider-Man's identity now revealed, Peter...   \n",
       "8   Earth's mightiest heroes must come together an...   \n",
       "54  Deckard Shaw seeks revenge against Dominic Tor...   \n",
       "\n",
       "                            Distributor Release Date  Domestic Sales (in $)  \\\n",
       "2                 Twentieth Century Fox   2009-12-16              760507625   \n",
       "1   Walt Disney Studios Motion Pictures   2019-04-24              858373000   \n",
       "6                    Paramount Pictures   1997-12-19              659363944   \n",
       "0   Walt Disney Studios Motion Pictures   2015-12-16              936662225   \n",
       "4   Walt Disney Studios Motion Pictures          NaT              678815482   \n",
       "7                    Universal Pictures   2015-06-10              652385625   \n",
       "11  Walt Disney Studios Motion Pictures   2019-07-11              543638043   \n",
       "5     Sony Pictures Entertainment (SPE)          NaT              675813257   \n",
       "8   Walt Disney Studios Motion Pictures   2012-04-25              623357910   \n",
       "54                   Universal Pictures   2015-04-01              353007020   \n",
       "\n",
       "    International Sales (in $)  World Sales (in $)  \\\n",
       "2                   2086738578          2847246203   \n",
       "1                   1939128328          2797501328   \n",
       "6                   1542283320          2201647264   \n",
       "0                   1132859475          2069521700   \n",
       "4                   1369544272          2048359754   \n",
       "7                   1018130819          1670516444   \n",
       "11                  1119261396          1662899439   \n",
       "5                    868642706          1544455963   \n",
       "8                    895457605          1518815515   \n",
       "54                  1162334379          1515341399   \n",
       "\n",
       "                                                Genre Movie Runtime License  \n",
       "2        ['Action', 'Adventure', 'Fantasy', 'Sci-Fi']   2 hr 42 min   PG-13  \n",
       "1          ['Action', 'Adventure', 'Drama', 'Sci-Fi']    3 hr 1 min   PG-13  \n",
       "6                                ['Drama', 'Romance']   3 hr 14 min   PG-13  \n",
       "0                   ['Action', 'Adventure', 'Sci-Fi']   2 hr 18 min   PG-13  \n",
       "4                   ['Action', 'Adventure', 'Sci-Fi']   2 hr 29 min     NaN  \n",
       "7                   ['Action', 'Adventure', 'Sci-Fi']    2 hr 4 min   PG-13  \n",
       "11  ['Adventure', 'Animation', 'Drama', 'Family', ...   1 hr 58 min      PG  \n",
       "5        ['Action', 'Adventure', 'Fantasy', 'Sci-Fi']   2 hr 28 min     NaN  \n",
       "8                   ['Action', 'Adventure', 'Sci-Fi']   2 hr 23 min   PG-13  \n",
       "54                             ['Action', 'Thriller']   2 hr 17 min   PG-13  "
      ]
     },
     "execution_count": 253,
     "metadata": {},
     "output_type": "execute_result"
    }
   ],
   "source": [
    "# Indentifying the top 10  movies for more insight on the dataset.\n",
    "hw.sort_values('World Sales (in $)',ascending=False).head(10)"
   ]
  },
  {
   "cell_type": "code",
   "execution_count": 254,
   "id": "4d1682b5-4fd1-4ed0-8c18-a9c84972de26",
   "metadata": {},
   "outputs": [
    {
     "data": {
      "text/html": [
       "<div>\n",
       "<style scoped>\n",
       "    .dataframe tbody tr th:only-of-type {\n",
       "        vertical-align: middle;\n",
       "    }\n",
       "\n",
       "    .dataframe tbody tr th {\n",
       "        vertical-align: top;\n",
       "    }\n",
       "\n",
       "    .dataframe thead th {\n",
       "        text-align: right;\n",
       "    }\n",
       "</style>\n",
       "<table border=\"1\" class=\"dataframe\">\n",
       "  <thead>\n",
       "    <tr style=\"text-align: right;\">\n",
       "      <th></th>\n",
       "      <th>Unnamed: 0</th>\n",
       "      <th>Domestic Sales (in $)</th>\n",
       "      <th>International Sales (in $)</th>\n",
       "      <th>World Sales (in $)</th>\n",
       "    </tr>\n",
       "    <tr>\n",
       "      <th>Distributor</th>\n",
       "      <th></th>\n",
       "      <th></th>\n",
       "      <th></th>\n",
       "      <th></th>\n",
       "    </tr>\n",
       "  </thead>\n",
       "  <tbody>\n",
       "    <tr>\n",
       "      <th>Walt Disney Studios Motion Pictures</th>\n",
       "      <td>58523</td>\n",
       "      <td>34098331657</td>\n",
       "      <td>48781958509</td>\n",
       "      <td>82372098598</td>\n",
       "    </tr>\n",
       "    <tr>\n",
       "      <th>Warner Bros.</th>\n",
       "      <td>71867</td>\n",
       "      <td>25891722993</td>\n",
       "      <td>37741574581</td>\n",
       "      <td>63597493931</td>\n",
       "    </tr>\n",
       "    <tr>\n",
       "      <th>Twentieth Century Fox</th>\n",
       "      <td>52802</td>\n",
       "      <td>19114852793</td>\n",
       "      <td>29338267462</td>\n",
       "      <td>48588894179</td>\n",
       "    </tr>\n",
       "    <tr>\n",
       "      <th>Universal Pictures</th>\n",
       "      <td>53205</td>\n",
       "      <td>19316009134</td>\n",
       "      <td>26232717142</td>\n",
       "      <td>45602644818</td>\n",
       "    </tr>\n",
       "    <tr>\n",
       "      <th>Sony Pictures Entertainment (SPE)</th>\n",
       "      <td>48773</td>\n",
       "      <td>15764875138</td>\n",
       "      <td>21691612943</td>\n",
       "      <td>37456488081</td>\n",
       "    </tr>\n",
       "  </tbody>\n",
       "</table>\n",
       "</div>"
      ],
      "text/plain": [
       "                                     Unnamed: 0  Domestic Sales (in $)  \\\n",
       "Distributor                                                              \n",
       "Walt Disney Studios Motion Pictures       58523            34098331657   \n",
       "Warner Bros.                              71867            25891722993   \n",
       "Twentieth Century Fox                     52802            19114852793   \n",
       "Universal Pictures                        53205            19316009134   \n",
       "Sony Pictures Entertainment (SPE)         48773            15764875138   \n",
       "\n",
       "                                     International Sales (in $)  \\\n",
       "Distributor                                                       \n",
       "Walt Disney Studios Motion Pictures                 48781958509   \n",
       "Warner Bros.                                        37741574581   \n",
       "Twentieth Century Fox                               29338267462   \n",
       "Universal Pictures                                  26232717142   \n",
       "Sony Pictures Entertainment (SPE)                   21691612943   \n",
       "\n",
       "                                     World Sales (in $)  \n",
       "Distributor                                              \n",
       "Walt Disney Studios Motion Pictures         82372098598  \n",
       "Warner Bros.                                63597493931  \n",
       "Twentieth Century Fox                       48588894179  \n",
       "Universal Pictures                          45602644818  \n",
       "Sony Pictures Entertainment (SPE)           37456488081  "
      ]
     },
     "execution_count": 254,
     "metadata": {},
     "output_type": "execute_result"
    }
   ],
   "source": [
    "# identifying top 5 distributors by world sales \n",
    "hw.groupby((['Distributor'])).sum().sort_values(by=(['World Sales (in $)']),ascending=False).head(5)"
   ]
  },
  {
   "cell_type": "code",
   "execution_count": 255,
   "id": "d08f70b9-fd8e-46ba-972e-634cc6e42983",
   "metadata": {},
   "outputs": [
    {
     "data": {
      "text/plain": [
       "Warner Bros.                           158\n",
       "Walt Disney Studios Motion Pictures    155\n",
       "Universal Pictures                     119\n",
       "Twentieth Century Fox                  117\n",
       "Sony Pictures Entertainment (SPE)      101\n",
       "Paramount Pictures                      99\n",
       "DreamWorks                              21\n",
       "New Line Cinema                         21\n",
       "Lionsgate                               19\n",
       "DreamWorks Distribution                 17\n",
       "Metro-Goldwyn-Mayer (MGM)               12\n",
       "TriStar Pictures                         9\n",
       "Miramax                                  9\n",
       "Revolution Studios                       8\n",
       "Columbia Pictures                        7\n",
       "Dimension Films                          7\n",
       "The Weinstein Company                    6\n",
       "Summit Entertainment                     5\n",
       "Fox Searchlight Pictures                 4\n",
       "STX Entertainment                        3\n",
       "Orion Pictures                           3\n",
       "Screen Gems                              3\n",
       "United Artists                           2\n",
       "Focus Features                           2\n",
       "FilmDistrict                             2\n",
       "Relativity Media                         1\n",
       "United Artists Releasing                 1\n",
       "IFC Films                                1\n",
       "20th Century Studios                     1\n",
       "USA Films                                1\n",
       "Sony Pictures Classics                   1\n",
       "Artisan Entertainment                    1\n",
       "Newmarket Films                          1\n",
       "Roadside Attractions                     1\n",
       "Name: Distributor, dtype: int64"
      ]
     },
     "execution_count": 255,
     "metadata": {},
     "output_type": "execute_result"
    }
   ],
   "source": [
    "# Identifying top distributors by volume\n",
    "hw['Distributor'].value_counts()"
   ]
  },
  {
   "cell_type": "code",
   "execution_count": 256,
   "id": "321104c3-5c3d-40aa-ac8b-8e00e703bb44",
   "metadata": {},
   "outputs": [],
   "source": [
    "hw['Genre'] = hw['Genre'].apply(literal_eval)"
   ]
  },
  {
   "cell_type": "code",
   "execution_count": 257,
   "id": "f0daf90b-a838-409e-99df-859ee79d5b44",
   "metadata": {},
   "outputs": [
    {
     "data": {
      "text/plain": [
       "Adventure      432\n",
       "Comedy         399\n",
       "Action         396\n",
       "Drama          300\n",
       "Thriller       230\n",
       "Sci-Fi         228\n",
       "Fantasy        227\n",
       "Family         227\n",
       "Romance        142\n",
       "Animation      140\n",
       "Crime          136\n",
       "Mystery         87\n",
       "Musical         51\n",
       "Horror          45\n",
       "Biography       39\n",
       "Music           33\n",
       "Sport           28\n",
       "War             27\n",
       "History         22\n",
       "Western         14\n",
       "Documentary      2\n",
       "Name: Genre, dtype: int64"
      ]
     },
     "execution_count": 257,
     "metadata": {},
     "output_type": "execute_result"
    }
   ],
   "source": [
    "# Idenifying the types of genres\n",
    "hw1 = hw.explode('Genre')\n",
    "hw1['Genre'].value_counts()"
   ]
  },
  {
   "cell_type": "markdown",
   "id": "2a1be987-f3e9-46cd-af22-f5f5c8253a12",
   "metadata": {},
   "source": [
    "# Analyze:"
   ]
  },
  {
   "cell_type": "markdown",
   "id": "b81755b1-40de-487f-a9f3-b1513f870842",
   "metadata": {},
   "source": [
    "This analysis is showing the top five distributors by the highest world sales."
   ]
  },
  {
   "cell_type": "code",
   "execution_count": 258,
   "id": "dfc687d4-7de5-49e3-98b2-903b464a690c",
   "metadata": {},
   "outputs": [],
   "source": [
    "Top_10DM = hw.groupby((['Distributor', 'Title'])).sum().sort_values(by=(['Distributor', 'Title', 'World Sales (in $)',]) , ascending=False).reset_index()"
   ]
  },
  {
   "cell_type": "code",
   "execution_count": 259,
   "id": "ea171be0-a3da-4096-985c-7a5bf3a8f23d",
   "metadata": {},
   "outputs": [],
   "source": [
    " sony_pictures= Top_10DM.loc[Top_10DM['Distributor'] == 'Sony Pictures Entertainment (SPE)'].sort_values(by='World Sales (in $)', ascending=False).head(10)"
   ]
  },
  {
   "cell_type": "code",
   "execution_count": 260,
   "id": "b5384415-a146-47c6-9faa-4cc71f0378fd",
   "metadata": {},
   "outputs": [
    {
     "data": {
      "text/html": [
       "<div>\n",
       "<style scoped>\n",
       "    .dataframe tbody tr th:only-of-type {\n",
       "        vertical-align: middle;\n",
       "    }\n",
       "\n",
       "    .dataframe tbody tr th {\n",
       "        vertical-align: top;\n",
       "    }\n",
       "\n",
       "    .dataframe thead th {\n",
       "        text-align: right;\n",
       "    }\n",
       "</style>\n",
       "<table border=\"1\" class=\"dataframe\">\n",
       "  <thead>\n",
       "    <tr style=\"text-align: right;\">\n",
       "      <th></th>\n",
       "      <th>Distributor</th>\n",
       "      <th>Title</th>\n",
       "      <th>Unnamed: 0</th>\n",
       "      <th>Domestic Sales (in $)</th>\n",
       "      <th>International Sales (in $)</th>\n",
       "      <th>World Sales (in $)</th>\n",
       "    </tr>\n",
       "  </thead>\n",
       "  <tbody>\n",
       "    <tr>\n",
       "      <th>605</th>\n",
       "      <td>Sony Pictures Entertainment (SPE)</td>\n",
       "      <td>Spider-Man: No Way Home (2021)</td>\n",
       "      <td>5</td>\n",
       "      <td>675813257</td>\n",
       "      <td>868642706</td>\n",
       "      <td>1544455963</td>\n",
       "    </tr>\n",
       "    <tr>\n",
       "      <th>608</th>\n",
       "      <td>Sony Pictures Entertainment (SPE)</td>\n",
       "      <td>Spider-Man: Far from Home (2019)</td>\n",
       "      <td>40</td>\n",
       "      <td>390532085</td>\n",
       "      <td>741395911</td>\n",
       "      <td>1131927996</td>\n",
       "    </tr>\n",
       "    <tr>\n",
       "      <th>614</th>\n",
       "      <td>Sony Pictures Entertainment (SPE)</td>\n",
       "      <td>Skyfall (2012)</td>\n",
       "      <td>86</td>\n",
       "      <td>304360277</td>\n",
       "      <td>804209222</td>\n",
       "      <td>1108569499</td>\n",
       "    </tr>\n",
       "    <tr>\n",
       "      <th>633</th>\n",
       "      <td>Sony Pictures Entertainment (SPE)</td>\n",
       "      <td>Jumanji: Welcome to the Jungle (2017)</td>\n",
       "      <td>36</td>\n",
       "      <td>404540171</td>\n",
       "      <td>558002774</td>\n",
       "      <td>962542945</td>\n",
       "    </tr>\n",
       "    <tr>\n",
       "      <th>609</th>\n",
       "      <td>Sony Pictures Entertainment (SPE)</td>\n",
       "      <td>Spider-Man 3 (2007)</td>\n",
       "      <td>60</td>\n",
       "      <td>336530303</td>\n",
       "      <td>558453070</td>\n",
       "      <td>894983373</td>\n",
       "    </tr>\n",
       "    <tr>\n",
       "      <th>612</th>\n",
       "      <td>Sony Pictures Entertainment (SPE)</td>\n",
       "      <td>Spectre (2015)</td>\n",
       "      <td>217</td>\n",
       "      <td>200074609</td>\n",
       "      <td>680606910</td>\n",
       "      <td>880681519</td>\n",
       "    </tr>\n",
       "    <tr>\n",
       "      <th>607</th>\n",
       "      <td>Sony Pictures Entertainment (SPE)</td>\n",
       "      <td>Spider-Man: Homecoming (2017)</td>\n",
       "      <td>64</td>\n",
       "      <td>334201140</td>\n",
       "      <td>545965784</td>\n",
       "      <td>880166924</td>\n",
       "    </tr>\n",
       "    <tr>\n",
       "      <th>577</th>\n",
       "      <td>Sony Pictures Entertainment (SPE)</td>\n",
       "      <td>Venom (2018)</td>\n",
       "      <td>189</td>\n",
       "      <td>213515506</td>\n",
       "      <td>642569645</td>\n",
       "      <td>856085151</td>\n",
       "    </tr>\n",
       "    <tr>\n",
       "      <th>611</th>\n",
       "      <td>Sony Pictures Entertainment (SPE)</td>\n",
       "      <td>Spider-Man (2002)</td>\n",
       "      <td>35</td>\n",
       "      <td>407022860</td>\n",
       "      <td>418002176</td>\n",
       "      <td>825025036</td>\n",
       "    </tr>\n",
       "    <tr>\n",
       "      <th>634</th>\n",
       "      <td>Sony Pictures Entertainment (SPE)</td>\n",
       "      <td>Jumanji: The Next Level (2019)</td>\n",
       "      <td>73</td>\n",
       "      <td>320314960</td>\n",
       "      <td>479744747</td>\n",
       "      <td>800059707</td>\n",
       "    </tr>\n",
       "  </tbody>\n",
       "</table>\n",
       "</div>"
      ],
      "text/plain": [
       "                           Distributor                                  Title  \\\n",
       "605  Sony Pictures Entertainment (SPE)         Spider-Man: No Way Home (2021)   \n",
       "608  Sony Pictures Entertainment (SPE)       Spider-Man: Far from Home (2019)   \n",
       "614  Sony Pictures Entertainment (SPE)                         Skyfall (2012)   \n",
       "633  Sony Pictures Entertainment (SPE)  Jumanji: Welcome to the Jungle (2017)   \n",
       "609  Sony Pictures Entertainment (SPE)                    Spider-Man 3 (2007)   \n",
       "612  Sony Pictures Entertainment (SPE)                         Spectre (2015)   \n",
       "607  Sony Pictures Entertainment (SPE)          Spider-Man: Homecoming (2017)   \n",
       "577  Sony Pictures Entertainment (SPE)                           Venom (2018)   \n",
       "611  Sony Pictures Entertainment (SPE)                      Spider-Man (2002)   \n",
       "634  Sony Pictures Entertainment (SPE)         Jumanji: The Next Level (2019)   \n",
       "\n",
       "     Unnamed: 0  Domestic Sales (in $)  International Sales (in $)  \\\n",
       "605           5              675813257                   868642706   \n",
       "608          40              390532085                   741395911   \n",
       "614          86              304360277                   804209222   \n",
       "633          36              404540171                   558002774   \n",
       "609          60              336530303                   558453070   \n",
       "612         217              200074609                   680606910   \n",
       "607          64              334201140                   545965784   \n",
       "577         189              213515506                   642569645   \n",
       "611          35              407022860                   418002176   \n",
       "634          73              320314960                   479744747   \n",
       "\n",
       "     World Sales (in $)  \n",
       "605          1544455963  \n",
       "608          1131927996  \n",
       "614          1108569499  \n",
       "633           962542945  \n",
       "609           894983373  \n",
       "612           880681519  \n",
       "607           880166924  \n",
       "577           856085151  \n",
       "611           825025036  \n",
       "634           800059707  "
      ]
     },
     "execution_count": 260,
     "metadata": {},
     "output_type": "execute_result"
    }
   ],
   "source": [
    "sony_pictures.head(10)"
   ]
  },
  {
   "cell_type": "code",
   "execution_count": 261,
   "id": "269ba7a0-d90f-48a6-86c0-dc5bb53e9f5a",
   "metadata": {},
   "outputs": [],
   "source": [
    " universal_pictures= Top_10DM.loc[Top_10DM['Distributor'] == 'Universal Pictures'].sort_values(by='World Sales (in $)', ascending=False).head(10)"
   ]
  },
  {
   "cell_type": "markdown",
   "id": "6f1c412c-9706-481a-bdbd-86e2250aacba",
   "metadata": {},
   "source": [
    "This table shows the top 10 movies for Sony pictures. Spider-man no way home leads as the highest grossing movie for the company. However, the sales internationally beats domestic sales by a good margin."
   ]
  },
  {
   "cell_type": "code",
   "execution_count": 262,
   "id": "3550fdc5-74c1-4481-8b92-d258873de46b",
   "metadata": {},
   "outputs": [
    {
     "data": {
      "text/html": [
       "<div>\n",
       "<style scoped>\n",
       "    .dataframe tbody tr th:only-of-type {\n",
       "        vertical-align: middle;\n",
       "    }\n",
       "\n",
       "    .dataframe tbody tr th {\n",
       "        vertical-align: top;\n",
       "    }\n",
       "\n",
       "    .dataframe thead th {\n",
       "        text-align: right;\n",
       "    }\n",
       "</style>\n",
       "<table border=\"1\" class=\"dataframe\">\n",
       "  <thead>\n",
       "    <tr style=\"text-align: right;\">\n",
       "      <th></th>\n",
       "      <th>Distributor</th>\n",
       "      <th>Title</th>\n",
       "      <th>Unnamed: 0</th>\n",
       "      <th>Domestic Sales (in $)</th>\n",
       "      <th>International Sales (in $)</th>\n",
       "      <th>World Sales (in $)</th>\n",
       "    </tr>\n",
       "  </thead>\n",
       "  <tbody>\n",
       "    <tr>\n",
       "      <th>379</th>\n",
       "      <td>Universal Pictures</td>\n",
       "      <td>Jurassic World (2015)</td>\n",
       "      <td>7</td>\n",
       "      <td>652385625</td>\n",
       "      <td>1018130819</td>\n",
       "      <td>1670516444</td>\n",
       "    </tr>\n",
       "    <tr>\n",
       "      <th>398</th>\n",
       "      <td>Universal Pictures</td>\n",
       "      <td>Furious 7 (2015)</td>\n",
       "      <td>54</td>\n",
       "      <td>353007020</td>\n",
       "      <td>1162334379</td>\n",
       "      <td>1515341399</td>\n",
       "    </tr>\n",
       "    <tr>\n",
       "      <th>378</th>\n",
       "      <td>Universal Pictures</td>\n",
       "      <td>Jurassic World: Fallen Kingdom (2018)</td>\n",
       "      <td>29</td>\n",
       "      <td>417719760</td>\n",
       "      <td>892746536</td>\n",
       "      <td>1310466296</td>\n",
       "    </tr>\n",
       "    <tr>\n",
       "      <th>332</th>\n",
       "      <td>Universal Pictures</td>\n",
       "      <td>The Fate of the Furious (2017)</td>\n",
       "      <td>163</td>\n",
       "      <td>226008385</td>\n",
       "      <td>1009996733</td>\n",
       "      <td>1236005118</td>\n",
       "    </tr>\n",
       "    <tr>\n",
       "      <th>365</th>\n",
       "      <td>Universal Pictures</td>\n",
       "      <td>Minions (2015)</td>\n",
       "      <td>61</td>\n",
       "      <td>336045770</td>\n",
       "      <td>823398892</td>\n",
       "      <td>1159444662</td>\n",
       "    </tr>\n",
       "    <tr>\n",
       "      <th>411</th>\n",
       "      <td>Universal Pictures</td>\n",
       "      <td>Despicable Me 3 (2017)</td>\n",
       "      <td>113</td>\n",
       "      <td>264624300</td>\n",
       "      <td>770175831</td>\n",
       "      <td>1034800131</td>\n",
       "    </tr>\n",
       "    <tr>\n",
       "      <th>381</th>\n",
       "      <td>Universal Pictures</td>\n",
       "      <td>Jurassic Park (1993)</td>\n",
       "      <td>37</td>\n",
       "      <td>404214720</td>\n",
       "      <td>629713583</td>\n",
       "      <td>1033928303</td>\n",
       "    </tr>\n",
       "    <tr>\n",
       "      <th>412</th>\n",
       "      <td>Universal Pictures</td>\n",
       "      <td>Despicable Me 2 (2013)</td>\n",
       "      <td>49</td>\n",
       "      <td>368065385</td>\n",
       "      <td>602700620</td>\n",
       "      <td>970766005</td>\n",
       "    </tr>\n",
       "    <tr>\n",
       "      <th>321</th>\n",
       "      <td>Universal Pictures</td>\n",
       "      <td>The Secret Life of Pets (2016)</td>\n",
       "      <td>48</td>\n",
       "      <td>368384330</td>\n",
       "      <td>507074301</td>\n",
       "      <td>875458631</td>\n",
       "    </tr>\n",
       "    <tr>\n",
       "      <th>409</th>\n",
       "      <td>Universal Pictures</td>\n",
       "      <td>E.T. the Extra-Terrestrial (1982)</td>\n",
       "      <td>23</td>\n",
       "      <td>435110554</td>\n",
       "      <td>304203888</td>\n",
       "      <td>792910554</td>\n",
       "    </tr>\n",
       "  </tbody>\n",
       "</table>\n",
       "</div>"
      ],
      "text/plain": [
       "            Distributor                                  Title  Unnamed: 0  \\\n",
       "379  Universal Pictures                  Jurassic World (2015)           7   \n",
       "398  Universal Pictures                       Furious 7 (2015)          54   \n",
       "378  Universal Pictures  Jurassic World: Fallen Kingdom (2018)          29   \n",
       "332  Universal Pictures         The Fate of the Furious (2017)         163   \n",
       "365  Universal Pictures                         Minions (2015)          61   \n",
       "411  Universal Pictures                 Despicable Me 3 (2017)         113   \n",
       "381  Universal Pictures                   Jurassic Park (1993)          37   \n",
       "412  Universal Pictures                 Despicable Me 2 (2013)          49   \n",
       "321  Universal Pictures         The Secret Life of Pets (2016)          48   \n",
       "409  Universal Pictures      E.T. the Extra-Terrestrial (1982)          23   \n",
       "\n",
       "     Domestic Sales (in $)  International Sales (in $)  World Sales (in $)  \n",
       "379              652385625                  1018130819          1670516444  \n",
       "398              353007020                  1162334379          1515341399  \n",
       "378              417719760                   892746536          1310466296  \n",
       "332              226008385                  1009996733          1236005118  \n",
       "365              336045770                   823398892          1159444662  \n",
       "411              264624300                   770175831          1034800131  \n",
       "381              404214720                   629713583          1033928303  \n",
       "412              368065385                   602700620           970766005  \n",
       "321              368384330                   507074301           875458631  \n",
       "409              435110554                   304203888           792910554  "
      ]
     },
     "execution_count": 262,
     "metadata": {},
     "output_type": "execute_result"
    }
   ],
   "source": [
    "universal_pictures.head(10)"
   ]
  },
  {
   "cell_type": "markdown",
   "id": "57b4bbb5-5a7a-4c0a-a1bf-751b6bf9443e",
   "metadata": {},
   "source": [
    "This table shows the top 10 movies for Universal pictures. The highest grossing movie for this company is Jurassic world. The sales internationally were Significantly higher than domestic sales."
   ]
  },
  {
   "cell_type": "code",
   "execution_count": 263,
   "id": "dddf6075-02ef-41d1-a300-5928a43224d1",
   "metadata": {},
   "outputs": [],
   "source": [
    "walt_disney = Top_10DM.loc[Top_10DM['Distributor'] == 'Walt Disney Studios Motion Pictures'].sort_values(by='World Sales (in $)', ascending=False).head(10)"
   ]
  },
  {
   "cell_type": "code",
   "execution_count": 264,
   "id": "479cf92e-adcb-41d7-a67d-f2041a40692e",
   "metadata": {},
   "outputs": [
    {
     "data": {
      "text/html": [
       "<div>\n",
       "<style scoped>\n",
       "    .dataframe tbody tr th:only-of-type {\n",
       "        vertical-align: middle;\n",
       "    }\n",
       "\n",
       "    .dataframe tbody tr th {\n",
       "        vertical-align: top;\n",
       "    }\n",
       "\n",
       "    .dataframe thead th {\n",
       "        text-align: right;\n",
       "    }\n",
       "</style>\n",
       "<table border=\"1\" class=\"dataframe\">\n",
       "  <thead>\n",
       "    <tr style=\"text-align: right;\">\n",
       "      <th></th>\n",
       "      <th>Distributor</th>\n",
       "      <th>Title</th>\n",
       "      <th>Unnamed: 0</th>\n",
       "      <th>Domestic Sales (in $)</th>\n",
       "      <th>International Sales (in $)</th>\n",
       "      <th>World Sales (in $)</th>\n",
       "    </tr>\n",
       "  </thead>\n",
       "  <tbody>\n",
       "    <tr>\n",
       "      <th>301</th>\n",
       "      <td>Walt Disney Studios Motion Pictures</td>\n",
       "      <td>Avengers: Endgame (2019)</td>\n",
       "      <td>1</td>\n",
       "      <td>858373000</td>\n",
       "      <td>1939128328</td>\n",
       "      <td>2797501328</td>\n",
       "    </tr>\n",
       "    <tr>\n",
       "      <th>205</th>\n",
       "      <td>Walt Disney Studios Motion Pictures</td>\n",
       "      <td>Star Wars: Episode VII - The Force Awakens (2015)</td>\n",
       "      <td>0</td>\n",
       "      <td>936662225</td>\n",
       "      <td>1132859475</td>\n",
       "      <td>2069521700</td>\n",
       "    </tr>\n",
       "    <tr>\n",
       "      <th>300</th>\n",
       "      <td>Walt Disney Studios Motion Pictures</td>\n",
       "      <td>Avengers: Infinity War (2018)</td>\n",
       "      <td>4</td>\n",
       "      <td>678815482</td>\n",
       "      <td>1369544272</td>\n",
       "      <td>2048359754</td>\n",
       "    </tr>\n",
       "    <tr>\n",
       "      <th>187</th>\n",
       "      <td>Walt Disney Studios Motion Pictures</td>\n",
       "      <td>The Lion King (2019)</td>\n",
       "      <td>11</td>\n",
       "      <td>543638043</td>\n",
       "      <td>1119261396</td>\n",
       "      <td>1662899439</td>\n",
       "    </tr>\n",
       "    <tr>\n",
       "      <th>199</th>\n",
       "      <td>Walt Disney Studios Motion Pictures</td>\n",
       "      <td>The Avengers (2012)</td>\n",
       "      <td>8</td>\n",
       "      <td>623357910</td>\n",
       "      <td>895457605</td>\n",
       "      <td>1518815515</td>\n",
       "    </tr>\n",
       "    <tr>\n",
       "      <th>259</th>\n",
       "      <td>Walt Disney Studios Motion Pictures</td>\n",
       "      <td>Frozen II (2019)</td>\n",
       "      <td>17</td>\n",
       "      <td>477373578</td>\n",
       "      <td>972653355</td>\n",
       "      <td>1450026933</td>\n",
       "    </tr>\n",
       "    <tr>\n",
       "      <th>302</th>\n",
       "      <td>Walt Disney Studios Motion Pictures</td>\n",
       "      <td>Avengers: Age of Ultron (2015)</td>\n",
       "      <td>20</td>\n",
       "      <td>459005868</td>\n",
       "      <td>943803672</td>\n",
       "      <td>1402809540</td>\n",
       "    </tr>\n",
       "    <tr>\n",
       "      <th>294</th>\n",
       "      <td>Walt Disney Studios Motion Pictures</td>\n",
       "      <td>Black Panther (2018)</td>\n",
       "      <td>3</td>\n",
       "      <td>700426566</td>\n",
       "      <td>647171407</td>\n",
       "      <td>1347597973</td>\n",
       "    </tr>\n",
       "    <tr>\n",
       "      <th>204</th>\n",
       "      <td>Walt Disney Studios Motion Pictures</td>\n",
       "      <td>Star Wars: Episode VIII - The Last Jedi (2017)</td>\n",
       "      <td>9</td>\n",
       "      <td>620181382</td>\n",
       "      <td>712517448</td>\n",
       "      <td>1332698830</td>\n",
       "    </tr>\n",
       "    <tr>\n",
       "      <th>260</th>\n",
       "      <td>Walt Disney Studios Motion Pictures</td>\n",
       "      <td>Frozen (2013)</td>\n",
       "      <td>39</td>\n",
       "      <td>400953009</td>\n",
       "      <td>880555091</td>\n",
       "      <td>1281508100</td>\n",
       "    </tr>\n",
       "  </tbody>\n",
       "</table>\n",
       "</div>"
      ],
      "text/plain": [
       "                             Distributor  \\\n",
       "301  Walt Disney Studios Motion Pictures   \n",
       "205  Walt Disney Studios Motion Pictures   \n",
       "300  Walt Disney Studios Motion Pictures   \n",
       "187  Walt Disney Studios Motion Pictures   \n",
       "199  Walt Disney Studios Motion Pictures   \n",
       "259  Walt Disney Studios Motion Pictures   \n",
       "302  Walt Disney Studios Motion Pictures   \n",
       "294  Walt Disney Studios Motion Pictures   \n",
       "204  Walt Disney Studios Motion Pictures   \n",
       "260  Walt Disney Studios Motion Pictures   \n",
       "\n",
       "                                                 Title  Unnamed: 0  \\\n",
       "301                           Avengers: Endgame (2019)           1   \n",
       "205  Star Wars: Episode VII - The Force Awakens (2015)           0   \n",
       "300                      Avengers: Infinity War (2018)           4   \n",
       "187                               The Lion King (2019)          11   \n",
       "199                                The Avengers (2012)           8   \n",
       "259                                   Frozen II (2019)          17   \n",
       "302                     Avengers: Age of Ultron (2015)          20   \n",
       "294                               Black Panther (2018)           3   \n",
       "204     Star Wars: Episode VIII - The Last Jedi (2017)           9   \n",
       "260                                      Frozen (2013)          39   \n",
       "\n",
       "     Domestic Sales (in $)  International Sales (in $)  World Sales (in $)  \n",
       "301              858373000                  1939128328          2797501328  \n",
       "205              936662225                  1132859475          2069521700  \n",
       "300              678815482                  1369544272          2048359754  \n",
       "187              543638043                  1119261396          1662899439  \n",
       "199              623357910                   895457605          1518815515  \n",
       "259              477373578                   972653355          1450026933  \n",
       "302              459005868                   943803672          1402809540  \n",
       "294              700426566                   647171407          1347597973  \n",
       "204              620181382                   712517448          1332698830  \n",
       "260              400953009                   880555091          1281508100  "
      ]
     },
     "execution_count": 264,
     "metadata": {},
     "output_type": "execute_result"
    }
   ],
   "source": [
    "walt_disney.head(10)"
   ]
  },
  {
   "cell_type": "markdown",
   "id": "d1f56281-b7c2-4291-877b-d1449efcfe90",
   "metadata": {},
   "source": [
    "This table shows the top 10 movies for Walt Disney. Avengers endgame leads as the highest grossing movie for this company. International sales doubles the amount in domestic sales. This shows that the movie had an outstanding response from the public."
   ]
  },
  {
   "cell_type": "code",
   "execution_count": 265,
   "id": "8dccb2e7-dbe1-43de-ac4f-ba09c67956a1",
   "metadata": {},
   "outputs": [],
   "source": [
    "warner_bros = Top_10DM.loc[Top_10DM['Distributor'] == 'Warner Bros.'].sort_values(by='World Sales (in $)', ascending=False).head(10)"
   ]
  },
  {
   "cell_type": "code",
   "execution_count": 266,
   "id": "f4e72cdf-2e6a-42a0-8cf9-7db3016ccade",
   "metadata": {},
   "outputs": [
    {
     "data": {
      "text/html": [
       "<div>\n",
       "<style scoped>\n",
       "    .dataframe tbody tr th:only-of-type {\n",
       "        vertical-align: middle;\n",
       "    }\n",
       "\n",
       "    .dataframe tbody tr th {\n",
       "        vertical-align: top;\n",
       "    }\n",
       "\n",
       "    .dataframe thead th {\n",
       "        text-align: right;\n",
       "    }\n",
       "</style>\n",
       "<table border=\"1\" class=\"dataframe\">\n",
       "  <thead>\n",
       "    <tr style=\"text-align: right;\">\n",
       "      <th></th>\n",
       "      <th>Distributor</th>\n",
       "      <th>Title</th>\n",
       "      <th>Unnamed: 0</th>\n",
       "      <th>Domestic Sales (in $)</th>\n",
       "      <th>International Sales (in $)</th>\n",
       "      <th>World Sales (in $)</th>\n",
       "    </tr>\n",
       "  </thead>\n",
       "  <tbody>\n",
       "    <tr>\n",
       "      <th>108</th>\n",
       "      <td>Warner Bros.</td>\n",
       "      <td>Harry Potter and the Deathly Hallows: Part 2 (...</td>\n",
       "      <td>42</td>\n",
       "      <td>381409310</td>\n",
       "      <td>960912354</td>\n",
       "      <td>1342321665</td>\n",
       "    </tr>\n",
       "    <tr>\n",
       "      <th>146</th>\n",
       "      <td>Warner Bros.</td>\n",
       "      <td>Aquaman (2018)</td>\n",
       "      <td>63</td>\n",
       "      <td>335061807</td>\n",
       "      <td>813424079</td>\n",
       "      <td>1148485886</td>\n",
       "    </tr>\n",
       "    <tr>\n",
       "      <th>40</th>\n",
       "      <td>Warner Bros.</td>\n",
       "      <td>The Dark Knight Rises (2012)</td>\n",
       "      <td>21</td>\n",
       "      <td>448139099</td>\n",
       "      <td>633003513</td>\n",
       "      <td>1081142612</td>\n",
       "    </tr>\n",
       "    <tr>\n",
       "      <th>95</th>\n",
       "      <td>Warner Bros.</td>\n",
       "      <td>Joker (2019)</td>\n",
       "      <td>62</td>\n",
       "      <td>335451311</td>\n",
       "      <td>738968073</td>\n",
       "      <td>1074419384</td>\n",
       "    </tr>\n",
       "    <tr>\n",
       "      <th>31</th>\n",
       "      <td>Warner Bros.</td>\n",
       "      <td>The Hobbit: An Unexpected Journey (2012)</td>\n",
       "      <td>87</td>\n",
       "      <td>303003568</td>\n",
       "      <td>714000000</td>\n",
       "      <td>1017003568</td>\n",
       "    </tr>\n",
       "    <tr>\n",
       "      <th>103</th>\n",
       "      <td>Warner Bros.</td>\n",
       "      <td>Harry Potter and the Sorcerer's Stone (2001)</td>\n",
       "      <td>76</td>\n",
       "      <td>318087620</td>\n",
       "      <td>698725454</td>\n",
       "      <td>1016813075</td>\n",
       "    </tr>\n",
       "    <tr>\n",
       "      <th>41</th>\n",
       "      <td>Warner Bros.</td>\n",
       "      <td>The Dark Knight (2008)</td>\n",
       "      <td>12</td>\n",
       "      <td>534858444</td>\n",
       "      <td>471115201</td>\n",
       "      <td>1005973645</td>\n",
       "    </tr>\n",
       "    <tr>\n",
       "      <th>109</th>\n",
       "      <td>Warner Bros.</td>\n",
       "      <td>Harry Potter and the Deathly Hallows: Part 1 (...</td>\n",
       "      <td>91</td>\n",
       "      <td>296347721</td>\n",
       "      <td>680695761</td>\n",
       "      <td>977043483</td>\n",
       "    </tr>\n",
       "    <tr>\n",
       "      <th>30</th>\n",
       "      <td>Warner Bros.</td>\n",
       "      <td>The Hobbit: The Battle of the Five Armies (2014)</td>\n",
       "      <td>125</td>\n",
       "      <td>255119788</td>\n",
       "      <td>707063077</td>\n",
       "      <td>962182865</td>\n",
       "    </tr>\n",
       "    <tr>\n",
       "      <th>29</th>\n",
       "      <td>Warner Bros.</td>\n",
       "      <td>The Hobbit: The Desolation of Smaug (2013)</td>\n",
       "      <td>120</td>\n",
       "      <td>258366855</td>\n",
       "      <td>700640658</td>\n",
       "      <td>959007513</td>\n",
       "    </tr>\n",
       "  </tbody>\n",
       "</table>\n",
       "</div>"
      ],
      "text/plain": [
       "      Distributor                                              Title  \\\n",
       "108  Warner Bros.  Harry Potter and the Deathly Hallows: Part 2 (...   \n",
       "146  Warner Bros.                                     Aquaman (2018)   \n",
       "40   Warner Bros.                       The Dark Knight Rises (2012)   \n",
       "95   Warner Bros.                                       Joker (2019)   \n",
       "31   Warner Bros.           The Hobbit: An Unexpected Journey (2012)   \n",
       "103  Warner Bros.       Harry Potter and the Sorcerer's Stone (2001)   \n",
       "41   Warner Bros.                             The Dark Knight (2008)   \n",
       "109  Warner Bros.  Harry Potter and the Deathly Hallows: Part 1 (...   \n",
       "30   Warner Bros.   The Hobbit: The Battle of the Five Armies (2014)   \n",
       "29   Warner Bros.         The Hobbit: The Desolation of Smaug (2013)   \n",
       "\n",
       "     Unnamed: 0  Domestic Sales (in $)  International Sales (in $)  \\\n",
       "108          42              381409310                   960912354   \n",
       "146          63              335061807                   813424079   \n",
       "40           21              448139099                   633003513   \n",
       "95           62              335451311                   738968073   \n",
       "31           87              303003568                   714000000   \n",
       "103          76              318087620                   698725454   \n",
       "41           12              534858444                   471115201   \n",
       "109          91              296347721                   680695761   \n",
       "30          125              255119788                   707063077   \n",
       "29          120              258366855                   700640658   \n",
       "\n",
       "     World Sales (in $)  \n",
       "108          1342321665  \n",
       "146          1148485886  \n",
       "40           1081142612  \n",
       "95           1074419384  \n",
       "31           1017003568  \n",
       "103          1016813075  \n",
       "41           1005973645  \n",
       "109           977043483  \n",
       "30            962182865  \n",
       "29            959007513  "
      ]
     },
     "execution_count": 266,
     "metadata": {},
     "output_type": "execute_result"
    }
   ],
   "source": [
    "warner_bros.head(10)"
   ]
  },
  {
   "cell_type": "markdown",
   "id": "be7fb749-f5ad-442e-a1d7-eed96525b471",
   "metadata": {},
   "source": [
    "This table shows the top 10 movies for Warner Bros. Harry Potter and the Deathly Hallows: Part 2 was the highest grossing movie for this company. This movie also doubles its sales Internationally over domestically."
   ]
  },
  {
   "cell_type": "code",
   "execution_count": 267,
   "id": "ef94201a-ebf1-4a8a-bae5-6b96f97741ac",
   "metadata": {},
   "outputs": [],
   "source": [
    "Twentieth_fox = Top_10DM.loc[Top_10DM['Distributor'] == 'Twentieth Century Fox'].sort_values(by='World Sales (in $)', ascending=False).head(10)"
   ]
  },
  {
   "cell_type": "code",
   "execution_count": 268,
   "id": "40d3dd87-0693-42a7-80d9-1b5fe5d55447",
   "metadata": {},
   "outputs": [
    {
     "data": {
      "text/html": [
       "<div>\n",
       "<style scoped>\n",
       "    .dataframe tbody tr th:only-of-type {\n",
       "        vertical-align: middle;\n",
       "    }\n",
       "\n",
       "    .dataframe tbody tr th {\n",
       "        vertical-align: top;\n",
       "    }\n",
       "\n",
       "    .dataframe thead th {\n",
       "        text-align: right;\n",
       "    }\n",
       "</style>\n",
       "<table border=\"1\" class=\"dataframe\">\n",
       "  <thead>\n",
       "    <tr style=\"text-align: right;\">\n",
       "      <th></th>\n",
       "      <th>Distributor</th>\n",
       "      <th>Title</th>\n",
       "      <th>Unnamed: 0</th>\n",
       "      <th>Domestic Sales (in $)</th>\n",
       "      <th>International Sales (in $)</th>\n",
       "      <th>World Sales (in $)</th>\n",
       "    </tr>\n",
       "  </thead>\n",
       "  <tbody>\n",
       "    <tr>\n",
       "      <th>545</th>\n",
       "      <td>Twentieth Century Fox</td>\n",
       "      <td>Avatar (2009)</td>\n",
       "      <td>2</td>\n",
       "      <td>760507625</td>\n",
       "      <td>2086738578</td>\n",
       "      <td>2847246203</td>\n",
       "    </tr>\n",
       "    <tr>\n",
       "      <th>475</th>\n",
       "      <td>Twentieth Century Fox</td>\n",
       "      <td>Star Wars: Episode I - The Phantom Menace (1999)</td>\n",
       "      <td>18</td>\n",
       "      <td>474544677</td>\n",
       "      <td>552538030</td>\n",
       "      <td>1027082707</td>\n",
       "    </tr>\n",
       "    <tr>\n",
       "      <th>543</th>\n",
       "      <td>Twentieth Century Fox</td>\n",
       "      <td>Bohemian Rhapsody (2018)</td>\n",
       "      <td>180</td>\n",
       "      <td>216668042</td>\n",
       "      <td>694141269</td>\n",
       "      <td>910809311</td>\n",
       "    </tr>\n",
       "    <tr>\n",
       "      <th>511</th>\n",
       "      <td>Twentieth Century Fox</td>\n",
       "      <td>Ice Age: Dawn of the Dinosaurs (2009)</td>\n",
       "      <td>222</td>\n",
       "      <td>196573705</td>\n",
       "      <td>690113112</td>\n",
       "      <td>886686817</td>\n",
       "    </tr>\n",
       "    <tr>\n",
       "      <th>512</th>\n",
       "      <td>Twentieth Century Fox</td>\n",
       "      <td>Ice Age: Continental Drift (2012)</td>\n",
       "      <td>330</td>\n",
       "      <td>161321843</td>\n",
       "      <td>715922939</td>\n",
       "      <td>877244782</td>\n",
       "    </tr>\n",
       "    <tr>\n",
       "      <th>473</th>\n",
       "      <td>Twentieth Century Fox</td>\n",
       "      <td>Star Wars: Episode III - Revenge of the Sith (...</td>\n",
       "      <td>44</td>\n",
       "      <td>380270577</td>\n",
       "      <td>488119983</td>\n",
       "      <td>868390560</td>\n",
       "    </tr>\n",
       "    <tr>\n",
       "      <th>509</th>\n",
       "      <td>Twentieth Century Fox</td>\n",
       "      <td>Independence Day (1996)</td>\n",
       "      <td>84</td>\n",
       "      <td>306169268</td>\n",
       "      <td>511231623</td>\n",
       "      <td>817400891</td>\n",
       "    </tr>\n",
       "    <tr>\n",
       "      <th>534</th>\n",
       "      <td>Twentieth Century Fox</td>\n",
       "      <td>Deadpool 2 (2018)</td>\n",
       "      <td>71</td>\n",
       "      <td>324591735</td>\n",
       "      <td>461304874</td>\n",
       "      <td>785896609</td>\n",
       "    </tr>\n",
       "    <tr>\n",
       "      <th>535</th>\n",
       "      <td>Twentieth Century Fox</td>\n",
       "      <td>Deadpool (2016)</td>\n",
       "      <td>51</td>\n",
       "      <td>363070709</td>\n",
       "      <td>419766082</td>\n",
       "      <td>782836791</td>\n",
       "    </tr>\n",
       "    <tr>\n",
       "      <th>472</th>\n",
       "      <td>Twentieth Century Fox</td>\n",
       "      <td>Star Wars: Episode IV - A New Hope (1977)</td>\n",
       "      <td>19</td>\n",
       "      <td>460998507</td>\n",
       "      <td>195751992</td>\n",
       "      <td>775398007</td>\n",
       "    </tr>\n",
       "  </tbody>\n",
       "</table>\n",
       "</div>"
      ],
      "text/plain": [
       "               Distributor                                              Title  \\\n",
       "545  Twentieth Century Fox                                      Avatar (2009)   \n",
       "475  Twentieth Century Fox   Star Wars: Episode I - The Phantom Menace (1999)   \n",
       "543  Twentieth Century Fox                           Bohemian Rhapsody (2018)   \n",
       "511  Twentieth Century Fox              Ice Age: Dawn of the Dinosaurs (2009)   \n",
       "512  Twentieth Century Fox                  Ice Age: Continental Drift (2012)   \n",
       "473  Twentieth Century Fox  Star Wars: Episode III - Revenge of the Sith (...   \n",
       "509  Twentieth Century Fox                            Independence Day (1996)   \n",
       "534  Twentieth Century Fox                                  Deadpool 2 (2018)   \n",
       "535  Twentieth Century Fox                                    Deadpool (2016)   \n",
       "472  Twentieth Century Fox          Star Wars: Episode IV - A New Hope (1977)   \n",
       "\n",
       "     Unnamed: 0  Domestic Sales (in $)  International Sales (in $)  \\\n",
       "545           2              760507625                  2086738578   \n",
       "475          18              474544677                   552538030   \n",
       "543         180              216668042                   694141269   \n",
       "511         222              196573705                   690113112   \n",
       "512         330              161321843                   715922939   \n",
       "473          44              380270577                   488119983   \n",
       "509          84              306169268                   511231623   \n",
       "534          71              324591735                   461304874   \n",
       "535          51              363070709                   419766082   \n",
       "472          19              460998507                   195751992   \n",
       "\n",
       "     World Sales (in $)  \n",
       "545          2847246203  \n",
       "475          1027082707  \n",
       "543           910809311  \n",
       "511           886686817  \n",
       "512           877244782  \n",
       "473           868390560  \n",
       "509           817400891  \n",
       "534           785896609  \n",
       "535           782836791  \n",
       "472           775398007  "
      ]
     },
     "execution_count": 268,
     "metadata": {},
     "output_type": "execute_result"
    }
   ],
   "source": [
    "Twentieth_fox.head(10)"
   ]
  },
  {
   "cell_type": "markdown",
   "id": "d32737fe-19c3-428a-b0cd-ee1fbd3814e2",
   "metadata": {},
   "source": [
    "This table shows the top 10 movies for Twentieth Century Fox. The highest grossing movie for this company is Avatar. This is known as the highest grossing movie of all time with over two billion dollars in world sales."
   ]
  },
  {
   "cell_type": "markdown",
   "id": "dfbfb238-2326-4a63-9041-5fc6182623ac",
   "metadata": {},
   "source": [
    "\n"
   ]
  },
  {
   "cell_type": "code",
   "execution_count": 269,
   "id": "d482c2a9-e4bc-4d0e-95fa-e727658e5ed1",
   "metadata": {
    "tags": []
   },
   "outputs": [],
   "source": [
    "def top_10_mov(company):\n",
    "    Top_M = hw1.groupby((['Distributor', 'Title','Genre'])).sum().sort_values(by=(['Distributor', 'Title', 'World Sales (in $)',]) , ascending=False).reset_index()\n",
    "    df = Top_M.loc[Top_M['Distributor'] == company].sort_values(by='World Sales (in $)', ascending=False)\n",
    "    df = df.explode('Genre')\n",
    "    df = df.groupby((['Distributor','Genre'])).sum().sort_values(by=(['World Sales (in $)']) , ascending=False).reset_index()\n",
    "    #hw['Genre'] = hw['Genre'].apply(literal_eval)\n",
    "    #df = df.groupby((['Distributor','Genre'])).count().sort_values(by=([ 'Unnamed: 0']) , ascending=False)#.reset_index()\n",
    "    df = df.drop(labels='Unnamed: 0', axis=1)\n",
    "    fig = px.bar(df, x='Genre', y='World Sales (in $)',color=\"Genre\",title=f'Top Grossing Genres For {company}',)\n",
    "    fig.show() \n",
    "    return df.head(10)"
   ]
  },
  {
   "cell_type": "markdown",
   "id": "b35a505d-658a-4430-9c6e-f068ca9c6b46",
   "metadata": {},
   "source": [
    "# Share:"
   ]
  },
  {
   "cell_type": "markdown",
   "id": "8c0d4843-608f-483b-a810-214e0c41750b",
   "metadata": {},
   "source": [
    "These bar charts show the most popular genres in each company"
   ]
  },
  {
   "cell_type": "code",
   "execution_count": 270,
   "id": "24b11278-756a-4051-ad6f-59c6c3ff47e3",
   "metadata": {},
   "outputs": [
    {
     "data": {
      "application/vnd.plotly.v1+json": {
       "config": {
        "plotlyServerURL": "https://plot.ly"
       },
       "data": [
        {
         "alignmentgroup": "True",
         "hovertemplate": "Genre=%{x}<br>World Sales (in $)=%{y}<extra></extra>",
         "legendgroup": "Adventure",
         "marker": {
          "color": "#636efa",
          "pattern": {
           "shape": ""
          }
         },
         "name": "Adventure",
         "offsetgroup": "Adventure",
         "orientation": "v",
         "showlegend": true,
         "textposition": "auto",
         "type": "bar",
         "x": [
          "Adventure"
         ],
         "xaxis": "x",
         "y": [
          72600836341
         ],
         "yaxis": "y"
        },
        {
         "alignmentgroup": "True",
         "hovertemplate": "Genre=%{x}<br>World Sales (in $)=%{y}<extra></extra>",
         "legendgroup": "Family",
         "marker": {
          "color": "#EF553B",
          "pattern": {
           "shape": ""
          }
         },
         "name": "Family",
         "offsetgroup": "Family",
         "orientation": "v",
         "showlegend": true,
         "textposition": "auto",
         "type": "bar",
         "x": [
          "Family"
         ],
         "xaxis": "x",
         "y": [
          42150029087
         ],
         "yaxis": "y"
        },
        {
         "alignmentgroup": "True",
         "hovertemplate": "Genre=%{x}<br>World Sales (in $)=%{y}<extra></extra>",
         "legendgroup": "Action",
         "marker": {
          "color": "#00cc96",
          "pattern": {
           "shape": ""
          }
         },
         "name": "Action",
         "offsetgroup": "Action",
         "orientation": "v",
         "showlegend": true,
         "textposition": "auto",
         "type": "bar",
         "x": [
          "Action"
         ],
         "xaxis": "x",
         "y": [
          39347660387
         ],
         "yaxis": "y"
        },
        {
         "alignmentgroup": "True",
         "hovertemplate": "Genre=%{x}<br>World Sales (in $)=%{y}<extra></extra>",
         "legendgroup": "Fantasy",
         "marker": {
          "color": "#ab63fa",
          "pattern": {
           "shape": ""
          }
         },
         "name": "Fantasy",
         "offsetgroup": "Fantasy",
         "orientation": "v",
         "showlegend": true,
         "textposition": "auto",
         "type": "bar",
         "x": [
          "Fantasy"
         ],
         "xaxis": "x",
         "y": [
          37666758410
         ],
         "yaxis": "y"
        },
        {
         "alignmentgroup": "True",
         "hovertemplate": "Genre=%{x}<br>World Sales (in $)=%{y}<extra></extra>",
         "legendgroup": "Comedy",
         "marker": {
          "color": "#FFA15A",
          "pattern": {
           "shape": ""
          }
         },
         "name": "Comedy",
         "offsetgroup": "Comedy",
         "orientation": "v",
         "showlegend": true,
         "textposition": "auto",
         "type": "bar",
         "x": [
          "Comedy"
         ],
         "xaxis": "x",
         "y": [
          35025433791
         ],
         "yaxis": "y"
        },
        {
         "alignmentgroup": "True",
         "hovertemplate": "Genre=%{x}<br>World Sales (in $)=%{y}<extra></extra>",
         "legendgroup": "Sci-Fi",
         "marker": {
          "color": "#19d3f3",
          "pattern": {
           "shape": ""
          }
         },
         "name": "Sci-Fi",
         "offsetgroup": "Sci-Fi",
         "orientation": "v",
         "showlegend": true,
         "textposition": "auto",
         "type": "bar",
         "x": [
          "Sci-Fi"
         ],
         "xaxis": "x",
         "y": [
          33531892432
         ],
         "yaxis": "y"
        },
        {
         "alignmentgroup": "True",
         "hovertemplate": "Genre=%{x}<br>World Sales (in $)=%{y}<extra></extra>",
         "legendgroup": "Animation",
         "marker": {
          "color": "#FF6692",
          "pattern": {
           "shape": ""
          }
         },
         "name": "Animation",
         "offsetgroup": "Animation",
         "orientation": "v",
         "showlegend": true,
         "textposition": "auto",
         "type": "bar",
         "x": [
          "Animation"
         ],
         "xaxis": "x",
         "y": [
          30017538228
         ],
         "yaxis": "y"
        },
        {
         "alignmentgroup": "True",
         "hovertemplate": "Genre=%{x}<br>World Sales (in $)=%{y}<extra></extra>",
         "legendgroup": "Drama",
         "marker": {
          "color": "#B6E880",
          "pattern": {
           "shape": ""
          }
         },
         "name": "Drama",
         "offsetgroup": "Drama",
         "orientation": "v",
         "showlegend": true,
         "textposition": "auto",
         "type": "bar",
         "x": [
          "Drama"
         ],
         "xaxis": "x",
         "y": [
          18070603790
         ],
         "yaxis": "y"
        },
        {
         "alignmentgroup": "True",
         "hovertemplate": "Genre=%{x}<br>World Sales (in $)=%{y}<extra></extra>",
         "legendgroup": "Musical",
         "marker": {
          "color": "#FF97FF",
          "pattern": {
           "shape": ""
          }
         },
         "name": "Musical",
         "offsetgroup": "Musical",
         "orientation": "v",
         "showlegend": true,
         "textposition": "auto",
         "type": "bar",
         "x": [
          "Musical"
         ],
         "xaxis": "x",
         "y": [
          13042625393
         ],
         "yaxis": "y"
        },
        {
         "alignmentgroup": "True",
         "hovertemplate": "Genre=%{x}<br>World Sales (in $)=%{y}<extra></extra>",
         "legendgroup": "Romance",
         "marker": {
          "color": "#FECB52",
          "pattern": {
           "shape": ""
          }
         },
         "name": "Romance",
         "offsetgroup": "Romance",
         "orientation": "v",
         "showlegend": true,
         "textposition": "auto",
         "type": "bar",
         "x": [
          "Romance"
         ],
         "xaxis": "x",
         "y": [
          10114956688
         ],
         "yaxis": "y"
        },
        {
         "alignmentgroup": "True",
         "hovertemplate": "Genre=%{x}<br>World Sales (in $)=%{y}<extra></extra>",
         "legendgroup": "Mystery",
         "marker": {
          "color": "#636efa",
          "pattern": {
           "shape": ""
          }
         },
         "name": "Mystery",
         "offsetgroup": "Mystery",
         "orientation": "v",
         "showlegend": true,
         "textposition": "auto",
         "type": "bar",
         "x": [
          "Mystery"
         ],
         "xaxis": "x",
         "y": [
          6012258690
         ],
         "yaxis": "y"
        },
        {
         "alignmentgroup": "True",
         "hovertemplate": "Genre=%{x}<br>World Sales (in $)=%{y}<extra></extra>",
         "legendgroup": "Thriller",
         "marker": {
          "color": "#EF553B",
          "pattern": {
           "shape": ""
          }
         },
         "name": "Thriller",
         "offsetgroup": "Thriller",
         "orientation": "v",
         "showlegend": true,
         "textposition": "auto",
         "type": "bar",
         "x": [
          "Thriller"
         ],
         "xaxis": "x",
         "y": [
          5648925375
         ],
         "yaxis": "y"
        },
        {
         "alignmentgroup": "True",
         "hovertemplate": "Genre=%{x}<br>World Sales (in $)=%{y}<extra></extra>",
         "legendgroup": "Crime",
         "marker": {
          "color": "#00cc96",
          "pattern": {
           "shape": ""
          }
         },
         "name": "Crime",
         "offsetgroup": "Crime",
         "orientation": "v",
         "showlegend": true,
         "textposition": "auto",
         "type": "bar",
         "x": [
          "Crime"
         ],
         "xaxis": "x",
         "y": [
          2965028920
         ],
         "yaxis": "y"
        },
        {
         "alignmentgroup": "True",
         "hovertemplate": "Genre=%{x}<br>World Sales (in $)=%{y}<extra></extra>",
         "legendgroup": "Sport",
         "marker": {
          "color": "#ab63fa",
          "pattern": {
           "shape": ""
          }
         },
         "name": "Sport",
         "offsetgroup": "Sport",
         "orientation": "v",
         "showlegend": true,
         "textposition": "auto",
         "type": "bar",
         "x": [
          "Sport"
         ],
         "xaxis": "x",
         "y": [
          2529981101
         ],
         "yaxis": "y"
        },
        {
         "alignmentgroup": "True",
         "hovertemplate": "Genre=%{x}<br>World Sales (in $)=%{y}<extra></extra>",
         "legendgroup": "Music",
         "marker": {
          "color": "#FFA15A",
          "pattern": {
           "shape": ""
          }
         },
         "name": "Music",
         "offsetgroup": "Music",
         "orientation": "v",
         "showlegend": true,
         "textposition": "auto",
         "type": "bar",
         "x": [
          "Music"
         ],
         "xaxis": "x",
         "y": [
          2170379063
         ],
         "yaxis": "y"
        },
        {
         "alignmentgroup": "True",
         "hovertemplate": "Genre=%{x}<br>World Sales (in $)=%{y}<extra></extra>",
         "legendgroup": "War",
         "marker": {
          "color": "#19d3f3",
          "pattern": {
           "shape": ""
          }
         },
         "name": "War",
         "offsetgroup": "War",
         "orientation": "v",
         "showlegend": true,
         "textposition": "auto",
         "type": "bar",
         "x": [
          "War"
         ],
         "xaxis": "x",
         "y": [
          881901590
         ],
         "yaxis": "y"
        },
        {
         "alignmentgroup": "True",
         "hovertemplate": "Genre=%{x}<br>World Sales (in $)=%{y}<extra></extra>",
         "legendgroup": "History",
         "marker": {
          "color": "#FF6692",
          "pattern": {
           "shape": ""
          }
         },
         "name": "History",
         "offsetgroup": "History",
         "orientation": "v",
         "showlegend": true,
         "textposition": "auto",
         "type": "bar",
         "x": [
          "History"
         ],
         "xaxis": "x",
         "y": [
          724514395
         ],
         "yaxis": "y"
        },
        {
         "alignmentgroup": "True",
         "hovertemplate": "Genre=%{x}<br>World Sales (in $)=%{y}<extra></extra>",
         "legendgroup": "Biography",
         "marker": {
          "color": "#B6E880",
          "pattern": {
           "shape": ""
          }
         },
         "name": "Biography",
         "offsetgroup": "Biography",
         "orientation": "v",
         "showlegend": true,
         "textposition": "auto",
         "type": "bar",
         "x": [
          "Biography"
         ],
         "xaxis": "x",
         "y": [
          709452518
         ],
         "yaxis": "y"
        },
        {
         "alignmentgroup": "True",
         "hovertemplate": "Genre=%{x}<br>World Sales (in $)=%{y}<extra></extra>",
         "legendgroup": "Western",
         "marker": {
          "color": "#FF97FF",
          "pattern": {
           "shape": ""
          }
         },
         "name": "Western",
         "offsetgroup": "Western",
         "orientation": "v",
         "showlegend": true,
         "textposition": "auto",
         "type": "bar",
         "x": [
          "Western"
         ],
         "xaxis": "x",
         "y": [
          260502115
         ],
         "yaxis": "y"
        }
       ],
       "layout": {
        "autosize": true,
        "barmode": "relative",
        "legend": {
         "title": {
          "text": "Genre"
         },
         "tracegroupgap": 0
        },
        "template": {
         "data": {
          "bar": [
           {
            "error_x": {
             "color": "#2a3f5f"
            },
            "error_y": {
             "color": "#2a3f5f"
            },
            "marker": {
             "line": {
              "color": "#E5ECF6",
              "width": 0.5
             },
             "pattern": {
              "fillmode": "overlay",
              "size": 10,
              "solidity": 0.2
             }
            },
            "type": "bar"
           }
          ],
          "barpolar": [
           {
            "marker": {
             "line": {
              "color": "#E5ECF6",
              "width": 0.5
             },
             "pattern": {
              "fillmode": "overlay",
              "size": 10,
              "solidity": 0.2
             }
            },
            "type": "barpolar"
           }
          ],
          "carpet": [
           {
            "aaxis": {
             "endlinecolor": "#2a3f5f",
             "gridcolor": "white",
             "linecolor": "white",
             "minorgridcolor": "white",
             "startlinecolor": "#2a3f5f"
            },
            "baxis": {
             "endlinecolor": "#2a3f5f",
             "gridcolor": "white",
             "linecolor": "white",
             "minorgridcolor": "white",
             "startlinecolor": "#2a3f5f"
            },
            "type": "carpet"
           }
          ],
          "choropleth": [
           {
            "colorbar": {
             "outlinewidth": 0,
             "ticks": ""
            },
            "type": "choropleth"
           }
          ],
          "contour": [
           {
            "colorbar": {
             "outlinewidth": 0,
             "ticks": ""
            },
            "colorscale": [
             [
              0,
              "#0d0887"
             ],
             [
              0.1111111111111111,
              "#46039f"
             ],
             [
              0.2222222222222222,
              "#7201a8"
             ],
             [
              0.3333333333333333,
              "#9c179e"
             ],
             [
              0.4444444444444444,
              "#bd3786"
             ],
             [
              0.5555555555555556,
              "#d8576b"
             ],
             [
              0.6666666666666666,
              "#ed7953"
             ],
             [
              0.7777777777777778,
              "#fb9f3a"
             ],
             [
              0.8888888888888888,
              "#fdca26"
             ],
             [
              1,
              "#f0f921"
             ]
            ],
            "type": "contour"
           }
          ],
          "contourcarpet": [
           {
            "colorbar": {
             "outlinewidth": 0,
             "ticks": ""
            },
            "type": "contourcarpet"
           }
          ],
          "heatmap": [
           {
            "colorbar": {
             "outlinewidth": 0,
             "ticks": ""
            },
            "colorscale": [
             [
              0,
              "#0d0887"
             ],
             [
              0.1111111111111111,
              "#46039f"
             ],
             [
              0.2222222222222222,
              "#7201a8"
             ],
             [
              0.3333333333333333,
              "#9c179e"
             ],
             [
              0.4444444444444444,
              "#bd3786"
             ],
             [
              0.5555555555555556,
              "#d8576b"
             ],
             [
              0.6666666666666666,
              "#ed7953"
             ],
             [
              0.7777777777777778,
              "#fb9f3a"
             ],
             [
              0.8888888888888888,
              "#fdca26"
             ],
             [
              1,
              "#f0f921"
             ]
            ],
            "type": "heatmap"
           }
          ],
          "heatmapgl": [
           {
            "colorbar": {
             "outlinewidth": 0,
             "ticks": ""
            },
            "colorscale": [
             [
              0,
              "#0d0887"
             ],
             [
              0.1111111111111111,
              "#46039f"
             ],
             [
              0.2222222222222222,
              "#7201a8"
             ],
             [
              0.3333333333333333,
              "#9c179e"
             ],
             [
              0.4444444444444444,
              "#bd3786"
             ],
             [
              0.5555555555555556,
              "#d8576b"
             ],
             [
              0.6666666666666666,
              "#ed7953"
             ],
             [
              0.7777777777777778,
              "#fb9f3a"
             ],
             [
              0.8888888888888888,
              "#fdca26"
             ],
             [
              1,
              "#f0f921"
             ]
            ],
            "type": "heatmapgl"
           }
          ],
          "histogram": [
           {
            "marker": {
             "pattern": {
              "fillmode": "overlay",
              "size": 10,
              "solidity": 0.2
             }
            },
            "type": "histogram"
           }
          ],
          "histogram2d": [
           {
            "colorbar": {
             "outlinewidth": 0,
             "ticks": ""
            },
            "colorscale": [
             [
              0,
              "#0d0887"
             ],
             [
              0.1111111111111111,
              "#46039f"
             ],
             [
              0.2222222222222222,
              "#7201a8"
             ],
             [
              0.3333333333333333,
              "#9c179e"
             ],
             [
              0.4444444444444444,
              "#bd3786"
             ],
             [
              0.5555555555555556,
              "#d8576b"
             ],
             [
              0.6666666666666666,
              "#ed7953"
             ],
             [
              0.7777777777777778,
              "#fb9f3a"
             ],
             [
              0.8888888888888888,
              "#fdca26"
             ],
             [
              1,
              "#f0f921"
             ]
            ],
            "type": "histogram2d"
           }
          ],
          "histogram2dcontour": [
           {
            "colorbar": {
             "outlinewidth": 0,
             "ticks": ""
            },
            "colorscale": [
             [
              0,
              "#0d0887"
             ],
             [
              0.1111111111111111,
              "#46039f"
             ],
             [
              0.2222222222222222,
              "#7201a8"
             ],
             [
              0.3333333333333333,
              "#9c179e"
             ],
             [
              0.4444444444444444,
              "#bd3786"
             ],
             [
              0.5555555555555556,
              "#d8576b"
             ],
             [
              0.6666666666666666,
              "#ed7953"
             ],
             [
              0.7777777777777778,
              "#fb9f3a"
             ],
             [
              0.8888888888888888,
              "#fdca26"
             ],
             [
              1,
              "#f0f921"
             ]
            ],
            "type": "histogram2dcontour"
           }
          ],
          "mesh3d": [
           {
            "colorbar": {
             "outlinewidth": 0,
             "ticks": ""
            },
            "type": "mesh3d"
           }
          ],
          "parcoords": [
           {
            "line": {
             "colorbar": {
              "outlinewidth": 0,
              "ticks": ""
             }
            },
            "type": "parcoords"
           }
          ],
          "pie": [
           {
            "automargin": true,
            "type": "pie"
           }
          ],
          "scatter": [
           {
            "marker": {
             "colorbar": {
              "outlinewidth": 0,
              "ticks": ""
             }
            },
            "type": "scatter"
           }
          ],
          "scatter3d": [
           {
            "line": {
             "colorbar": {
              "outlinewidth": 0,
              "ticks": ""
             }
            },
            "marker": {
             "colorbar": {
              "outlinewidth": 0,
              "ticks": ""
             }
            },
            "type": "scatter3d"
           }
          ],
          "scattercarpet": [
           {
            "marker": {
             "colorbar": {
              "outlinewidth": 0,
              "ticks": ""
             }
            },
            "type": "scattercarpet"
           }
          ],
          "scattergeo": [
           {
            "marker": {
             "colorbar": {
              "outlinewidth": 0,
              "ticks": ""
             }
            },
            "type": "scattergeo"
           }
          ],
          "scattergl": [
           {
            "marker": {
             "colorbar": {
              "outlinewidth": 0,
              "ticks": ""
             }
            },
            "type": "scattergl"
           }
          ],
          "scattermapbox": [
           {
            "marker": {
             "colorbar": {
              "outlinewidth": 0,
              "ticks": ""
             }
            },
            "type": "scattermapbox"
           }
          ],
          "scatterpolar": [
           {
            "marker": {
             "colorbar": {
              "outlinewidth": 0,
              "ticks": ""
             }
            },
            "type": "scatterpolar"
           }
          ],
          "scatterpolargl": [
           {
            "marker": {
             "colorbar": {
              "outlinewidth": 0,
              "ticks": ""
             }
            },
            "type": "scatterpolargl"
           }
          ],
          "scatterternary": [
           {
            "marker": {
             "colorbar": {
              "outlinewidth": 0,
              "ticks": ""
             }
            },
            "type": "scatterternary"
           }
          ],
          "surface": [
           {
            "colorbar": {
             "outlinewidth": 0,
             "ticks": ""
            },
            "colorscale": [
             [
              0,
              "#0d0887"
             ],
             [
              0.1111111111111111,
              "#46039f"
             ],
             [
              0.2222222222222222,
              "#7201a8"
             ],
             [
              0.3333333333333333,
              "#9c179e"
             ],
             [
              0.4444444444444444,
              "#bd3786"
             ],
             [
              0.5555555555555556,
              "#d8576b"
             ],
             [
              0.6666666666666666,
              "#ed7953"
             ],
             [
              0.7777777777777778,
              "#fb9f3a"
             ],
             [
              0.8888888888888888,
              "#fdca26"
             ],
             [
              1,
              "#f0f921"
             ]
            ],
            "type": "surface"
           }
          ],
          "table": [
           {
            "cells": {
             "fill": {
              "color": "#EBF0F8"
             },
             "line": {
              "color": "white"
             }
            },
            "header": {
             "fill": {
              "color": "#C8D4E3"
             },
             "line": {
              "color": "white"
             }
            },
            "type": "table"
           }
          ]
         },
         "layout": {
          "annotationdefaults": {
           "arrowcolor": "#2a3f5f",
           "arrowhead": 0,
           "arrowwidth": 1
          },
          "autotypenumbers": "strict",
          "coloraxis": {
           "colorbar": {
            "outlinewidth": 0,
            "ticks": ""
           }
          },
          "colorscale": {
           "diverging": [
            [
             0,
             "#8e0152"
            ],
            [
             0.1,
             "#c51b7d"
            ],
            [
             0.2,
             "#de77ae"
            ],
            [
             0.3,
             "#f1b6da"
            ],
            [
             0.4,
             "#fde0ef"
            ],
            [
             0.5,
             "#f7f7f7"
            ],
            [
             0.6,
             "#e6f5d0"
            ],
            [
             0.7,
             "#b8e186"
            ],
            [
             0.8,
             "#7fbc41"
            ],
            [
             0.9,
             "#4d9221"
            ],
            [
             1,
             "#276419"
            ]
           ],
           "sequential": [
            [
             0,
             "#0d0887"
            ],
            [
             0.1111111111111111,
             "#46039f"
            ],
            [
             0.2222222222222222,
             "#7201a8"
            ],
            [
             0.3333333333333333,
             "#9c179e"
            ],
            [
             0.4444444444444444,
             "#bd3786"
            ],
            [
             0.5555555555555556,
             "#d8576b"
            ],
            [
             0.6666666666666666,
             "#ed7953"
            ],
            [
             0.7777777777777778,
             "#fb9f3a"
            ],
            [
             0.8888888888888888,
             "#fdca26"
            ],
            [
             1,
             "#f0f921"
            ]
           ],
           "sequentialminus": [
            [
             0,
             "#0d0887"
            ],
            [
             0.1111111111111111,
             "#46039f"
            ],
            [
             0.2222222222222222,
             "#7201a8"
            ],
            [
             0.3333333333333333,
             "#9c179e"
            ],
            [
             0.4444444444444444,
             "#bd3786"
            ],
            [
             0.5555555555555556,
             "#d8576b"
            ],
            [
             0.6666666666666666,
             "#ed7953"
            ],
            [
             0.7777777777777778,
             "#fb9f3a"
            ],
            [
             0.8888888888888888,
             "#fdca26"
            ],
            [
             1,
             "#f0f921"
            ]
           ]
          },
          "colorway": [
           "#636efa",
           "#EF553B",
           "#00cc96",
           "#ab63fa",
           "#FFA15A",
           "#19d3f3",
           "#FF6692",
           "#B6E880",
           "#FF97FF",
           "#FECB52"
          ],
          "font": {
           "color": "#2a3f5f"
          },
          "geo": {
           "bgcolor": "white",
           "lakecolor": "white",
           "landcolor": "#E5ECF6",
           "showlakes": true,
           "showland": true,
           "subunitcolor": "white"
          },
          "hoverlabel": {
           "align": "left"
          },
          "hovermode": "closest",
          "mapbox": {
           "style": "light"
          },
          "paper_bgcolor": "white",
          "plot_bgcolor": "#E5ECF6",
          "polar": {
           "angularaxis": {
            "gridcolor": "white",
            "linecolor": "white",
            "ticks": ""
           },
           "bgcolor": "#E5ECF6",
           "radialaxis": {
            "gridcolor": "white",
            "linecolor": "white",
            "ticks": ""
           }
          },
          "scene": {
           "xaxis": {
            "backgroundcolor": "#E5ECF6",
            "gridcolor": "white",
            "gridwidth": 2,
            "linecolor": "white",
            "showbackground": true,
            "ticks": "",
            "zerolinecolor": "white"
           },
           "yaxis": {
            "backgroundcolor": "#E5ECF6",
            "gridcolor": "white",
            "gridwidth": 2,
            "linecolor": "white",
            "showbackground": true,
            "ticks": "",
            "zerolinecolor": "white"
           },
           "zaxis": {
            "backgroundcolor": "#E5ECF6",
            "gridcolor": "white",
            "gridwidth": 2,
            "linecolor": "white",
            "showbackground": true,
            "ticks": "",
            "zerolinecolor": "white"
           }
          },
          "shapedefaults": {
           "line": {
            "color": "#2a3f5f"
           }
          },
          "ternary": {
           "aaxis": {
            "gridcolor": "white",
            "linecolor": "white",
            "ticks": ""
           },
           "baxis": {
            "gridcolor": "white",
            "linecolor": "white",
            "ticks": ""
           },
           "bgcolor": "#E5ECF6",
           "caxis": {
            "gridcolor": "white",
            "linecolor": "white",
            "ticks": ""
           }
          },
          "title": {
           "x": 0.05
          },
          "xaxis": {
           "automargin": true,
           "gridcolor": "white",
           "linecolor": "white",
           "ticks": "",
           "title": {
            "standoff": 15
           },
           "zerolinecolor": "white",
           "zerolinewidth": 2
          },
          "yaxis": {
           "automargin": true,
           "gridcolor": "white",
           "linecolor": "white",
           "ticks": "",
           "title": {
            "standoff": 15
           },
           "zerolinecolor": "white",
           "zerolinewidth": 2
          }
         }
        },
        "title": {
         "text": "Top Grossing Genres For Walt Disney Studios Motion Pictures"
        },
        "xaxis": {
         "anchor": "y",
         "autorange": true,
         "categoryarray": [
          "Adventure",
          "Family",
          "Action",
          "Fantasy",
          "Comedy",
          "Sci-Fi",
          "Animation",
          "Drama",
          "Musical",
          "Romance",
          "Mystery",
          "Thriller",
          "Crime",
          "Sport",
          "Music",
          "War",
          "History",
          "Biography",
          "Western"
         ],
         "categoryorder": "array",
         "domain": [
          0,
          1
         ],
         "range": [
          -0.5,
          18.5
         ],
         "title": {
          "text": "Genre"
         },
         "type": "category"
        },
        "yaxis": {
         "anchor": "x",
         "autorange": true,
         "domain": [
          0,
          1
         ],
         "range": [
          0,
          76421932990.52632
         ],
         "title": {
          "text": "World Sales (in $)"
         },
         "type": "linear"
        }
       }
      },
      "image/png": "[encoded data removed]"
     },
     "metadata": {},
     "output_type": "display_data"
    },
    {
     "data": {
      "text/html": [
       "<div>\n",
       "<style scoped>\n",
       "    .dataframe tbody tr th:only-of-type {\n",
       "        vertical-align: middle;\n",
       "    }\n",
       "\n",
       "    .dataframe tbody tr th {\n",
       "        vertical-align: top;\n",
       "    }\n",
       "\n",
       "    .dataframe thead th {\n",
       "        text-align: right;\n",
       "    }\n",
       "</style>\n",
       "<table border=\"1\" class=\"dataframe\">\n",
       "  <thead>\n",
       "    <tr style=\"text-align: right;\">\n",
       "      <th></th>\n",
       "      <th>Distributor</th>\n",
       "      <th>Genre</th>\n",
       "      <th>Domestic Sales (in $)</th>\n",
       "      <th>International Sales (in $)</th>\n",
       "      <th>World Sales (in $)</th>\n",
       "    </tr>\n",
       "  </thead>\n",
       "  <tbody>\n",
       "    <tr>\n",
       "      <th>0</th>\n",
       "      <td>Walt Disney Studios Motion Pictures</td>\n",
       "      <td>Adventure</td>\n",
       "      <td>28804920117</td>\n",
       "      <td>44068246361</td>\n",
       "      <td>72600836341</td>\n",
       "    </tr>\n",
       "    <tr>\n",
       "      <th>1</th>\n",
       "      <td>Walt Disney Studios Motion Pictures</td>\n",
       "      <td>Family</td>\n",
       "      <td>17471027199</td>\n",
       "      <td>25099156773</td>\n",
       "      <td>42150029087</td>\n",
       "    </tr>\n",
       "    <tr>\n",
       "      <th>2</th>\n",
       "      <td>Walt Disney Studios Motion Pictures</td>\n",
       "      <td>Action</td>\n",
       "      <td>15683711814</td>\n",
       "      <td>23663948573</td>\n",
       "      <td>39347660387</td>\n",
       "    </tr>\n",
       "    <tr>\n",
       "      <th>3</th>\n",
       "      <td>Walt Disney Studios Motion Pictures</td>\n",
       "      <td>Fantasy</td>\n",
       "      <td>14988858191</td>\n",
       "      <td>22930274144</td>\n",
       "      <td>37666758410</td>\n",
       "    </tr>\n",
       "    <tr>\n",
       "      <th>4</th>\n",
       "      <td>Walt Disney Studios Motion Pictures</td>\n",
       "      <td>Comedy</td>\n",
       "      <td>15131260884</td>\n",
       "      <td>20061953867</td>\n",
       "      <td>35025433791</td>\n",
       "    </tr>\n",
       "    <tr>\n",
       "      <th>5</th>\n",
       "      <td>Walt Disney Studios Motion Pictures</td>\n",
       "      <td>Sci-Fi</td>\n",
       "      <td>13762787013</td>\n",
       "      <td>19769105419</td>\n",
       "      <td>33531892432</td>\n",
       "    </tr>\n",
       "    <tr>\n",
       "      <th>6</th>\n",
       "      <td>Walt Disney Studios Motion Pictures</td>\n",
       "      <td>Animation</td>\n",
       "      <td>12088864355</td>\n",
       "      <td>18181047798</td>\n",
       "      <td>30017538228</td>\n",
       "    </tr>\n",
       "    <tr>\n",
       "      <th>7</th>\n",
       "      <td>Walt Disney Studios Motion Pictures</td>\n",
       "      <td>Drama</td>\n",
       "      <td>7742295362</td>\n",
       "      <td>10584126071</td>\n",
       "      <td>18070603790</td>\n",
       "    </tr>\n",
       "    <tr>\n",
       "      <th>8</th>\n",
       "      <td>Walt Disney Studios Motion Pictures</td>\n",
       "      <td>Musical</td>\n",
       "      <td>5101470134</td>\n",
       "      <td>8193529184</td>\n",
       "      <td>13042625393</td>\n",
       "    </tr>\n",
       "    <tr>\n",
       "      <th>9</th>\n",
       "      <td>Walt Disney Studios Motion Pictures</td>\n",
       "      <td>Romance</td>\n",
       "      <td>4462959799</td>\n",
       "      <td>5816966163</td>\n",
       "      <td>10114956688</td>\n",
       "    </tr>\n",
       "  </tbody>\n",
       "</table>\n",
       "</div>"
      ],
      "text/plain": [
       "                           Distributor      Genre  Domestic Sales (in $)  \\\n",
       "0  Walt Disney Studios Motion Pictures  Adventure            28804920117   \n",
       "1  Walt Disney Studios Motion Pictures     Family            17471027199   \n",
       "2  Walt Disney Studios Motion Pictures     Action            15683711814   \n",
       "3  Walt Disney Studios Motion Pictures    Fantasy            14988858191   \n",
       "4  Walt Disney Studios Motion Pictures     Comedy            15131260884   \n",
       "5  Walt Disney Studios Motion Pictures     Sci-Fi            13762787013   \n",
       "6  Walt Disney Studios Motion Pictures  Animation            12088864355   \n",
       "7  Walt Disney Studios Motion Pictures      Drama             7742295362   \n",
       "8  Walt Disney Studios Motion Pictures    Musical             5101470134   \n",
       "9  Walt Disney Studios Motion Pictures    Romance             4462959799   \n",
       "\n",
       "   International Sales (in $)  World Sales (in $)  \n",
       "0                 44068246361         72600836341  \n",
       "1                 25099156773         42150029087  \n",
       "2                 23663948573         39347660387  \n",
       "3                 22930274144         37666758410  \n",
       "4                 20061953867         35025433791  \n",
       "5                 19769105419         33531892432  \n",
       "6                 18181047798         30017538228  \n",
       "7                 10584126071         18070603790  \n",
       "8                  8193529184         13042625393  \n",
       "9                  5816966163         10114956688  "
      ]
     },
     "execution_count": 270,
     "metadata": {},
     "output_type": "execute_result"
    }
   ],
   "source": [
    "top_10_mov('Walt Disney Studios Motion Pictures')\n"
   ]
  },
  {
   "cell_type": "markdown",
   "id": "aafd42ae-774e-4f30-a00c-4448c39398ca",
   "metadata": {
    "tags": []
   },
   "source": [
    "### Notes:"
   ]
  },
  {
   "cell_type": "markdown",
   "id": "923100c0-abbc-4bd2-9f16-1ad5c9d183d3",
   "metadata": {},
   "source": [
    "The top genre for Walt Disney is Adventure with over 70 billion in sales alone. This chart shows a signifacnt difference with the other genres."
   ]
  },
  {
   "cell_type": "code",
   "execution_count": 271,
   "id": "9c2936b5-16ae-494a-a5a0-5b7235fa6551",
   "metadata": {},
   "outputs": [
    {
     "data": {
      "application/vnd.plotly.v1+json": {
       "config": {
        "plotlyServerURL": "https://plot.ly"
       },
       "data": [
        {
         "alignmentgroup": "True",
         "hovertemplate": "Genre=%{x}<br>World Sales (in $)=%{y}<extra></extra>",
         "legendgroup": "Action",
         "marker": {
          "color": "#636efa",
          "pattern": {
           "shape": ""
          }
         },
         "name": "Action",
         "offsetgroup": "Action",
         "orientation": "v",
         "showlegend": true,
         "textposition": "auto",
         "type": "bar",
         "x": [
          "Action"
         ],
         "xaxis": "x",
         "y": [
          34817230039
         ],
         "yaxis": "y"
        },
        {
         "alignmentgroup": "True",
         "hovertemplate": "Genre=%{x}<br>World Sales (in $)=%{y}<extra></extra>",
         "legendgroup": "Adventure",
         "marker": {
          "color": "#EF553B",
          "pattern": {
           "shape": ""
          }
         },
         "name": "Adventure",
         "offsetgroup": "Adventure",
         "orientation": "v",
         "showlegend": true,
         "textposition": "auto",
         "type": "bar",
         "x": [
          "Adventure"
         ],
         "xaxis": "x",
         "y": [
          34019050742
         ],
         "yaxis": "y"
        },
        {
         "alignmentgroup": "True",
         "hovertemplate": "Genre=%{x}<br>World Sales (in $)=%{y}<extra></extra>",
         "legendgroup": "Fantasy",
         "marker": {
          "color": "#00cc96",
          "pattern": {
           "shape": ""
          }
         },
         "name": "Fantasy",
         "offsetgroup": "Fantasy",
         "orientation": "v",
         "showlegend": true,
         "textposition": "auto",
         "type": "bar",
         "x": [
          "Fantasy"
         ],
         "xaxis": "x",
         "y": [
          23167624437
         ],
         "yaxis": "y"
        },
        {
         "alignmentgroup": "True",
         "hovertemplate": "Genre=%{x}<br>World Sales (in $)=%{y}<extra></extra>",
         "legendgroup": "Sci-Fi",
         "marker": {
          "color": "#ab63fa",
          "pattern": {
           "shape": ""
          }
         },
         "name": "Sci-Fi",
         "offsetgroup": "Sci-Fi",
         "orientation": "v",
         "showlegend": true,
         "textposition": "auto",
         "type": "bar",
         "x": [
          "Sci-Fi"
         ],
         "xaxis": "x",
         "y": [
          19201801796
         ],
         "yaxis": "y"
        },
        {
         "alignmentgroup": "True",
         "hovertemplate": "Genre=%{x}<br>World Sales (in $)=%{y}<extra></extra>",
         "legendgroup": "Drama",
         "marker": {
          "color": "#FFA15A",
          "pattern": {
           "shape": ""
          }
         },
         "name": "Drama",
         "offsetgroup": "Drama",
         "orientation": "v",
         "showlegend": true,
         "textposition": "auto",
         "type": "bar",
         "x": [
          "Drama"
         ],
         "xaxis": "x",
         "y": [
          18344027196
         ],
         "yaxis": "y"
        },
        {
         "alignmentgroup": "True",
         "hovertemplate": "Genre=%{x}<br>World Sales (in $)=%{y}<extra></extra>",
         "legendgroup": "Thriller",
         "marker": {
          "color": "#19d3f3",
          "pattern": {
           "shape": ""
          }
         },
         "name": "Thriller",
         "offsetgroup": "Thriller",
         "orientation": "v",
         "showlegend": true,
         "textposition": "auto",
         "type": "bar",
         "x": [
          "Thriller"
         ],
         "xaxis": "x",
         "y": [
          15699993606
         ],
         "yaxis": "y"
        },
        {
         "alignmentgroup": "True",
         "hovertemplate": "Genre=%{x}<br>World Sales (in $)=%{y}<extra></extra>",
         "legendgroup": "Family",
         "marker": {
          "color": "#FF6692",
          "pattern": {
           "shape": ""
          }
         },
         "name": "Family",
         "offsetgroup": "Family",
         "orientation": "v",
         "showlegend": true,
         "textposition": "auto",
         "type": "bar",
         "x": [
          "Family"
         ],
         "xaxis": "x",
         "y": [
          12541038407
         ],
         "yaxis": "y"
        },
        {
         "alignmentgroup": "True",
         "hovertemplate": "Genre=%{x}<br>World Sales (in $)=%{y}<extra></extra>",
         "legendgroup": "Mystery",
         "marker": {
          "color": "#B6E880",
          "pattern": {
           "shape": ""
          }
         },
         "name": "Mystery",
         "offsetgroup": "Mystery",
         "orientation": "v",
         "showlegend": true,
         "textposition": "auto",
         "type": "bar",
         "x": [
          "Mystery"
         ],
         "xaxis": "x",
         "y": [
          12040612682
         ],
         "yaxis": "y"
        },
        {
         "alignmentgroup": "True",
         "hovertemplate": "Genre=%{x}<br>World Sales (in $)=%{y}<extra></extra>",
         "legendgroup": "Comedy",
         "marker": {
          "color": "#FF97FF",
          "pattern": {
           "shape": ""
          }
         },
         "name": "Comedy",
         "offsetgroup": "Comedy",
         "orientation": "v",
         "showlegend": true,
         "textposition": "auto",
         "type": "bar",
         "x": [
          "Comedy"
         ],
         "xaxis": "x",
         "y": [
          11806229232
         ],
         "yaxis": "y"
        },
        {
         "alignmentgroup": "True",
         "hovertemplate": "Genre=%{x}<br>World Sales (in $)=%{y}<extra></extra>",
         "legendgroup": "Crime",
         "marker": {
          "color": "#FECB52",
          "pattern": {
           "shape": ""
          }
         },
         "name": "Crime",
         "offsetgroup": "Crime",
         "orientation": "v",
         "showlegend": true,
         "textposition": "auto",
         "type": "bar",
         "x": [
          "Crime"
         ],
         "xaxis": "x",
         "y": [
          10344284409
         ],
         "yaxis": "y"
        },
        {
         "alignmentgroup": "True",
         "hovertemplate": "Genre=%{x}<br>World Sales (in $)=%{y}<extra></extra>",
         "legendgroup": "Romance",
         "marker": {
          "color": "#636efa",
          "pattern": {
           "shape": ""
          }
         },
         "name": "Romance",
         "offsetgroup": "Romance",
         "orientation": "v",
         "showlegend": true,
         "textposition": "auto",
         "type": "bar",
         "x": [
          "Romance"
         ],
         "xaxis": "x",
         "y": [
          4971158510
         ],
         "yaxis": "y"
        },
        {
         "alignmentgroup": "True",
         "hovertemplate": "Genre=%{x}<br>World Sales (in $)=%{y}<extra></extra>",
         "legendgroup": "Horror",
         "marker": {
          "color": "#EF553B",
          "pattern": {
           "shape": ""
          }
         },
         "name": "Horror",
         "offsetgroup": "Horror",
         "orientation": "v",
         "showlegend": true,
         "textposition": "auto",
         "type": "bar",
         "x": [
          "Horror"
         ],
         "xaxis": "x",
         "y": [
          4123241604
         ],
         "yaxis": "y"
        },
        {
         "alignmentgroup": "True",
         "hovertemplate": "Genre=%{x}<br>World Sales (in $)=%{y}<extra></extra>",
         "legendgroup": "Animation",
         "marker": {
          "color": "#00cc96",
          "pattern": {
           "shape": ""
          }
         },
         "name": "Animation",
         "offsetgroup": "Animation",
         "orientation": "v",
         "showlegend": true,
         "textposition": "auto",
         "type": "bar",
         "x": [
          "Animation"
         ],
         "xaxis": "x",
         "y": [
          2482481627
         ],
         "yaxis": "y"
        },
        {
         "alignmentgroup": "True",
         "hovertemplate": "Genre=%{x}<br>World Sales (in $)=%{y}<extra></extra>",
         "legendgroup": "War",
         "marker": {
          "color": "#ab63fa",
          "pattern": {
           "shape": ""
          }
         },
         "name": "War",
         "offsetgroup": "War",
         "orientation": "v",
         "showlegend": true,
         "textposition": "auto",
         "type": "bar",
         "x": [
          "War"
         ],
         "xaxis": "x",
         "y": [
          1897267201
         ],
         "yaxis": "y"
        },
        {
         "alignmentgroup": "True",
         "hovertemplate": "Genre=%{x}<br>World Sales (in $)=%{y}<extra></extra>",
         "legendgroup": "Biography",
         "marker": {
          "color": "#FFA15A",
          "pattern": {
           "shape": ""
          }
         },
         "name": "Biography",
         "offsetgroup": "Biography",
         "orientation": "v",
         "showlegend": true,
         "textposition": "auto",
         "type": "bar",
         "x": [
          "Biography"
         ],
         "xaxis": "x",
         "y": [
          1427228508
         ],
         "yaxis": "y"
        },
        {
         "alignmentgroup": "True",
         "hovertemplate": "Genre=%{x}<br>World Sales (in $)=%{y}<extra></extra>",
         "legendgroup": "Musical",
         "marker": {
          "color": "#19d3f3",
          "pattern": {
           "shape": ""
          }
         },
         "name": "Musical",
         "offsetgroup": "Musical",
         "orientation": "v",
         "showlegend": true,
         "textposition": "auto",
         "type": "bar",
         "x": [
          "Musical"
         ],
         "xaxis": "x",
         "y": [
          1387560428
         ],
         "yaxis": "y"
        },
        {
         "alignmentgroup": "True",
         "hovertemplate": "Genre=%{x}<br>World Sales (in $)=%{y}<extra></extra>",
         "legendgroup": "History",
         "marker": {
          "color": "#FF6692",
          "pattern": {
           "shape": ""
          }
         },
         "name": "History",
         "offsetgroup": "History",
         "orientation": "v",
         "showlegend": true,
         "textposition": "auto",
         "type": "bar",
         "x": [
          "History"
         ],
         "xaxis": "x",
         "y": [
          1294210360
         ],
         "yaxis": "y"
        },
        {
         "alignmentgroup": "True",
         "hovertemplate": "Genre=%{x}<br>World Sales (in $)=%{y}<extra></extra>",
         "legendgroup": "Music",
         "marker": {
          "color": "#B6E880",
          "pattern": {
           "shape": ""
          }
         },
         "name": "Music",
         "offsetgroup": "Music",
         "orientation": "v",
         "showlegend": true,
         "textposition": "auto",
         "type": "bar",
         "x": [
          "Music"
         ],
         "xaxis": "x",
         "y": [
          1231531714
         ],
         "yaxis": "y"
        },
        {
         "alignmentgroup": "True",
         "hovertemplate": "Genre=%{x}<br>World Sales (in $)=%{y}<extra></extra>",
         "legendgroup": "Sport",
         "marker": {
          "color": "#FF97FF",
          "pattern": {
           "shape": ""
          }
         },
         "name": "Sport",
         "offsetgroup": "Sport",
         "orientation": "v",
         "showlegend": true,
         "textposition": "auto",
         "type": "bar",
         "x": [
          "Sport"
         ],
         "xaxis": "x",
         "y": [
          1027428579
         ],
         "yaxis": "y"
        },
        {
         "alignmentgroup": "True",
         "hovertemplate": "Genre=%{x}<br>World Sales (in $)=%{y}<extra></extra>",
         "legendgroup": "Western",
         "marker": {
          "color": "#FECB52",
          "pattern": {
           "shape": ""
          }
         },
         "name": "Western",
         "offsetgroup": "Western",
         "orientation": "v",
         "showlegend": true,
         "textposition": "auto",
         "type": "bar",
         "x": [
          "Western"
         ],
         "xaxis": "x",
         "y": [
          564293400
         ],
         "yaxis": "y"
        }
       ],
       "layout": {
        "autosize": true,
        "barmode": "relative",
        "legend": {
         "title": {
          "text": "Genre"
         },
         "tracegroupgap": 0
        },
        "template": {
         "data": {
          "bar": [
           {
            "error_x": {
             "color": "#2a3f5f"
            },
            "error_y": {
             "color": "#2a3f5f"
            },
            "marker": {
             "line": {
              "color": "#E5ECF6",
              "width": 0.5
             },
             "pattern": {
              "fillmode": "overlay",
              "size": 10,
              "solidity": 0.2
             }
            },
            "type": "bar"
           }
          ],
          "barpolar": [
           {
            "marker": {
             "line": {
              "color": "#E5ECF6",
              "width": 0.5
             },
             "pattern": {
              "fillmode": "overlay",
              "size": 10,
              "solidity": 0.2
             }
            },
            "type": "barpolar"
           }
          ],
          "carpet": [
           {
            "aaxis": {
             "endlinecolor": "#2a3f5f",
             "gridcolor": "white",
             "linecolor": "white",
             "minorgridcolor": "white",
             "startlinecolor": "#2a3f5f"
            },
            "baxis": {
             "endlinecolor": "#2a3f5f",
             "gridcolor": "white",
             "linecolor": "white",
             "minorgridcolor": "white",
             "startlinecolor": "#2a3f5f"
            },
            "type": "carpet"
           }
          ],
          "choropleth": [
           {
            "colorbar": {
             "outlinewidth": 0,
             "ticks": ""
            },
            "type": "choropleth"
           }
          ],
          "contour": [
           {
            "colorbar": {
             "outlinewidth": 0,
             "ticks": ""
            },
            "colorscale": [
             [
              0,
              "#0d0887"
             ],
             [
              0.1111111111111111,
              "#46039f"
             ],
             [
              0.2222222222222222,
              "#7201a8"
             ],
             [
              0.3333333333333333,
              "#9c179e"
             ],
             [
              0.4444444444444444,
              "#bd3786"
             ],
             [
              0.5555555555555556,
              "#d8576b"
             ],
             [
              0.6666666666666666,
              "#ed7953"
             ],
             [
              0.7777777777777778,
              "#fb9f3a"
             ],
             [
              0.8888888888888888,
              "#fdca26"
             ],
             [
              1,
              "#f0f921"
             ]
            ],
            "type": "contour"
           }
          ],
          "contourcarpet": [
           {
            "colorbar": {
             "outlinewidth": 0,
             "ticks": ""
            },
            "type": "contourcarpet"
           }
          ],
          "heatmap": [
           {
            "colorbar": {
             "outlinewidth": 0,
             "ticks": ""
            },
            "colorscale": [
             [
              0,
              "#0d0887"
             ],
             [
              0.1111111111111111,
              "#46039f"
             ],
             [
              0.2222222222222222,
              "#7201a8"
             ],
             [
              0.3333333333333333,
              "#9c179e"
             ],
             [
              0.4444444444444444,
              "#bd3786"
             ],
             [
              0.5555555555555556,
              "#d8576b"
             ],
             [
              0.6666666666666666,
              "#ed7953"
             ],
             [
              0.7777777777777778,
              "#fb9f3a"
             ],
             [
              0.8888888888888888,
              "#fdca26"
             ],
             [
              1,
              "#f0f921"
             ]
            ],
            "type": "heatmap"
           }
          ],
          "heatmapgl": [
           {
            "colorbar": {
             "outlinewidth": 0,
             "ticks": ""
            },
            "colorscale": [
             [
              0,
              "#0d0887"
             ],
             [
              0.1111111111111111,
              "#46039f"
             ],
             [
              0.2222222222222222,
              "#7201a8"
             ],
             [
              0.3333333333333333,
              "#9c179e"
             ],
             [
              0.4444444444444444,
              "#bd3786"
             ],
             [
              0.5555555555555556,
              "#d8576b"
             ],
             [
              0.6666666666666666,
              "#ed7953"
             ],
             [
              0.7777777777777778,
              "#fb9f3a"
             ],
             [
              0.8888888888888888,
              "#fdca26"
             ],
             [
              1,
              "#f0f921"
             ]
            ],
            "type": "heatmapgl"
           }
          ],
          "histogram": [
           {
            "marker": {
             "pattern": {
              "fillmode": "overlay",
              "size": 10,
              "solidity": 0.2
             }
            },
            "type": "histogram"
           }
          ],
          "histogram2d": [
           {
            "colorbar": {
             "outlinewidth": 0,
             "ticks": ""
            },
            "colorscale": [
             [
              0,
              "#0d0887"
             ],
             [
              0.1111111111111111,
              "#46039f"
             ],
             [
              0.2222222222222222,
              "#7201a8"
             ],
             [
              0.3333333333333333,
              "#9c179e"
             ],
             [
              0.4444444444444444,
              "#bd3786"
             ],
             [
              0.5555555555555556,
              "#d8576b"
             ],
             [
              0.6666666666666666,
              "#ed7953"
             ],
             [
              0.7777777777777778,
              "#fb9f3a"
             ],
             [
              0.8888888888888888,
              "#fdca26"
             ],
             [
              1,
              "#f0f921"
             ]
            ],
            "type": "histogram2d"
           }
          ],
          "histogram2dcontour": [
           {
            "colorbar": {
             "outlinewidth": 0,
             "ticks": ""
            },
            "colorscale": [
             [
              0,
              "#0d0887"
             ],
             [
              0.1111111111111111,
              "#46039f"
             ],
             [
              0.2222222222222222,
              "#7201a8"
             ],
             [
              0.3333333333333333,
              "#9c179e"
             ],
             [
              0.4444444444444444,
              "#bd3786"
             ],
             [
              0.5555555555555556,
              "#d8576b"
             ],
             [
              0.6666666666666666,
              "#ed7953"
             ],
             [
              0.7777777777777778,
              "#fb9f3a"
             ],
             [
              0.8888888888888888,
              "#fdca26"
             ],
             [
              1,
              "#f0f921"
             ]
            ],
            "type": "histogram2dcontour"
           }
          ],
          "mesh3d": [
           {
            "colorbar": {
             "outlinewidth": 0,
             "ticks": ""
            },
            "type": "mesh3d"
           }
          ],
          "parcoords": [
           {
            "line": {
             "colorbar": {
              "outlinewidth": 0,
              "ticks": ""
             }
            },
            "type": "parcoords"
           }
          ],
          "pie": [
           {
            "automargin": true,
            "type": "pie"
           }
          ],
          "scatter": [
           {
            "marker": {
             "colorbar": {
              "outlinewidth": 0,
              "ticks": ""
             }
            },
            "type": "scatter"
           }
          ],
          "scatter3d": [
           {
            "line": {
             "colorbar": {
              "outlinewidth": 0,
              "ticks": ""
             }
            },
            "marker": {
             "colorbar": {
              "outlinewidth": 0,
              "ticks": ""
             }
            },
            "type": "scatter3d"
           }
          ],
          "scattercarpet": [
           {
            "marker": {
             "colorbar": {
              "outlinewidth": 0,
              "ticks": ""
             }
            },
            "type": "scattercarpet"
           }
          ],
          "scattergeo": [
           {
            "marker": {
             "colorbar": {
              "outlinewidth": 0,
              "ticks": ""
             }
            },
            "type": "scattergeo"
           }
          ],
          "scattergl": [
           {
            "marker": {
             "colorbar": {
              "outlinewidth": 0,
              "ticks": ""
             }
            },
            "type": "scattergl"
           }
          ],
          "scattermapbox": [
           {
            "marker": {
             "colorbar": {
              "outlinewidth": 0,
              "ticks": ""
             }
            },
            "type": "scattermapbox"
           }
          ],
          "scatterpolar": [
           {
            "marker": {
             "colorbar": {
              "outlinewidth": 0,
              "ticks": ""
             }
            },
            "type": "scatterpolar"
           }
          ],
          "scatterpolargl": [
           {
            "marker": {
             "colorbar": {
              "outlinewidth": 0,
              "ticks": ""
             }
            },
            "type": "scatterpolargl"
           }
          ],
          "scatterternary": [
           {
            "marker": {
             "colorbar": {
              "outlinewidth": 0,
              "ticks": ""
             }
            },
            "type": "scatterternary"
           }
          ],
          "surface": [
           {
            "colorbar": {
             "outlinewidth": 0,
             "ticks": ""
            },
            "colorscale": [
             [
              0,
              "#0d0887"
             ],
             [
              0.1111111111111111,
              "#46039f"
             ],
             [
              0.2222222222222222,
              "#7201a8"
             ],
             [
              0.3333333333333333,
              "#9c179e"
             ],
             [
              0.4444444444444444,
              "#bd3786"
             ],
             [
              0.5555555555555556,
              "#d8576b"
             ],
             [
              0.6666666666666666,
              "#ed7953"
             ],
             [
              0.7777777777777778,
              "#fb9f3a"
             ],
             [
              0.8888888888888888,
              "#fdca26"
             ],
             [
              1,
              "#f0f921"
             ]
            ],
            "type": "surface"
           }
          ],
          "table": [
           {
            "cells": {
             "fill": {
              "color": "#EBF0F8"
             },
             "line": {
              "color": "white"
             }
            },
            "header": {
             "fill": {
              "color": "#C8D4E3"
             },
             "line": {
              "color": "white"
             }
            },
            "type": "table"
           }
          ]
         },
         "layout": {
          "annotationdefaults": {
           "arrowcolor": "#2a3f5f",
           "arrowhead": 0,
           "arrowwidth": 1
          },
          "autotypenumbers": "strict",
          "coloraxis": {
           "colorbar": {
            "outlinewidth": 0,
            "ticks": ""
           }
          },
          "colorscale": {
           "diverging": [
            [
             0,
             "#8e0152"
            ],
            [
             0.1,
             "#c51b7d"
            ],
            [
             0.2,
             "#de77ae"
            ],
            [
             0.3,
             "#f1b6da"
            ],
            [
             0.4,
             "#fde0ef"
            ],
            [
             0.5,
             "#f7f7f7"
            ],
            [
             0.6,
             "#e6f5d0"
            ],
            [
             0.7,
             "#b8e186"
            ],
            [
             0.8,
             "#7fbc41"
            ],
            [
             0.9,
             "#4d9221"
            ],
            [
             1,
             "#276419"
            ]
           ],
           "sequential": [
            [
             0,
             "#0d0887"
            ],
            [
             0.1111111111111111,
             "#46039f"
            ],
            [
             0.2222222222222222,
             "#7201a8"
            ],
            [
             0.3333333333333333,
             "#9c179e"
            ],
            [
             0.4444444444444444,
             "#bd3786"
            ],
            [
             0.5555555555555556,
             "#d8576b"
            ],
            [
             0.6666666666666666,
             "#ed7953"
            ],
            [
             0.7777777777777778,
             "#fb9f3a"
            ],
            [
             0.8888888888888888,
             "#fdca26"
            ],
            [
             1,
             "#f0f921"
            ]
           ],
           "sequentialminus": [
            [
             0,
             "#0d0887"
            ],
            [
             0.1111111111111111,
             "#46039f"
            ],
            [
             0.2222222222222222,
             "#7201a8"
            ],
            [
             0.3333333333333333,
             "#9c179e"
            ],
            [
             0.4444444444444444,
             "#bd3786"
            ],
            [
             0.5555555555555556,
             "#d8576b"
            ],
            [
             0.6666666666666666,
             "#ed7953"
            ],
            [
             0.7777777777777778,
             "#fb9f3a"
            ],
            [
             0.8888888888888888,
             "#fdca26"
            ],
            [
             1,
             "#f0f921"
            ]
           ]
          },
          "colorway": [
           "#636efa",
           "#EF553B",
           "#00cc96",
           "#ab63fa",
           "#FFA15A",
           "#19d3f3",
           "#FF6692",
           "#B6E880",
           "#FF97FF",
           "#FECB52"
          ],
          "font": {
           "color": "#2a3f5f"
          },
          "geo": {
           "bgcolor": "white",
           "lakecolor": "white",
           "landcolor": "#E5ECF6",
           "showlakes": true,
           "showland": true,
           "subunitcolor": "white"
          },
          "hoverlabel": {
           "align": "left"
          },
          "hovermode": "closest",
          "mapbox": {
           "style": "light"
          },
          "paper_bgcolor": "white",
          "plot_bgcolor": "#E5ECF6",
          "polar": {
           "angularaxis": {
            "gridcolor": "white",
            "linecolor": "white",
            "ticks": ""
           },
           "bgcolor": "#E5ECF6",
           "radialaxis": {
            "gridcolor": "white",
            "linecolor": "white",
            "ticks": ""
           }
          },
          "scene": {
           "xaxis": {
            "backgroundcolor": "#E5ECF6",
            "gridcolor": "white",
            "gridwidth": 2,
            "linecolor": "white",
            "showbackground": true,
            "ticks": "",
            "zerolinecolor": "white"
           },
           "yaxis": {
            "backgroundcolor": "#E5ECF6",
            "gridcolor": "white",
            "gridwidth": 2,
            "linecolor": "white",
            "showbackground": true,
            "ticks": "",
            "zerolinecolor": "white"
           },
           "zaxis": {
            "backgroundcolor": "#E5ECF6",
            "gridcolor": "white",
            "gridwidth": 2,
            "linecolor": "white",
            "showbackground": true,
            "ticks": "",
            "zerolinecolor": "white"
           }
          },
          "shapedefaults": {
           "line": {
            "color": "#2a3f5f"
           }
          },
          "ternary": {
           "aaxis": {
            "gridcolor": "white",
            "linecolor": "white",
            "ticks": ""
           },
           "baxis": {
            "gridcolor": "white",
            "linecolor": "white",
            "ticks": ""
           },
           "bgcolor": "#E5ECF6",
           "caxis": {
            "gridcolor": "white",
            "linecolor": "white",
            "ticks": ""
           }
          },
          "title": {
           "x": 0.05
          },
          "xaxis": {
           "automargin": true,
           "gridcolor": "white",
           "linecolor": "white",
           "ticks": "",
           "title": {
            "standoff": 15
           },
           "zerolinecolor": "white",
           "zerolinewidth": 2
          },
          "yaxis": {
           "automargin": true,
           "gridcolor": "white",
           "linecolor": "white",
           "ticks": "",
           "title": {
            "standoff": 15
           },
           "zerolinecolor": "white",
           "zerolinewidth": 2
          }
         }
        },
        "title": {
         "text": "Top Grossing Genres For Warner Bros."
        },
        "xaxis": {
         "anchor": "y",
         "autorange": true,
         "categoryarray": [
          "Action",
          "Adventure",
          "Fantasy",
          "Sci-Fi",
          "Drama",
          "Thriller",
          "Family",
          "Mystery",
          "Comedy",
          "Crime",
          "Romance",
          "Horror",
          "Animation",
          "War",
          "Biography",
          "Musical",
          "History",
          "Music",
          "Sport",
          "Western"
         ],
         "categoryorder": "array",
         "domain": [
          0,
          1
         ],
         "range": [
          -0.5,
          19.5
         ],
         "title": {
          "text": "Genre"
         },
         "type": "category"
        },
        "yaxis": {
         "anchor": "x",
         "autorange": true,
         "domain": [
          0,
          1
         ],
         "range": [
          0,
          36649715830.52631
         ],
         "title": {
          "text": "World Sales (in $)"
         },
         "type": "linear"
        }
       }
      },
      "image/png": "[encoded data removed]"
     },
     "metadata": {},
     "output_type": "display_data"
    },
    {
     "data": {
      "text/html": [
       "<div>\n",
       "<style scoped>\n",
       "    .dataframe tbody tr th:only-of-type {\n",
       "        vertical-align: middle;\n",
       "    }\n",
       "\n",
       "    .dataframe tbody tr th {\n",
       "        vertical-align: top;\n",
       "    }\n",
       "\n",
       "    .dataframe thead th {\n",
       "        text-align: right;\n",
       "    }\n",
       "</style>\n",
       "<table border=\"1\" class=\"dataframe\">\n",
       "  <thead>\n",
       "    <tr style=\"text-align: right;\">\n",
       "      <th></th>\n",
       "      <th>Distributor</th>\n",
       "      <th>Genre</th>\n",
       "      <th>Domestic Sales (in $)</th>\n",
       "      <th>International Sales (in $)</th>\n",
       "      <th>World Sales (in $)</th>\n",
       "    </tr>\n",
       "  </thead>\n",
       "  <tbody>\n",
       "    <tr>\n",
       "      <th>0</th>\n",
       "      <td>Warner Bros.</td>\n",
       "      <td>Action</td>\n",
       "      <td>14069931227</td>\n",
       "      <td>20855484516</td>\n",
       "      <td>34817230039</td>\n",
       "    </tr>\n",
       "    <tr>\n",
       "      <th>1</th>\n",
       "      <td>Warner Bros.</td>\n",
       "      <td>Adventure</td>\n",
       "      <td>12526900228</td>\n",
       "      <td>21600336212</td>\n",
       "      <td>34019050742</td>\n",
       "    </tr>\n",
       "    <tr>\n",
       "      <th>2</th>\n",
       "      <td>Warner Bros.</td>\n",
       "      <td>Fantasy</td>\n",
       "      <td>8138807601</td>\n",
       "      <td>15028816828</td>\n",
       "      <td>23167624437</td>\n",
       "    </tr>\n",
       "    <tr>\n",
       "      <th>3</th>\n",
       "      <td>Warner Bros.</td>\n",
       "      <td>Sci-Fi</td>\n",
       "      <td>7272229157</td>\n",
       "      <td>12037758345</td>\n",
       "      <td>19201801796</td>\n",
       "    </tr>\n",
       "    <tr>\n",
       "      <th>4</th>\n",
       "      <td>Warner Bros.</td>\n",
       "      <td>Drama</td>\n",
       "      <td>8451758652</td>\n",
       "      <td>9892268544</td>\n",
       "      <td>18344027196</td>\n",
       "    </tr>\n",
       "    <tr>\n",
       "      <th>5</th>\n",
       "      <td>Warner Bros.</td>\n",
       "      <td>Thriller</td>\n",
       "      <td>6591942546</td>\n",
       "      <td>9108051060</td>\n",
       "      <td>15699993606</td>\n",
       "    </tr>\n",
       "    <tr>\n",
       "      <th>6</th>\n",
       "      <td>Warner Bros.</td>\n",
       "      <td>Family</td>\n",
       "      <td>4577459801</td>\n",
       "      <td>7963578599</td>\n",
       "      <td>12541038407</td>\n",
       "    </tr>\n",
       "    <tr>\n",
       "      <th>7</th>\n",
       "      <td>Warner Bros.</td>\n",
       "      <td>Mystery</td>\n",
       "      <td>4300619513</td>\n",
       "      <td>7739993162</td>\n",
       "      <td>12040612682</td>\n",
       "    </tr>\n",
       "    <tr>\n",
       "      <th>8</th>\n",
       "      <td>Warner Bros.</td>\n",
       "      <td>Comedy</td>\n",
       "      <td>5852563585</td>\n",
       "      <td>5953665647</td>\n",
       "      <td>11806229232</td>\n",
       "    </tr>\n",
       "    <tr>\n",
       "      <th>9</th>\n",
       "      <td>Warner Bros.</td>\n",
       "      <td>Crime</td>\n",
       "      <td>4911560899</td>\n",
       "      <td>5432723510</td>\n",
       "      <td>10344284409</td>\n",
       "    </tr>\n",
       "  </tbody>\n",
       "</table>\n",
       "</div>"
      ],
      "text/plain": [
       "    Distributor      Genre  Domestic Sales (in $)  International Sales (in $)  \\\n",
       "0  Warner Bros.     Action            14069931227                 20855484516   \n",
       "1  Warner Bros.  Adventure            12526900228                 21600336212   \n",
       "2  Warner Bros.    Fantasy             8138807601                 15028816828   \n",
       "3  Warner Bros.     Sci-Fi             7272229157                 12037758345   \n",
       "4  Warner Bros.      Drama             8451758652                  9892268544   \n",
       "5  Warner Bros.   Thriller             6591942546                  9108051060   \n",
       "6  Warner Bros.     Family             4577459801                  7963578599   \n",
       "7  Warner Bros.    Mystery             4300619513                  7739993162   \n",
       "8  Warner Bros.     Comedy             5852563585                  5953665647   \n",
       "9  Warner Bros.      Crime             4911560899                  5432723510   \n",
       "\n",
       "   World Sales (in $)  \n",
       "0         34817230039  \n",
       "1         34019050742  \n",
       "2         23167624437  \n",
       "3         19201801796  \n",
       "4         18344027196  \n",
       "5         15699993606  \n",
       "6         12541038407  \n",
       "7         12040612682  \n",
       "8         11806229232  \n",
       "9         10344284409  "
      ]
     },
     "execution_count": 271,
     "metadata": {},
     "output_type": "execute_result"
    }
   ],
   "source": [
    "top_10_mov('Warner Bros.')"
   ]
  },
  {
   "cell_type": "markdown",
   "id": "ac3568e5-d057-4d62-89f7-e835deca1b41",
   "metadata": {},
   "source": [
    "### Notes:"
   ]
  },
  {
   "cell_type": "markdown",
   "id": "80d7e0a0-c781-4f5b-b4f8-b64c908c21a4",
   "metadata": {},
   "source": [
    "The top genre for Warner bros would be Action with over 34 billion in sales. In this chart you can see that Adventure competes closely with action for the top spot."
   ]
  },
  {
   "cell_type": "code",
   "execution_count": 272,
   "id": "62f1a731-aef2-4200-83c8-20daae22a049",
   "metadata": {},
   "outputs": [
    {
     "data": {
      "application/vnd.plotly.v1+json": {
       "config": {
        "plotlyServerURL": "https://plot.ly"
       },
       "data": [
        {
         "alignmentgroup": "True",
         "hovertemplate": "Genre=%{x}<br>World Sales (in $)=%{y}<extra></extra>",
         "legendgroup": "Action",
         "marker": {
          "color": "#636efa",
          "pattern": {
           "shape": ""
          }
         },
         "name": "Action",
         "offsetgroup": "Action",
         "orientation": "v",
         "showlegend": true,
         "textposition": "auto",
         "type": "bar",
         "x": [
          "Action"
         ],
         "xaxis": "x",
         "y": [
          24506761394
         ],
         "yaxis": "y"
        },
        {
         "alignmentgroup": "True",
         "hovertemplate": "Genre=%{x}<br>World Sales (in $)=%{y}<extra></extra>",
         "legendgroup": "Adventure",
         "marker": {
          "color": "#EF553B",
          "pattern": {
           "shape": ""
          }
         },
         "name": "Adventure",
         "offsetgroup": "Adventure",
         "orientation": "v",
         "showlegend": true,
         "textposition": "auto",
         "type": "bar",
         "x": [
          "Adventure"
         ],
         "xaxis": "x",
         "y": [
          22344321759
         ],
         "yaxis": "y"
        },
        {
         "alignmentgroup": "True",
         "hovertemplate": "Genre=%{x}<br>World Sales (in $)=%{y}<extra></extra>",
         "legendgroup": "Comedy",
         "marker": {
          "color": "#00cc96",
          "pattern": {
           "shape": ""
          }
         },
         "name": "Comedy",
         "offsetgroup": "Comedy",
         "orientation": "v",
         "showlegend": true,
         "textposition": "auto",
         "type": "bar",
         "x": [
          "Comedy"
         ],
         "xaxis": "x",
         "y": [
          16710773680
         ],
         "yaxis": "y"
        },
        {
         "alignmentgroup": "True",
         "hovertemplate": "Genre=%{x}<br>World Sales (in $)=%{y}<extra></extra>",
         "legendgroup": "Sci-Fi",
         "marker": {
          "color": "#ab63fa",
          "pattern": {
           "shape": ""
          }
         },
         "name": "Sci-Fi",
         "offsetgroup": "Sci-Fi",
         "orientation": "v",
         "showlegend": true,
         "textposition": "auto",
         "type": "bar",
         "x": [
          "Sci-Fi"
         ],
         "xaxis": "x",
         "y": [
          14025913860
         ],
         "yaxis": "y"
        },
        {
         "alignmentgroup": "True",
         "hovertemplate": "Genre=%{x}<br>World Sales (in $)=%{y}<extra></extra>",
         "legendgroup": "Thriller",
         "marker": {
          "color": "#FFA15A",
          "pattern": {
           "shape": ""
          }
         },
         "name": "Thriller",
         "offsetgroup": "Thriller",
         "orientation": "v",
         "showlegend": true,
         "textposition": "auto",
         "type": "bar",
         "x": [
          "Thriller"
         ],
         "xaxis": "x",
         "y": [
          9395061602
         ],
         "yaxis": "y"
        },
        {
         "alignmentgroup": "True",
         "hovertemplate": "Genre=%{x}<br>World Sales (in $)=%{y}<extra></extra>",
         "legendgroup": "Fantasy",
         "marker": {
          "color": "#19d3f3",
          "pattern": {
           "shape": ""
          }
         },
         "name": "Fantasy",
         "offsetgroup": "Fantasy",
         "orientation": "v",
         "showlegend": true,
         "textposition": "auto",
         "type": "bar",
         "x": [
          "Fantasy"
         ],
         "xaxis": "x",
         "y": [
          8847322687
         ],
         "yaxis": "y"
        },
        {
         "alignmentgroup": "True",
         "hovertemplate": "Genre=%{x}<br>World Sales (in $)=%{y}<extra></extra>",
         "legendgroup": "Drama",
         "marker": {
          "color": "#FF6692",
          "pattern": {
           "shape": ""
          }
         },
         "name": "Drama",
         "offsetgroup": "Drama",
         "orientation": "v",
         "showlegend": true,
         "textposition": "auto",
         "type": "bar",
         "x": [
          "Drama"
         ],
         "xaxis": "x",
         "y": [
          7767941209
         ],
         "yaxis": "y"
        },
        {
         "alignmentgroup": "True",
         "hovertemplate": "Genre=%{x}<br>World Sales (in $)=%{y}<extra></extra>",
         "legendgroup": "Family",
         "marker": {
          "color": "#B6E880",
          "pattern": {
           "shape": ""
          }
         },
         "name": "Family",
         "offsetgroup": "Family",
         "orientation": "v",
         "showlegend": true,
         "textposition": "auto",
         "type": "bar",
         "x": [
          "Family"
         ],
         "xaxis": "x",
         "y": [
          5353324665
         ],
         "yaxis": "y"
        },
        {
         "alignmentgroup": "True",
         "hovertemplate": "Genre=%{x}<br>World Sales (in $)=%{y}<extra></extra>",
         "legendgroup": "Crime",
         "marker": {
          "color": "#FF97FF",
          "pattern": {
           "shape": ""
          }
         },
         "name": "Crime",
         "offsetgroup": "Crime",
         "orientation": "v",
         "showlegend": true,
         "textposition": "auto",
         "type": "bar",
         "x": [
          "Crime"
         ],
         "xaxis": "x",
         "y": [
          4809514139
         ],
         "yaxis": "y"
        },
        {
         "alignmentgroup": "True",
         "hovertemplate": "Genre=%{x}<br>World Sales (in $)=%{y}<extra></extra>",
         "legendgroup": "Animation",
         "marker": {
          "color": "#FECB52",
          "pattern": {
           "shape": ""
          }
         },
         "name": "Animation",
         "offsetgroup": "Animation",
         "orientation": "v",
         "showlegend": true,
         "textposition": "auto",
         "type": "bar",
         "x": [
          "Animation"
         ],
         "xaxis": "x",
         "y": [
          4081891964
         ],
         "yaxis": "y"
        },
        {
         "alignmentgroup": "True",
         "hovertemplate": "Genre=%{x}<br>World Sales (in $)=%{y}<extra></extra>",
         "legendgroup": "Romance",
         "marker": {
          "color": "#636efa",
          "pattern": {
           "shape": ""
          }
         },
         "name": "Romance",
         "offsetgroup": "Romance",
         "orientation": "v",
         "showlegend": true,
         "textposition": "auto",
         "type": "bar",
         "x": [
          "Romance"
         ],
         "xaxis": "x",
         "y": [
          3920579494
         ],
         "yaxis": "y"
        },
        {
         "alignmentgroup": "True",
         "hovertemplate": "Genre=%{x}<br>World Sales (in $)=%{y}<extra></extra>",
         "legendgroup": "Mystery",
         "marker": {
          "color": "#EF553B",
          "pattern": {
           "shape": ""
          }
         },
         "name": "Mystery",
         "offsetgroup": "Mystery",
         "orientation": "v",
         "showlegend": true,
         "textposition": "auto",
         "type": "bar",
         "x": [
          "Mystery"
         ],
         "xaxis": "x",
         "y": [
          2275087491
         ],
         "yaxis": "y"
        },
        {
         "alignmentgroup": "True",
         "hovertemplate": "Genre=%{x}<br>World Sales (in $)=%{y}<extra></extra>",
         "legendgroup": "Horror",
         "marker": {
          "color": "#00cc96",
          "pattern": {
           "shape": ""
          }
         },
         "name": "Horror",
         "offsetgroup": "Horror",
         "orientation": "v",
         "showlegend": true,
         "textposition": "auto",
         "type": "bar",
         "x": [
          "Horror"
         ],
         "xaxis": "x",
         "y": [
          1549427198
         ],
         "yaxis": "y"
        },
        {
         "alignmentgroup": "True",
         "hovertemplate": "Genre=%{x}<br>World Sales (in $)=%{y}<extra></extra>",
         "legendgroup": "Biography",
         "marker": {
          "color": "#ab63fa",
          "pattern": {
           "shape": ""
          }
         },
         "name": "Biography",
         "offsetgroup": "Biography",
         "orientation": "v",
         "showlegend": true,
         "textposition": "auto",
         "type": "bar",
         "x": [
          "Biography"
         ],
         "xaxis": "x",
         "y": [
          1084974349
         ],
         "yaxis": "y"
        },
        {
         "alignmentgroup": "True",
         "hovertemplate": "Genre=%{x}<br>World Sales (in $)=%{y}<extra></extra>",
         "legendgroup": "Sport",
         "marker": {
          "color": "#FFA15A",
          "pattern": {
           "shape": ""
          }
         },
         "name": "Sport",
         "offsetgroup": "Sport",
         "orientation": "v",
         "showlegend": true,
         "textposition": "auto",
         "type": "bar",
         "x": [
          "Sport"
         ],
         "xaxis": "x",
         "y": [
          928480778
         ],
         "yaxis": "y"
        },
        {
         "alignmentgroup": "True",
         "hovertemplate": "Genre=%{x}<br>World Sales (in $)=%{y}<extra></extra>",
         "legendgroup": "War",
         "marker": {
          "color": "#19d3f3",
          "pattern": {
           "shape": ""
          }
         },
         "name": "War",
         "offsetgroup": "War",
         "orientation": "v",
         "showlegend": true,
         "textposition": "auto",
         "type": "bar",
         "x": [
          "War"
         ],
         "xaxis": "x",
         "y": [
          559937755
         ],
         "yaxis": "y"
        },
        {
         "alignmentgroup": "True",
         "hovertemplate": "Genre=%{x}<br>World Sales (in $)=%{y}<extra></extra>",
         "legendgroup": "History",
         "marker": {
          "color": "#FF6692",
          "pattern": {
           "shape": ""
          }
         },
         "name": "History",
         "offsetgroup": "History",
         "orientation": "v",
         "showlegend": true,
         "textposition": "auto",
         "type": "bar",
         "x": [
          "History"
         ],
         "xaxis": "x",
         "y": [
          507923428
         ],
         "yaxis": "y"
        },
        {
         "alignmentgroup": "True",
         "hovertemplate": "Genre=%{x}<br>World Sales (in $)=%{y}<extra></extra>",
         "legendgroup": "Western",
         "marker": {
          "color": "#B6E880",
          "pattern": {
           "shape": ""
          }
         },
         "name": "Western",
         "offsetgroup": "Western",
         "orientation": "v",
         "showlegend": true,
         "textposition": "auto",
         "type": "bar",
         "x": [
          "Western"
         ],
         "xaxis": "x",
         "y": [
          412649159
         ],
         "yaxis": "y"
        },
        {
         "alignmentgroup": "True",
         "hovertemplate": "Genre=%{x}<br>World Sales (in $)=%{y}<extra></extra>",
         "legendgroup": "Musical",
         "marker": {
          "color": "#FF97FF",
          "pattern": {
           "shape": ""
          }
         },
         "name": "Musical",
         "offsetgroup": "Musical",
         "orientation": "v",
         "showlegend": true,
         "textposition": "auto",
         "type": "bar",
         "x": [
          "Musical"
         ],
         "xaxis": "x",
         "y": [
          136853506
         ],
         "yaxis": "y"
        }
       ],
       "layout": {
        "autosize": true,
        "barmode": "relative",
        "legend": {
         "title": {
          "text": "Genre"
         },
         "tracegroupgap": 0
        },
        "template": {
         "data": {
          "bar": [
           {
            "error_x": {
             "color": "#2a3f5f"
            },
            "error_y": {
             "color": "#2a3f5f"
            },
            "marker": {
             "line": {
              "color": "#E5ECF6",
              "width": 0.5
             },
             "pattern": {
              "fillmode": "overlay",
              "size": 10,
              "solidity": 0.2
             }
            },
            "type": "bar"
           }
          ],
          "barpolar": [
           {
            "marker": {
             "line": {
              "color": "#E5ECF6",
              "width": 0.5
             },
             "pattern": {
              "fillmode": "overlay",
              "size": 10,
              "solidity": 0.2
             }
            },
            "type": "barpolar"
           }
          ],
          "carpet": [
           {
            "aaxis": {
             "endlinecolor": "#2a3f5f",
             "gridcolor": "white",
             "linecolor": "white",
             "minorgridcolor": "white",
             "startlinecolor": "#2a3f5f"
            },
            "baxis": {
             "endlinecolor": "#2a3f5f",
             "gridcolor": "white",
             "linecolor": "white",
             "minorgridcolor": "white",
             "startlinecolor": "#2a3f5f"
            },
            "type": "carpet"
           }
          ],
          "choropleth": [
           {
            "colorbar": {
             "outlinewidth": 0,
             "ticks": ""
            },
            "type": "choropleth"
           }
          ],
          "contour": [
           {
            "colorbar": {
             "outlinewidth": 0,
             "ticks": ""
            },
            "colorscale": [
             [
              0,
              "#0d0887"
             ],
             [
              0.1111111111111111,
              "#46039f"
             ],
             [
              0.2222222222222222,
              "#7201a8"
             ],
             [
              0.3333333333333333,
              "#9c179e"
             ],
             [
              0.4444444444444444,
              "#bd3786"
             ],
             [
              0.5555555555555556,
              "#d8576b"
             ],
             [
              0.6666666666666666,
              "#ed7953"
             ],
             [
              0.7777777777777778,
              "#fb9f3a"
             ],
             [
              0.8888888888888888,
              "#fdca26"
             ],
             [
              1,
              "#f0f921"
             ]
            ],
            "type": "contour"
           }
          ],
          "contourcarpet": [
           {
            "colorbar": {
             "outlinewidth": 0,
             "ticks": ""
            },
            "type": "contourcarpet"
           }
          ],
          "heatmap": [
           {
            "colorbar": {
             "outlinewidth": 0,
             "ticks": ""
            },
            "colorscale": [
             [
              0,
              "#0d0887"
             ],
             [
              0.1111111111111111,
              "#46039f"
             ],
             [
              0.2222222222222222,
              "#7201a8"
             ],
             [
              0.3333333333333333,
              "#9c179e"
             ],
             [
              0.4444444444444444,
              "#bd3786"
             ],
             [
              0.5555555555555556,
              "#d8576b"
             ],
             [
              0.6666666666666666,
              "#ed7953"
             ],
             [
              0.7777777777777778,
              "#fb9f3a"
             ],
             [
              0.8888888888888888,
              "#fdca26"
             ],
             [
              1,
              "#f0f921"
             ]
            ],
            "type": "heatmap"
           }
          ],
          "heatmapgl": [
           {
            "colorbar": {
             "outlinewidth": 0,
             "ticks": ""
            },
            "colorscale": [
             [
              0,
              "#0d0887"
             ],
             [
              0.1111111111111111,
              "#46039f"
             ],
             [
              0.2222222222222222,
              "#7201a8"
             ],
             [
              0.3333333333333333,
              "#9c179e"
             ],
             [
              0.4444444444444444,
              "#bd3786"
             ],
             [
              0.5555555555555556,
              "#d8576b"
             ],
             [
              0.6666666666666666,
              "#ed7953"
             ],
             [
              0.7777777777777778,
              "#fb9f3a"
             ],
             [
              0.8888888888888888,
              "#fdca26"
             ],
             [
              1,
              "#f0f921"
             ]
            ],
            "type": "heatmapgl"
           }
          ],
          "histogram": [
           {
            "marker": {
             "pattern": {
              "fillmode": "overlay",
              "size": 10,
              "solidity": 0.2
             }
            },
            "type": "histogram"
           }
          ],
          "histogram2d": [
           {
            "colorbar": {
             "outlinewidth": 0,
             "ticks": ""
            },
            "colorscale": [
             [
              0,
              "#0d0887"
             ],
             [
              0.1111111111111111,
              "#46039f"
             ],
             [
              0.2222222222222222,
              "#7201a8"
             ],
             [
              0.3333333333333333,
              "#9c179e"
             ],
             [
              0.4444444444444444,
              "#bd3786"
             ],
             [
              0.5555555555555556,
              "#d8576b"
             ],
             [
              0.6666666666666666,
              "#ed7953"
             ],
             [
              0.7777777777777778,
              "#fb9f3a"
             ],
             [
              0.8888888888888888,
              "#fdca26"
             ],
             [
              1,
              "#f0f921"
             ]
            ],
            "type": "histogram2d"
           }
          ],
          "histogram2dcontour": [
           {
            "colorbar": {
             "outlinewidth": 0,
             "ticks": ""
            },
            "colorscale": [
             [
              0,
              "#0d0887"
             ],
             [
              0.1111111111111111,
              "#46039f"
             ],
             [
              0.2222222222222222,
              "#7201a8"
             ],
             [
              0.3333333333333333,
              "#9c179e"
             ],
             [
              0.4444444444444444,
              "#bd3786"
             ],
             [
              0.5555555555555556,
              "#d8576b"
             ],
             [
              0.6666666666666666,
              "#ed7953"
             ],
             [
              0.7777777777777778,
              "#fb9f3a"
             ],
             [
              0.8888888888888888,
              "#fdca26"
             ],
             [
              1,
              "#f0f921"
             ]
            ],
            "type": "histogram2dcontour"
           }
          ],
          "mesh3d": [
           {
            "colorbar": {
             "outlinewidth": 0,
             "ticks": ""
            },
            "type": "mesh3d"
           }
          ],
          "parcoords": [
           {
            "line": {
             "colorbar": {
              "outlinewidth": 0,
              "ticks": ""
             }
            },
            "type": "parcoords"
           }
          ],
          "pie": [
           {
            "automargin": true,
            "type": "pie"
           }
          ],
          "scatter": [
           {
            "marker": {
             "colorbar": {
              "outlinewidth": 0,
              "ticks": ""
             }
            },
            "type": "scatter"
           }
          ],
          "scatter3d": [
           {
            "line": {
             "colorbar": {
              "outlinewidth": 0,
              "ticks": ""
             }
            },
            "marker": {
             "colorbar": {
              "outlinewidth": 0,
              "ticks": ""
             }
            },
            "type": "scatter3d"
           }
          ],
          "scattercarpet": [
           {
            "marker": {
             "colorbar": {
              "outlinewidth": 0,
              "ticks": ""
             }
            },
            "type": "scattercarpet"
           }
          ],
          "scattergeo": [
           {
            "marker": {
             "colorbar": {
              "outlinewidth": 0,
              "ticks": ""
             }
            },
            "type": "scattergeo"
           }
          ],
          "scattergl": [
           {
            "marker": {
             "colorbar": {
              "outlinewidth": 0,
              "ticks": ""
             }
            },
            "type": "scattergl"
           }
          ],
          "scattermapbox": [
           {
            "marker": {
             "colorbar": {
              "outlinewidth": 0,
              "ticks": ""
             }
            },
            "type": "scattermapbox"
           }
          ],
          "scatterpolar": [
           {
            "marker": {
             "colorbar": {
              "outlinewidth": 0,
              "ticks": ""
             }
            },
            "type": "scatterpolar"
           }
          ],
          "scatterpolargl": [
           {
            "marker": {
             "colorbar": {
              "outlinewidth": 0,
              "ticks": ""
             }
            },
            "type": "scatterpolargl"
           }
          ],
          "scatterternary": [
           {
            "marker": {
             "colorbar": {
              "outlinewidth": 0,
              "ticks": ""
             }
            },
            "type": "scatterternary"
           }
          ],
          "surface": [
           {
            "colorbar": {
             "outlinewidth": 0,
             "ticks": ""
            },
            "colorscale": [
             [
              0,
              "#0d0887"
             ],
             [
              0.1111111111111111,
              "#46039f"
             ],
             [
              0.2222222222222222,
              "#7201a8"
             ],
             [
              0.3333333333333333,
              "#9c179e"
             ],
             [
              0.4444444444444444,
              "#bd3786"
             ],
             [
              0.5555555555555556,
              "#d8576b"
             ],
             [
              0.6666666666666666,
              "#ed7953"
             ],
             [
              0.7777777777777778,
              "#fb9f3a"
             ],
             [
              0.8888888888888888,
              "#fdca26"
             ],
             [
              1,
              "#f0f921"
             ]
            ],
            "type": "surface"
           }
          ],
          "table": [
           {
            "cells": {
             "fill": {
              "color": "#EBF0F8"
             },
             "line": {
              "color": "white"
             }
            },
            "header": {
             "fill": {
              "color": "#C8D4E3"
             },
             "line": {
              "color": "white"
             }
            },
            "type": "table"
           }
          ]
         },
         "layout": {
          "annotationdefaults": {
           "arrowcolor": "#2a3f5f",
           "arrowhead": 0,
           "arrowwidth": 1
          },
          "autotypenumbers": "strict",
          "coloraxis": {
           "colorbar": {
            "outlinewidth": 0,
            "ticks": ""
           }
          },
          "colorscale": {
           "diverging": [
            [
             0,
             "#8e0152"
            ],
            [
             0.1,
             "#c51b7d"
            ],
            [
             0.2,
             "#de77ae"
            ],
            [
             0.3,
             "#f1b6da"
            ],
            [
             0.4,
             "#fde0ef"
            ],
            [
             0.5,
             "#f7f7f7"
            ],
            [
             0.6,
             "#e6f5d0"
            ],
            [
             0.7,
             "#b8e186"
            ],
            [
             0.8,
             "#7fbc41"
            ],
            [
             0.9,
             "#4d9221"
            ],
            [
             1,
             "#276419"
            ]
           ],
           "sequential": [
            [
             0,
             "#0d0887"
            ],
            [
             0.1111111111111111,
             "#46039f"
            ],
            [
             0.2222222222222222,
             "#7201a8"
            ],
            [
             0.3333333333333333,
             "#9c179e"
            ],
            [
             0.4444444444444444,
             "#bd3786"
            ],
            [
             0.5555555555555556,
             "#d8576b"
            ],
            [
             0.6666666666666666,
             "#ed7953"
            ],
            [
             0.7777777777777778,
             "#fb9f3a"
            ],
            [
             0.8888888888888888,
             "#fdca26"
            ],
            [
             1,
             "#f0f921"
            ]
           ],
           "sequentialminus": [
            [
             0,
             "#0d0887"
            ],
            [
             0.1111111111111111,
             "#46039f"
            ],
            [
             0.2222222222222222,
             "#7201a8"
            ],
            [
             0.3333333333333333,
             "#9c179e"
            ],
            [
             0.4444444444444444,
             "#bd3786"
            ],
            [
             0.5555555555555556,
             "#d8576b"
            ],
            [
             0.6666666666666666,
             "#ed7953"
            ],
            [
             0.7777777777777778,
             "#fb9f3a"
            ],
            [
             0.8888888888888888,
             "#fdca26"
            ],
            [
             1,
             "#f0f921"
            ]
           ]
          },
          "colorway": [
           "#636efa",
           "#EF553B",
           "#00cc96",
           "#ab63fa",
           "#FFA15A",
           "#19d3f3",
           "#FF6692",
           "#B6E880",
           "#FF97FF",
           "#FECB52"
          ],
          "font": {
           "color": "#2a3f5f"
          },
          "geo": {
           "bgcolor": "white",
           "lakecolor": "white",
           "landcolor": "#E5ECF6",
           "showlakes": true,
           "showland": true,
           "subunitcolor": "white"
          },
          "hoverlabel": {
           "align": "left"
          },
          "hovermode": "closest",
          "mapbox": {
           "style": "light"
          },
          "paper_bgcolor": "white",
          "plot_bgcolor": "#E5ECF6",
          "polar": {
           "angularaxis": {
            "gridcolor": "white",
            "linecolor": "white",
            "ticks": ""
           },
           "bgcolor": "#E5ECF6",
           "radialaxis": {
            "gridcolor": "white",
            "linecolor": "white",
            "ticks": ""
           }
          },
          "scene": {
           "xaxis": {
            "backgroundcolor": "#E5ECF6",
            "gridcolor": "white",
            "gridwidth": 2,
            "linecolor": "white",
            "showbackground": true,
            "ticks": "",
            "zerolinecolor": "white"
           },
           "yaxis": {
            "backgroundcolor": "#E5ECF6",
            "gridcolor": "white",
            "gridwidth": 2,
            "linecolor": "white",
            "showbackground": true,
            "ticks": "",
            "zerolinecolor": "white"
           },
           "zaxis": {
            "backgroundcolor": "#E5ECF6",
            "gridcolor": "white",
            "gridwidth": 2,
            "linecolor": "white",
            "showbackground": true,
            "ticks": "",
            "zerolinecolor": "white"
           }
          },
          "shapedefaults": {
           "line": {
            "color": "#2a3f5f"
           }
          },
          "ternary": {
           "aaxis": {
            "gridcolor": "white",
            "linecolor": "white",
            "ticks": ""
           },
           "baxis": {
            "gridcolor": "white",
            "linecolor": "white",
            "ticks": ""
           },
           "bgcolor": "#E5ECF6",
           "caxis": {
            "gridcolor": "white",
            "linecolor": "white",
            "ticks": ""
           }
          },
          "title": {
           "x": 0.05
          },
          "xaxis": {
           "automargin": true,
           "gridcolor": "white",
           "linecolor": "white",
           "ticks": "",
           "title": {
            "standoff": 15
           },
           "zerolinecolor": "white",
           "zerolinewidth": 2
          },
          "yaxis": {
           "automargin": true,
           "gridcolor": "white",
           "linecolor": "white",
           "ticks": "",
           "title": {
            "standoff": 15
           },
           "zerolinecolor": "white",
           "zerolinewidth": 2
          }
         }
        },
        "title": {
         "text": "Top Grossing Genres For Sony Pictures Entertainment (SPE)"
        },
        "xaxis": {
         "anchor": "y",
         "autorange": true,
         "categoryarray": [
          "Action",
          "Adventure",
          "Comedy",
          "Sci-Fi",
          "Thriller",
          "Fantasy",
          "Drama",
          "Family",
          "Crime",
          "Animation",
          "Romance",
          "Mystery",
          "Horror",
          "Biography",
          "Sport",
          "War",
          "History",
          "Western",
          "Musical"
         ],
         "categoryorder": "array",
         "domain": [
          0,
          1
         ],
         "range": [
          -0.5,
          18.5
         ],
         "title": {
          "text": "Genre"
         },
         "type": "category"
        },
        "yaxis": {
         "anchor": "x",
         "autorange": true,
         "domain": [
          0,
          1
         ],
         "range": [
          0,
          25796590941.05263
         ],
         "title": {
          "text": "World Sales (in $)"
         },
         "type": "linear"
        }
       }
      },
      "image/png": "[encoded data removed]"
     },
     "metadata": {},
     "output_type": "display_data"
    },
    {
     "data": {
      "text/html": [
       "<div>\n",
       "<style scoped>\n",
       "    .dataframe tbody tr th:only-of-type {\n",
       "        vertical-align: middle;\n",
       "    }\n",
       "\n",
       "    .dataframe tbody tr th {\n",
       "        vertical-align: top;\n",
       "    }\n",
       "\n",
       "    .dataframe thead th {\n",
       "        text-align: right;\n",
       "    }\n",
       "</style>\n",
       "<table border=\"1\" class=\"dataframe\">\n",
       "  <thead>\n",
       "    <tr style=\"text-align: right;\">\n",
       "      <th></th>\n",
       "      <th>Distributor</th>\n",
       "      <th>Genre</th>\n",
       "      <th>Domestic Sales (in $)</th>\n",
       "      <th>International Sales (in $)</th>\n",
       "      <th>World Sales (in $)</th>\n",
       "    </tr>\n",
       "  </thead>\n",
       "  <tbody>\n",
       "    <tr>\n",
       "      <th>0</th>\n",
       "      <td>Sony Pictures Entertainment (SPE)</td>\n",
       "      <td>Action</td>\n",
       "      <td>9640973223</td>\n",
       "      <td>14865788171</td>\n",
       "      <td>24506761394</td>\n",
       "    </tr>\n",
       "    <tr>\n",
       "      <th>1</th>\n",
       "      <td>Sony Pictures Entertainment (SPE)</td>\n",
       "      <td>Adventure</td>\n",
       "      <td>8267811461</td>\n",
       "      <td>14076510298</td>\n",
       "      <td>22344321759</td>\n",
       "    </tr>\n",
       "    <tr>\n",
       "      <th>2</th>\n",
       "      <td>Sony Pictures Entertainment (SPE)</td>\n",
       "      <td>Comedy</td>\n",
       "      <td>7848143409</td>\n",
       "      <td>8862630271</td>\n",
       "      <td>16710773680</td>\n",
       "    </tr>\n",
       "    <tr>\n",
       "      <th>3</th>\n",
       "      <td>Sony Pictures Entertainment (SPE)</td>\n",
       "      <td>Sci-Fi</td>\n",
       "      <td>5412200769</td>\n",
       "      <td>8613713091</td>\n",
       "      <td>14025913860</td>\n",
       "    </tr>\n",
       "    <tr>\n",
       "      <th>4</th>\n",
       "      <td>Sony Pictures Entertainment (SPE)</td>\n",
       "      <td>Thriller</td>\n",
       "      <td>3525316991</td>\n",
       "      <td>5869744611</td>\n",
       "      <td>9395061602</td>\n",
       "    </tr>\n",
       "    <tr>\n",
       "      <th>5</th>\n",
       "      <td>Sony Pictures Entertainment (SPE)</td>\n",
       "      <td>Fantasy</td>\n",
       "      <td>3681013419</td>\n",
       "      <td>5166309268</td>\n",
       "      <td>8847322687</td>\n",
       "    </tr>\n",
       "    <tr>\n",
       "      <th>6</th>\n",
       "      <td>Sony Pictures Entertainment (SPE)</td>\n",
       "      <td>Drama</td>\n",
       "      <td>3763774265</td>\n",
       "      <td>4004166944</td>\n",
       "      <td>7767941209</td>\n",
       "    </tr>\n",
       "    <tr>\n",
       "      <th>7</th>\n",
       "      <td>Sony Pictures Entertainment (SPE)</td>\n",
       "      <td>Family</td>\n",
       "      <td>2186735254</td>\n",
       "      <td>3166589411</td>\n",
       "      <td>5353324665</td>\n",
       "    </tr>\n",
       "    <tr>\n",
       "      <th>8</th>\n",
       "      <td>Sony Pictures Entertainment (SPE)</td>\n",
       "      <td>Crime</td>\n",
       "      <td>2518547465</td>\n",
       "      <td>2290966674</td>\n",
       "      <td>4809514139</td>\n",
       "    </tr>\n",
       "    <tr>\n",
       "      <th>9</th>\n",
       "      <td>Sony Pictures Entertainment (SPE)</td>\n",
       "      <td>Animation</td>\n",
       "      <td>1554685732</td>\n",
       "      <td>2527206232</td>\n",
       "      <td>4081891964</td>\n",
       "    </tr>\n",
       "  </tbody>\n",
       "</table>\n",
       "</div>"
      ],
      "text/plain": [
       "                         Distributor      Genre  Domestic Sales (in $)  \\\n",
       "0  Sony Pictures Entertainment (SPE)     Action             9640973223   \n",
       "1  Sony Pictures Entertainment (SPE)  Adventure             8267811461   \n",
       "2  Sony Pictures Entertainment (SPE)     Comedy             7848143409   \n",
       "3  Sony Pictures Entertainment (SPE)     Sci-Fi             5412200769   \n",
       "4  Sony Pictures Entertainment (SPE)   Thriller             3525316991   \n",
       "5  Sony Pictures Entertainment (SPE)    Fantasy             3681013419   \n",
       "6  Sony Pictures Entertainment (SPE)      Drama             3763774265   \n",
       "7  Sony Pictures Entertainment (SPE)     Family             2186735254   \n",
       "8  Sony Pictures Entertainment (SPE)      Crime             2518547465   \n",
       "9  Sony Pictures Entertainment (SPE)  Animation             1554685732   \n",
       "\n",
       "   International Sales (in $)  World Sales (in $)  \n",
       "0                 14865788171         24506761394  \n",
       "1                 14076510298         22344321759  \n",
       "2                  8862630271         16710773680  \n",
       "3                  8613713091         14025913860  \n",
       "4                  5869744611          9395061602  \n",
       "5                  5166309268          8847322687  \n",
       "6                  4004166944          7767941209  \n",
       "7                  3166589411          5353324665  \n",
       "8                  2290966674          4809514139  \n",
       "9                  2527206232          4081891964  "
      ]
     },
     "execution_count": 272,
     "metadata": {},
     "output_type": "execute_result"
    }
   ],
   "source": [
    "top_10_mov('Sony Pictures Entertainment (SPE)')"
   ]
  },
  {
   "cell_type": "markdown",
   "id": "2ba06eff-7a27-4ea8-8201-f04d094f8d0a",
   "metadata": {},
   "source": [
    "### Notes:"
   ]
  },
  {
   "cell_type": "markdown",
   "id": "8d9aab37-3794-4a54-94a2-9006a6310be3",
   "metadata": {},
   "source": [
    "The Action genre for Sony pictures has the highest grossing sales with over 24 billion. The Action genre combats for the top spot but is shy of about 2 billion."
   ]
  },
  {
   "cell_type": "code",
   "execution_count": 273,
   "id": "d92634cb-8d23-445e-818d-d1cf73da93c4",
   "metadata": {},
   "outputs": [
    {
     "data": {
      "application/vnd.plotly.v1+json": {
       "config": {
        "plotlyServerURL": "https://plot.ly"
       },
       "data": [
        {
         "alignmentgroup": "True",
         "hovertemplate": "Genre=%{x}<br>World Sales (in $)=%{y}<extra></extra>",
         "legendgroup": "Adventure",
         "marker": {
          "color": "#636efa",
          "pattern": {
           "shape": ""
          }
         },
         "name": "Adventure",
         "offsetgroup": "Adventure",
         "orientation": "v",
         "showlegend": true,
         "textposition": "auto",
         "type": "bar",
         "x": [
          "Adventure"
         ],
         "xaxis": "x",
         "y": [
          34111463912
         ],
         "yaxis": "y"
        },
        {
         "alignmentgroup": "True",
         "hovertemplate": "Genre=%{x}<br>World Sales (in $)=%{y}<extra></extra>",
         "legendgroup": "Action",
         "marker": {
          "color": "#EF553B",
          "pattern": {
           "shape": ""
          }
         },
         "name": "Action",
         "offsetgroup": "Action",
         "orientation": "v",
         "showlegend": true,
         "textposition": "auto",
         "type": "bar",
         "x": [
          "Action"
         ],
         "xaxis": "x",
         "y": [
          27142599049
         ],
         "yaxis": "y"
        },
        {
         "alignmentgroup": "True",
         "hovertemplate": "Genre=%{x}<br>World Sales (in $)=%{y}<extra></extra>",
         "legendgroup": "Sci-Fi",
         "marker": {
          "color": "#00cc96",
          "pattern": {
           "shape": ""
          }
         },
         "name": "Sci-Fi",
         "offsetgroup": "Sci-Fi",
         "orientation": "v",
         "showlegend": true,
         "textposition": "auto",
         "type": "bar",
         "x": [
          "Sci-Fi"
         ],
         "xaxis": "x",
         "y": [
          21943723569
         ],
         "yaxis": "y"
        },
        {
         "alignmentgroup": "True",
         "hovertemplate": "Genre=%{x}<br>World Sales (in $)=%{y}<extra></extra>",
         "legendgroup": "Comedy",
         "marker": {
          "color": "#ab63fa",
          "pattern": {
           "shape": ""
          }
         },
         "name": "Comedy",
         "offsetgroup": "Comedy",
         "orientation": "v",
         "showlegend": true,
         "textposition": "auto",
         "type": "bar",
         "x": [
          "Comedy"
         ],
         "xaxis": "x",
         "y": [
          20165425689
         ],
         "yaxis": "y"
        },
        {
         "alignmentgroup": "True",
         "hovertemplate": "Genre=%{x}<br>World Sales (in $)=%{y}<extra></extra>",
         "legendgroup": "Fantasy",
         "marker": {
          "color": "#FFA15A",
          "pattern": {
           "shape": ""
          }
         },
         "name": "Fantasy",
         "offsetgroup": "Fantasy",
         "orientation": "v",
         "showlegend": true,
         "textposition": "auto",
         "type": "bar",
         "x": [
          "Fantasy"
         ],
         "xaxis": "x",
         "y": [
          16409364026
         ],
         "yaxis": "y"
        },
        {
         "alignmentgroup": "True",
         "hovertemplate": "Genre=%{x}<br>World Sales (in $)=%{y}<extra></extra>",
         "legendgroup": "Family",
         "marker": {
          "color": "#19d3f3",
          "pattern": {
           "shape": ""
          }
         },
         "name": "Family",
         "offsetgroup": "Family",
         "orientation": "v",
         "showlegend": true,
         "textposition": "auto",
         "type": "bar",
         "x": [
          "Family"
         ],
         "xaxis": "x",
         "y": [
          15090752697
         ],
         "yaxis": "y"
        },
        {
         "alignmentgroup": "True",
         "hovertemplate": "Genre=%{x}<br>World Sales (in $)=%{y}<extra></extra>",
         "legendgroup": "Thriller",
         "marker": {
          "color": "#FF6692",
          "pattern": {
           "shape": ""
          }
         },
         "name": "Thriller",
         "offsetgroup": "Thriller",
         "orientation": "v",
         "showlegend": true,
         "textposition": "auto",
         "type": "bar",
         "x": [
          "Thriller"
         ],
         "xaxis": "x",
         "y": [
          11948813137
         ],
         "yaxis": "y"
        },
        {
         "alignmentgroup": "True",
         "hovertemplate": "Genre=%{x}<br>World Sales (in $)=%{y}<extra></extra>",
         "legendgroup": "Drama",
         "marker": {
          "color": "#B6E880",
          "pattern": {
           "shape": ""
          }
         },
         "name": "Drama",
         "offsetgroup": "Drama",
         "orientation": "v",
         "showlegend": true,
         "textposition": "auto",
         "type": "bar",
         "x": [
          "Drama"
         ],
         "xaxis": "x",
         "y": [
          11336822877
         ],
         "yaxis": "y"
        },
        {
         "alignmentgroup": "True",
         "hovertemplate": "Genre=%{x}<br>World Sales (in $)=%{y}<extra></extra>",
         "legendgroup": "Animation",
         "marker": {
          "color": "#FF97FF",
          "pattern": {
           "shape": ""
          }
         },
         "name": "Animation",
         "offsetgroup": "Animation",
         "orientation": "v",
         "showlegend": true,
         "textposition": "auto",
         "type": "bar",
         "x": [
          "Animation"
         ],
         "xaxis": "x",
         "y": [
          11013746124
         ],
         "yaxis": "y"
        },
        {
         "alignmentgroup": "True",
         "hovertemplate": "Genre=%{x}<br>World Sales (in $)=%{y}<extra></extra>",
         "legendgroup": "Crime",
         "marker": {
          "color": "#FECB52",
          "pattern": {
           "shape": ""
          }
         },
         "name": "Crime",
         "offsetgroup": "Crime",
         "orientation": "v",
         "showlegend": true,
         "textposition": "auto",
         "type": "bar",
         "x": [
          "Crime"
         ],
         "xaxis": "x",
         "y": [
          3983784675
         ],
         "yaxis": "y"
        },
        {
         "alignmentgroup": "True",
         "hovertemplate": "Genre=%{x}<br>World Sales (in $)=%{y}<extra></extra>",
         "legendgroup": "Music",
         "marker": {
          "color": "#636efa",
          "pattern": {
           "shape": ""
          }
         },
         "name": "Music",
         "offsetgroup": "Music",
         "orientation": "v",
         "showlegend": true,
         "textposition": "auto",
         "type": "bar",
         "x": [
          "Music"
         ],
         "xaxis": "x",
         "y": [
          3764814353
         ],
         "yaxis": "y"
        },
        {
         "alignmentgroup": "True",
         "hovertemplate": "Genre=%{x}<br>World Sales (in $)=%{y}<extra></extra>",
         "legendgroup": "Musical",
         "marker": {
          "color": "#EF553B",
          "pattern": {
           "shape": ""
          }
         },
         "name": "Musical",
         "offsetgroup": "Musical",
         "orientation": "v",
         "showlegend": true,
         "textposition": "auto",
         "type": "bar",
         "x": [
          "Musical"
         ],
         "xaxis": "x",
         "y": [
          3152448777
         ],
         "yaxis": "y"
        },
        {
         "alignmentgroup": "True",
         "hovertemplate": "Genre=%{x}<br>World Sales (in $)=%{y}<extra></extra>",
         "legendgroup": "Mystery",
         "marker": {
          "color": "#00cc96",
          "pattern": {
           "shape": ""
          }
         },
         "name": "Mystery",
         "offsetgroup": "Mystery",
         "orientation": "v",
         "showlegend": true,
         "textposition": "auto",
         "type": "bar",
         "x": [
          "Mystery"
         ],
         "xaxis": "x",
         "y": [
          2642908655
         ],
         "yaxis": "y"
        },
        {
         "alignmentgroup": "True",
         "hovertemplate": "Genre=%{x}<br>World Sales (in $)=%{y}<extra></extra>",
         "legendgroup": "Romance",
         "marker": {
          "color": "#ab63fa",
          "pattern": {
           "shape": ""
          }
         },
         "name": "Romance",
         "offsetgroup": "Romance",
         "orientation": "v",
         "showlegend": true,
         "textposition": "auto",
         "type": "bar",
         "x": [
          "Romance"
         ],
         "xaxis": "x",
         "y": [
          2464236661
         ],
         "yaxis": "y"
        },
        {
         "alignmentgroup": "True",
         "hovertemplate": "Genre=%{x}<br>World Sales (in $)=%{y}<extra></extra>",
         "legendgroup": "Biography",
         "marker": {
          "color": "#FFA15A",
          "pattern": {
           "shape": ""
          }
         },
         "name": "Biography",
         "offsetgroup": "Biography",
         "orientation": "v",
         "showlegend": true,
         "textposition": "auto",
         "type": "bar",
         "x": [
          "Biography"
         ],
         "xaxis": "x",
         "y": [
          1996022039
         ],
         "yaxis": "y"
        },
        {
         "alignmentgroup": "True",
         "hovertemplate": "Genre=%{x}<br>World Sales (in $)=%{y}<extra></extra>",
         "legendgroup": "History",
         "marker": {
          "color": "#19d3f3",
          "pattern": {
           "shape": ""
          }
         },
         "name": "History",
         "offsetgroup": "History",
         "orientation": "v",
         "showlegend": true,
         "textposition": "auto",
         "type": "bar",
         "x": [
          "History"
         ],
         "xaxis": "x",
         "y": [
          1044605440
         ],
         "yaxis": "y"
        },
        {
         "alignmentgroup": "True",
         "hovertemplate": "Genre=%{x}<br>World Sales (in $)=%{y}<extra></extra>",
         "legendgroup": "Sport",
         "marker": {
          "color": "#FF6692",
          "pattern": {
           "shape": ""
          }
         },
         "name": "Sport",
         "offsetgroup": "Sport",
         "orientation": "v",
         "showlegend": true,
         "textposition": "auto",
         "type": "bar",
         "x": [
          "Sport"
         ],
         "xaxis": "x",
         "y": [
          676502119
         ],
         "yaxis": "y"
        },
        {
         "alignmentgroup": "True",
         "hovertemplate": "Genre=%{x}<br>World Sales (in $)=%{y}<extra></extra>",
         "legendgroup": "Western",
         "marker": {
          "color": "#B6E880",
          "pattern": {
           "shape": ""
          }
         },
         "name": "Western",
         "offsetgroup": "Western",
         "orientation": "v",
         "showlegend": true,
         "textposition": "auto",
         "type": "bar",
         "x": [
          "Western"
         ],
         "xaxis": "x",
         "y": [
          532950503
         ],
         "yaxis": "y"
        },
        {
         "alignmentgroup": "True",
         "hovertemplate": "Genre=%{x}<br>World Sales (in $)=%{y}<extra></extra>",
         "legendgroup": "War",
         "marker": {
          "color": "#FF97FF",
          "pattern": {
           "shape": ""
          }
         },
         "name": "War",
         "offsetgroup": "War",
         "orientation": "v",
         "showlegend": true,
         "textposition": "auto",
         "type": "bar",
         "x": [
          "War"
         ],
         "xaxis": "x",
         "y": [
          293222535
         ],
         "yaxis": "y"
        },
        {
         "alignmentgroup": "True",
         "hovertemplate": "Genre=%{x}<br>World Sales (in $)=%{y}<extra></extra>",
         "legendgroup": "Horror",
         "marker": {
          "color": "#FECB52",
          "pattern": {
           "shape": ""
          }
         },
         "name": "Horror",
         "offsetgroup": "Horror",
         "orientation": "v",
         "showlegend": true,
         "textposition": "auto",
         "type": "bar",
         "x": [
          "Horror"
         ],
         "xaxis": "x",
         "y": [
          106285522
         ],
         "yaxis": "y"
        }
       ],
       "layout": {
        "autosize": true,
        "barmode": "relative",
        "legend": {
         "title": {
          "text": "Genre"
         },
         "tracegroupgap": 0
        },
        "template": {
         "data": {
          "bar": [
           {
            "error_x": {
             "color": "#2a3f5f"
            },
            "error_y": {
             "color": "#2a3f5f"
            },
            "marker": {
             "line": {
              "color": "#E5ECF6",
              "width": 0.5
             },
             "pattern": {
              "fillmode": "overlay",
              "size": 10,
              "solidity": 0.2
             }
            },
            "type": "bar"
           }
          ],
          "barpolar": [
           {
            "marker": {
             "line": {
              "color": "#E5ECF6",
              "width": 0.5
             },
             "pattern": {
              "fillmode": "overlay",
              "size": 10,
              "solidity": 0.2
             }
            },
            "type": "barpolar"
           }
          ],
          "carpet": [
           {
            "aaxis": {
             "endlinecolor": "#2a3f5f",
             "gridcolor": "white",
             "linecolor": "white",
             "minorgridcolor": "white",
             "startlinecolor": "#2a3f5f"
            },
            "baxis": {
             "endlinecolor": "#2a3f5f",
             "gridcolor": "white",
             "linecolor": "white",
             "minorgridcolor": "white",
             "startlinecolor": "#2a3f5f"
            },
            "type": "carpet"
           }
          ],
          "choropleth": [
           {
            "colorbar": {
             "outlinewidth": 0,
             "ticks": ""
            },
            "type": "choropleth"
           }
          ],
          "contour": [
           {
            "colorbar": {
             "outlinewidth": 0,
             "ticks": ""
            },
            "colorscale": [
             [
              0,
              "#0d0887"
             ],
             [
              0.1111111111111111,
              "#46039f"
             ],
             [
              0.2222222222222222,
              "#7201a8"
             ],
             [
              0.3333333333333333,
              "#9c179e"
             ],
             [
              0.4444444444444444,
              "#bd3786"
             ],
             [
              0.5555555555555556,
              "#d8576b"
             ],
             [
              0.6666666666666666,
              "#ed7953"
             ],
             [
              0.7777777777777778,
              "#fb9f3a"
             ],
             [
              0.8888888888888888,
              "#fdca26"
             ],
             [
              1,
              "#f0f921"
             ]
            ],
            "type": "contour"
           }
          ],
          "contourcarpet": [
           {
            "colorbar": {
             "outlinewidth": 0,
             "ticks": ""
            },
            "type": "contourcarpet"
           }
          ],
          "heatmap": [
           {
            "colorbar": {
             "outlinewidth": 0,
             "ticks": ""
            },
            "colorscale": [
             [
              0,
              "#0d0887"
             ],
             [
              0.1111111111111111,
              "#46039f"
             ],
             [
              0.2222222222222222,
              "#7201a8"
             ],
             [
              0.3333333333333333,
              "#9c179e"
             ],
             [
              0.4444444444444444,
              "#bd3786"
             ],
             [
              0.5555555555555556,
              "#d8576b"
             ],
             [
              0.6666666666666666,
              "#ed7953"
             ],
             [
              0.7777777777777778,
              "#fb9f3a"
             ],
             [
              0.8888888888888888,
              "#fdca26"
             ],
             [
              1,
              "#f0f921"
             ]
            ],
            "type": "heatmap"
           }
          ],
          "heatmapgl": [
           {
            "colorbar": {
             "outlinewidth": 0,
             "ticks": ""
            },
            "colorscale": [
             [
              0,
              "#0d0887"
             ],
             [
              0.1111111111111111,
              "#46039f"
             ],
             [
              0.2222222222222222,
              "#7201a8"
             ],
             [
              0.3333333333333333,
              "#9c179e"
             ],
             [
              0.4444444444444444,
              "#bd3786"
             ],
             [
              0.5555555555555556,
              "#d8576b"
             ],
             [
              0.6666666666666666,
              "#ed7953"
             ],
             [
              0.7777777777777778,
              "#fb9f3a"
             ],
             [
              0.8888888888888888,
              "#fdca26"
             ],
             [
              1,
              "#f0f921"
             ]
            ],
            "type": "heatmapgl"
           }
          ],
          "histogram": [
           {
            "marker": {
             "pattern": {
              "fillmode": "overlay",
              "size": 10,
              "solidity": 0.2
             }
            },
            "type": "histogram"
           }
          ],
          "histogram2d": [
           {
            "colorbar": {
             "outlinewidth": 0,
             "ticks": ""
            },
            "colorscale": [
             [
              0,
              "#0d0887"
             ],
             [
              0.1111111111111111,
              "#46039f"
             ],
             [
              0.2222222222222222,
              "#7201a8"
             ],
             [
              0.3333333333333333,
              "#9c179e"
             ],
             [
              0.4444444444444444,
              "#bd3786"
             ],
             [
              0.5555555555555556,
              "#d8576b"
             ],
             [
              0.6666666666666666,
              "#ed7953"
             ],
             [
              0.7777777777777778,
              "#fb9f3a"
             ],
             [
              0.8888888888888888,
              "#fdca26"
             ],
             [
              1,
              "#f0f921"
             ]
            ],
            "type": "histogram2d"
           }
          ],
          "histogram2dcontour": [
           {
            "colorbar": {
             "outlinewidth": 0,
             "ticks": ""
            },
            "colorscale": [
             [
              0,
              "#0d0887"
             ],
             [
              0.1111111111111111,
              "#46039f"
             ],
             [
              0.2222222222222222,
              "#7201a8"
             ],
             [
              0.3333333333333333,
              "#9c179e"
             ],
             [
              0.4444444444444444,
              "#bd3786"
             ],
             [
              0.5555555555555556,
              "#d8576b"
             ],
             [
              0.6666666666666666,
              "#ed7953"
             ],
             [
              0.7777777777777778,
              "#fb9f3a"
             ],
             [
              0.8888888888888888,
              "#fdca26"
             ],
             [
              1,
              "#f0f921"
             ]
            ],
            "type": "histogram2dcontour"
           }
          ],
          "mesh3d": [
           {
            "colorbar": {
             "outlinewidth": 0,
             "ticks": ""
            },
            "type": "mesh3d"
           }
          ],
          "parcoords": [
           {
            "line": {
             "colorbar": {
              "outlinewidth": 0,
              "ticks": ""
             }
            },
            "type": "parcoords"
           }
          ],
          "pie": [
           {
            "automargin": true,
            "type": "pie"
           }
          ],
          "scatter": [
           {
            "marker": {
             "colorbar": {
              "outlinewidth": 0,
              "ticks": ""
             }
            },
            "type": "scatter"
           }
          ],
          "scatter3d": [
           {
            "line": {
             "colorbar": {
              "outlinewidth": 0,
              "ticks": ""
             }
            },
            "marker": {
             "colorbar": {
              "outlinewidth": 0,
              "ticks": ""
             }
            },
            "type": "scatter3d"
           }
          ],
          "scattercarpet": [
           {
            "marker": {
             "colorbar": {
              "outlinewidth": 0,
              "ticks": ""
             }
            },
            "type": "scattercarpet"
           }
          ],
          "scattergeo": [
           {
            "marker": {
             "colorbar": {
              "outlinewidth": 0,
              "ticks": ""
             }
            },
            "type": "scattergeo"
           }
          ],
          "scattergl": [
           {
            "marker": {
             "colorbar": {
              "outlinewidth": 0,
              "ticks": ""
             }
            },
            "type": "scattergl"
           }
          ],
          "scattermapbox": [
           {
            "marker": {
             "colorbar": {
              "outlinewidth": 0,
              "ticks": ""
             }
            },
            "type": "scattermapbox"
           }
          ],
          "scatterpolar": [
           {
            "marker": {
             "colorbar": {
              "outlinewidth": 0,
              "ticks": ""
             }
            },
            "type": "scatterpolar"
           }
          ],
          "scatterpolargl": [
           {
            "marker": {
             "colorbar": {
              "outlinewidth": 0,
              "ticks": ""
             }
            },
            "type": "scatterpolargl"
           }
          ],
          "scatterternary": [
           {
            "marker": {
             "colorbar": {
              "outlinewidth": 0,
              "ticks": ""
             }
            },
            "type": "scatterternary"
           }
          ],
          "surface": [
           {
            "colorbar": {
             "outlinewidth": 0,
             "ticks": ""
            },
            "colorscale": [
             [
              0,
              "#0d0887"
             ],
             [
              0.1111111111111111,
              "#46039f"
             ],
             [
              0.2222222222222222,
              "#7201a8"
             ],
             [
              0.3333333333333333,
              "#9c179e"
             ],
             [
              0.4444444444444444,
              "#bd3786"
             ],
             [
              0.5555555555555556,
              "#d8576b"
             ],
             [
              0.6666666666666666,
              "#ed7953"
             ],
             [
              0.7777777777777778,
              "#fb9f3a"
             ],
             [
              0.8888888888888888,
              "#fdca26"
             ],
             [
              1,
              "#f0f921"
             ]
            ],
            "type": "surface"
           }
          ],
          "table": [
           {
            "cells": {
             "fill": {
              "color": "#EBF0F8"
             },
             "line": {
              "color": "white"
             }
            },
            "header": {
             "fill": {
              "color": "#C8D4E3"
             },
             "line": {
              "color": "white"
             }
            },
            "type": "table"
           }
          ]
         },
         "layout": {
          "annotationdefaults": {
           "arrowcolor": "#2a3f5f",
           "arrowhead": 0,
           "arrowwidth": 1
          },
          "autotypenumbers": "strict",
          "coloraxis": {
           "colorbar": {
            "outlinewidth": 0,
            "ticks": ""
           }
          },
          "colorscale": {
           "diverging": [
            [
             0,
             "#8e0152"
            ],
            [
             0.1,
             "#c51b7d"
            ],
            [
             0.2,
             "#de77ae"
            ],
            [
             0.3,
             "#f1b6da"
            ],
            [
             0.4,
             "#fde0ef"
            ],
            [
             0.5,
             "#f7f7f7"
            ],
            [
             0.6,
             "#e6f5d0"
            ],
            [
             0.7,
             "#b8e186"
            ],
            [
             0.8,
             "#7fbc41"
            ],
            [
             0.9,
             "#4d9221"
            ],
            [
             1,
             "#276419"
            ]
           ],
           "sequential": [
            [
             0,
             "#0d0887"
            ],
            [
             0.1111111111111111,
             "#46039f"
            ],
            [
             0.2222222222222222,
             "#7201a8"
            ],
            [
             0.3333333333333333,
             "#9c179e"
            ],
            [
             0.4444444444444444,
             "#bd3786"
            ],
            [
             0.5555555555555556,
             "#d8576b"
            ],
            [
             0.6666666666666666,
             "#ed7953"
            ],
            [
             0.7777777777777778,
             "#fb9f3a"
            ],
            [
             0.8888888888888888,
             "#fdca26"
            ],
            [
             1,
             "#f0f921"
            ]
           ],
           "sequentialminus": [
            [
             0,
             "#0d0887"
            ],
            [
             0.1111111111111111,
             "#46039f"
            ],
            [
             0.2222222222222222,
             "#7201a8"
            ],
            [
             0.3333333333333333,
             "#9c179e"
            ],
            [
             0.4444444444444444,
             "#bd3786"
            ],
            [
             0.5555555555555556,
             "#d8576b"
            ],
            [
             0.6666666666666666,
             "#ed7953"
            ],
            [
             0.7777777777777778,
             "#fb9f3a"
            ],
            [
             0.8888888888888888,
             "#fdca26"
            ],
            [
             1,
             "#f0f921"
            ]
           ]
          },
          "colorway": [
           "#636efa",
           "#EF553B",
           "#00cc96",
           "#ab63fa",
           "#FFA15A",
           "#19d3f3",
           "#FF6692",
           "#B6E880",
           "#FF97FF",
           "#FECB52"
          ],
          "font": {
           "color": "#2a3f5f"
          },
          "geo": {
           "bgcolor": "white",
           "lakecolor": "white",
           "landcolor": "#E5ECF6",
           "showlakes": true,
           "showland": true,
           "subunitcolor": "white"
          },
          "hoverlabel": {
           "align": "left"
          },
          "hovermode": "closest",
          "mapbox": {
           "style": "light"
          },
          "paper_bgcolor": "white",
          "plot_bgcolor": "#E5ECF6",
          "polar": {
           "angularaxis": {
            "gridcolor": "white",
            "linecolor": "white",
            "ticks": ""
           },
           "bgcolor": "#E5ECF6",
           "radialaxis": {
            "gridcolor": "white",
            "linecolor": "white",
            "ticks": ""
           }
          },
          "scene": {
           "xaxis": {
            "backgroundcolor": "#E5ECF6",
            "gridcolor": "white",
            "gridwidth": 2,
            "linecolor": "white",
            "showbackground": true,
            "ticks": "",
            "zerolinecolor": "white"
           },
           "yaxis": {
            "backgroundcolor": "#E5ECF6",
            "gridcolor": "white",
            "gridwidth": 2,
            "linecolor": "white",
            "showbackground": true,
            "ticks": "",
            "zerolinecolor": "white"
           },
           "zaxis": {
            "backgroundcolor": "#E5ECF6",
            "gridcolor": "white",
            "gridwidth": 2,
            "linecolor": "white",
            "showbackground": true,
            "ticks": "",
            "zerolinecolor": "white"
           }
          },
          "shapedefaults": {
           "line": {
            "color": "#2a3f5f"
           }
          },
          "ternary": {
           "aaxis": {
            "gridcolor": "white",
            "linecolor": "white",
            "ticks": ""
           },
           "baxis": {
            "gridcolor": "white",
            "linecolor": "white",
            "ticks": ""
           },
           "bgcolor": "#E5ECF6",
           "caxis": {
            "gridcolor": "white",
            "linecolor": "white",
            "ticks": ""
           }
          },
          "title": {
           "x": 0.05
          },
          "xaxis": {
           "automargin": true,
           "gridcolor": "white",
           "linecolor": "white",
           "ticks": "",
           "title": {
            "standoff": 15
           },
           "zerolinecolor": "white",
           "zerolinewidth": 2
          },
          "yaxis": {
           "automargin": true,
           "gridcolor": "white",
           "linecolor": "white",
           "ticks": "",
           "title": {
            "standoff": 15
           },
           "zerolinecolor": "white",
           "zerolinewidth": 2
          }
         }
        },
        "title": {
         "text": "Top Grossing Genres For Twentieth Century Fox"
        },
        "xaxis": {
         "anchor": "y",
         "autorange": true,
         "categoryarray": [
          "Adventure",
          "Action",
          "Sci-Fi",
          "Comedy",
          "Fantasy",
          "Family",
          "Thriller",
          "Drama",
          "Animation",
          "Crime",
          "Music",
          "Musical",
          "Mystery",
          "Romance",
          "Biography",
          "History",
          "Sport",
          "Western",
          "War",
          "Horror"
         ],
         "categoryorder": "array",
         "domain": [
          0,
          1
         ],
         "range": [
          -0.5,
          19.5
         ],
         "title": {
          "text": "Genre"
         },
         "type": "category"
        },
        "yaxis": {
         "anchor": "x",
         "autorange": true,
         "domain": [
          0,
          1
         ],
         "range": [
          0,
          35906804117.89474
         ],
         "title": {
          "text": "World Sales (in $)"
         },
         "type": "linear"
        }
       }
      },
      "image/png": "[encoded data removed]"
     },
     "metadata": {},
     "output_type": "display_data"
    },
    {
     "data": {
      "text/html": [
       "<div>\n",
       "<style scoped>\n",
       "    .dataframe tbody tr th:only-of-type {\n",
       "        vertical-align: middle;\n",
       "    }\n",
       "\n",
       "    .dataframe tbody tr th {\n",
       "        vertical-align: top;\n",
       "    }\n",
       "\n",
       "    .dataframe thead th {\n",
       "        text-align: right;\n",
       "    }\n",
       "</style>\n",
       "<table border=\"1\" class=\"dataframe\">\n",
       "  <thead>\n",
       "    <tr style=\"text-align: right;\">\n",
       "      <th></th>\n",
       "      <th>Distributor</th>\n",
       "      <th>Genre</th>\n",
       "      <th>Domestic Sales (in $)</th>\n",
       "      <th>International Sales (in $)</th>\n",
       "      <th>World Sales (in $)</th>\n",
       "    </tr>\n",
       "  </thead>\n",
       "  <tbody>\n",
       "    <tr>\n",
       "      <th>0</th>\n",
       "      <td>Twentieth Century Fox</td>\n",
       "      <td>Adventure</td>\n",
       "      <td>12535097960</td>\n",
       "      <td>21358992028</td>\n",
       "      <td>34111463912</td>\n",
       "    </tr>\n",
       "    <tr>\n",
       "      <th>1</th>\n",
       "      <td>Twentieth Century Fox</td>\n",
       "      <td>Action</td>\n",
       "      <td>10642500697</td>\n",
       "      <td>16282724428</td>\n",
       "      <td>27142599049</td>\n",
       "    </tr>\n",
       "    <tr>\n",
       "      <th>2</th>\n",
       "      <td>Twentieth Century Fox</td>\n",
       "      <td>Sci-Fi</td>\n",
       "      <td>8606353676</td>\n",
       "      <td>13119995969</td>\n",
       "      <td>21943723569</td>\n",
       "    </tr>\n",
       "    <tr>\n",
       "      <th>3</th>\n",
       "      <td>Twentieth Century Fox</td>\n",
       "      <td>Comedy</td>\n",
       "      <td>8093189226</td>\n",
       "      <td>12153836463</td>\n",
       "      <td>20165425689</td>\n",
       "    </tr>\n",
       "    <tr>\n",
       "      <th>4</th>\n",
       "      <td>Twentieth Century Fox</td>\n",
       "      <td>Fantasy</td>\n",
       "      <td>6523325746</td>\n",
       "      <td>9668664356</td>\n",
       "      <td>16409364026</td>\n",
       "    </tr>\n",
       "    <tr>\n",
       "      <th>5</th>\n",
       "      <td>Twentieth Century Fox</td>\n",
       "      <td>Family</td>\n",
       "      <td>5679983772</td>\n",
       "      <td>9410768925</td>\n",
       "      <td>15090752697</td>\n",
       "    </tr>\n",
       "    <tr>\n",
       "      <th>6</th>\n",
       "      <td>Twentieth Century Fox</td>\n",
       "      <td>Thriller</td>\n",
       "      <td>4406972354</td>\n",
       "      <td>7541840783</td>\n",
       "      <td>11948813137</td>\n",
       "    </tr>\n",
       "    <tr>\n",
       "      <th>7</th>\n",
       "      <td>Twentieth Century Fox</td>\n",
       "      <td>Drama</td>\n",
       "      <td>4545699870</td>\n",
       "      <td>6872723007</td>\n",
       "      <td>11336822877</td>\n",
       "    </tr>\n",
       "    <tr>\n",
       "      <th>8</th>\n",
       "      <td>Twentieth Century Fox</td>\n",
       "      <td>Animation</td>\n",
       "      <td>3740876115</td>\n",
       "      <td>7272870009</td>\n",
       "      <td>11013746124</td>\n",
       "    </tr>\n",
       "    <tr>\n",
       "      <th>9</th>\n",
       "      <td>Twentieth Century Fox</td>\n",
       "      <td>Crime</td>\n",
       "      <td>1717659520</td>\n",
       "      <td>2266125155</td>\n",
       "      <td>3983784675</td>\n",
       "    </tr>\n",
       "  </tbody>\n",
       "</table>\n",
       "</div>"
      ],
      "text/plain": [
       "             Distributor      Genre  Domestic Sales (in $)  \\\n",
       "0  Twentieth Century Fox  Adventure            12535097960   \n",
       "1  Twentieth Century Fox     Action            10642500697   \n",
       "2  Twentieth Century Fox     Sci-Fi             8606353676   \n",
       "3  Twentieth Century Fox     Comedy             8093189226   \n",
       "4  Twentieth Century Fox    Fantasy             6523325746   \n",
       "5  Twentieth Century Fox     Family             5679983772   \n",
       "6  Twentieth Century Fox   Thriller             4406972354   \n",
       "7  Twentieth Century Fox      Drama             4545699870   \n",
       "8  Twentieth Century Fox  Animation             3740876115   \n",
       "9  Twentieth Century Fox      Crime             1717659520   \n",
       "\n",
       "   International Sales (in $)  World Sales (in $)  \n",
       "0                 21358992028         34111463912  \n",
       "1                 16282724428         27142599049  \n",
       "2                 13119995969         21943723569  \n",
       "3                 12153836463         20165425689  \n",
       "4                  9668664356         16409364026  \n",
       "5                  9410768925         15090752697  \n",
       "6                  7541840783         11948813137  \n",
       "7                  6872723007         11336822877  \n",
       "8                  7272870009         11013746124  \n",
       "9                  2266125155          3983784675  "
      ]
     },
     "execution_count": 273,
     "metadata": {},
     "output_type": "execute_result"
    }
   ],
   "source": [
    "top_10_mov('Twentieth Century Fox')"
   ]
  },
  {
   "cell_type": "markdown",
   "id": "c37117ca-dee3-401c-b83f-9a9739a5d025",
   "metadata": {
    "tags": []
   },
   "source": [
    "### Notes:"
   ]
  },
  {
   "cell_type": "markdown",
   "id": "07c00747-7a89-4026-a403-c7b1f5b854b0",
   "metadata": {},
   "source": [
    "The Adventure genre has the highest grossing sales for Twentieth Century Fox. The runner up would be action just shy of 7 billion dollars."
   ]
  },
  {
   "cell_type": "code",
   "execution_count": 274,
   "id": "75676fdb-1b3f-4998-8325-fec4095e02a2",
   "metadata": {
    "tags": []
   },
   "outputs": [
    {
     "data": {
      "application/vnd.plotly.v1+json": {
       "config": {
        "plotlyServerURL": "https://plot.ly"
       },
       "data": [
        {
         "alignmentgroup": "True",
         "hovertemplate": "Genre=%{x}<br>World Sales (in $)=%{y}<extra></extra>",
         "legendgroup": "Action",
         "marker": {
          "color": "#636efa",
          "pattern": {
           "shape": ""
          }
         },
         "name": "Action",
         "offsetgroup": "Action",
         "orientation": "v",
         "showlegend": true,
         "textposition": "auto",
         "type": "bar",
         "x": [
          "Action"
         ],
         "xaxis": "x",
         "y": [
          20505214387
         ],
         "yaxis": "y"
        },
        {
         "alignmentgroup": "True",
         "hovertemplate": "Genre=%{x}<br>World Sales (in $)=%{y}<extra></extra>",
         "legendgroup": "Comedy",
         "marker": {
          "color": "#EF553B",
          "pattern": {
           "shape": ""
          }
         },
         "name": "Comedy",
         "offsetgroup": "Comedy",
         "orientation": "v",
         "showlegend": true,
         "textposition": "auto",
         "type": "bar",
         "x": [
          "Comedy"
         ],
         "xaxis": "x",
         "y": [
          19396883640
         ],
         "yaxis": "y"
        },
        {
         "alignmentgroup": "True",
         "hovertemplate": "Genre=%{x}<br>World Sales (in $)=%{y}<extra></extra>",
         "legendgroup": "Adventure",
         "marker": {
          "color": "#00cc96",
          "pattern": {
           "shape": ""
          }
         },
         "name": "Adventure",
         "offsetgroup": "Adventure",
         "orientation": "v",
         "showlegend": true,
         "textposition": "auto",
         "type": "bar",
         "x": [
          "Adventure"
         ],
         "xaxis": "x",
         "y": [
          19208513178
         ],
         "yaxis": "y"
        },
        {
         "alignmentgroup": "True",
         "hovertemplate": "Genre=%{x}<br>World Sales (in $)=%{y}<extra></extra>",
         "legendgroup": "Thriller",
         "marker": {
          "color": "#ab63fa",
          "pattern": {
           "shape": ""
          }
         },
         "name": "Thriller",
         "offsetgroup": "Thriller",
         "orientation": "v",
         "showlegend": true,
         "textposition": "auto",
         "type": "bar",
         "x": [
          "Thriller"
         ],
         "xaxis": "x",
         "y": [
          14625407803
         ],
         "yaxis": "y"
        },
        {
         "alignmentgroup": "True",
         "hovertemplate": "Genre=%{x}<br>World Sales (in $)=%{y}<extra></extra>",
         "legendgroup": "Sci-Fi",
         "marker": {
          "color": "#FFA15A",
          "pattern": {
           "shape": ""
          }
         },
         "name": "Sci-Fi",
         "offsetgroup": "Sci-Fi",
         "orientation": "v",
         "showlegend": true,
         "textposition": "auto",
         "type": "bar",
         "x": [
          "Sci-Fi"
         ],
         "xaxis": "x",
         "y": [
          12844279361
         ],
         "yaxis": "y"
        },
        {
         "alignmentgroup": "True",
         "hovertemplate": "Genre=%{x}<br>World Sales (in $)=%{y}<extra></extra>",
         "legendgroup": "Crime",
         "marker": {
          "color": "#19d3f3",
          "pattern": {
           "shape": ""
          }
         },
         "name": "Crime",
         "offsetgroup": "Crime",
         "orientation": "v",
         "showlegend": true,
         "textposition": "auto",
         "type": "bar",
         "x": [
          "Crime"
         ],
         "xaxis": "x",
         "y": [
          10237953454
         ],
         "yaxis": "y"
        },
        {
         "alignmentgroup": "True",
         "hovertemplate": "Genre=%{x}<br>World Sales (in $)=%{y}<extra></extra>",
         "legendgroup": "Family",
         "marker": {
          "color": "#FF6692",
          "pattern": {
           "shape": ""
          }
         },
         "name": "Family",
         "offsetgroup": "Family",
         "orientation": "v",
         "showlegend": true,
         "textposition": "auto",
         "type": "bar",
         "x": [
          "Family"
         ],
         "xaxis": "x",
         "y": [
          9486709422
         ],
         "yaxis": "y"
        },
        {
         "alignmentgroup": "True",
         "hovertemplate": "Genre=%{x}<br>World Sales (in $)=%{y}<extra></extra>",
         "legendgroup": "Drama",
         "marker": {
          "color": "#B6E880",
          "pattern": {
           "shape": ""
          }
         },
         "name": "Drama",
         "offsetgroup": "Drama",
         "orientation": "v",
         "showlegend": true,
         "textposition": "auto",
         "type": "bar",
         "x": [
          "Drama"
         ],
         "xaxis": "x",
         "y": [
          8828062798
         ],
         "yaxis": "y"
        },
        {
         "alignmentgroup": "True",
         "hovertemplate": "Genre=%{x}<br>World Sales (in $)=%{y}<extra></extra>",
         "legendgroup": "Animation",
         "marker": {
          "color": "#FF97FF",
          "pattern": {
           "shape": ""
          }
         },
         "name": "Animation",
         "offsetgroup": "Animation",
         "orientation": "v",
         "showlegend": true,
         "textposition": "auto",
         "type": "bar",
         "x": [
          "Animation"
         ],
         "xaxis": "x",
         "y": [
          7410265169
         ],
         "yaxis": "y"
        },
        {
         "alignmentgroup": "True",
         "hovertemplate": "Genre=%{x}<br>World Sales (in $)=%{y}<extra></extra>",
         "legendgroup": "Romance",
         "marker": {
          "color": "#FECB52",
          "pattern": {
           "shape": ""
          }
         },
         "name": "Romance",
         "offsetgroup": "Romance",
         "orientation": "v",
         "showlegend": true,
         "textposition": "auto",
         "type": "bar",
         "x": [
          "Romance"
         ],
         "xaxis": "x",
         "y": [
          7122837185
         ],
         "yaxis": "y"
        },
        {
         "alignmentgroup": "True",
         "hovertemplate": "Genre=%{x}<br>World Sales (in $)=%{y}<extra></extra>",
         "legendgroup": "Fantasy",
         "marker": {
          "color": "#636efa",
          "pattern": {
           "shape": ""
          }
         },
         "name": "Fantasy",
         "offsetgroup": "Fantasy",
         "orientation": "v",
         "showlegend": true,
         "textposition": "auto",
         "type": "bar",
         "x": [
          "Fantasy"
         ],
         "xaxis": "x",
         "y": [
          5780635065
         ],
         "yaxis": "y"
        },
        {
         "alignmentgroup": "True",
         "hovertemplate": "Genre=%{x}<br>World Sales (in $)=%{y}<extra></extra>",
         "legendgroup": "Musical",
         "marker": {
          "color": "#EF553B",
          "pattern": {
           "shape": ""
          }
         },
         "name": "Musical",
         "offsetgroup": "Musical",
         "orientation": "v",
         "showlegend": true,
         "textposition": "auto",
         "type": "bar",
         "x": [
          "Musical"
         ],
         "xaxis": "x",
         "y": [
          3144098746
         ],
         "yaxis": "y"
        },
        {
         "alignmentgroup": "True",
         "hovertemplate": "Genre=%{x}<br>World Sales (in $)=%{y}<extra></extra>",
         "legendgroup": "Biography",
         "marker": {
          "color": "#00cc96",
          "pattern": {
           "shape": ""
          }
         },
         "name": "Biography",
         "offsetgroup": "Biography",
         "orientation": "v",
         "showlegend": true,
         "textposition": "auto",
         "type": "bar",
         "x": [
          "Biography"
         ],
         "xaxis": "x",
         "y": [
          2421026596
         ],
         "yaxis": "y"
        },
        {
         "alignmentgroup": "True",
         "hovertemplate": "Genre=%{x}<br>World Sales (in $)=%{y}<extra></extra>",
         "legendgroup": "Mystery",
         "marker": {
          "color": "#ab63fa",
          "pattern": {
           "shape": ""
          }
         },
         "name": "Mystery",
         "offsetgroup": "Mystery",
         "orientation": "v",
         "showlegend": true,
         "textposition": "auto",
         "type": "bar",
         "x": [
          "Mystery"
         ],
         "xaxis": "x",
         "y": [
          1612968201
         ],
         "yaxis": "y"
        },
        {
         "alignmentgroup": "True",
         "hovertemplate": "Genre=%{x}<br>World Sales (in $)=%{y}<extra></extra>",
         "legendgroup": "History",
         "marker": {
          "color": "#FFA15A",
          "pattern": {
           "shape": ""
          }
         },
         "name": "History",
         "offsetgroup": "History",
         "orientation": "v",
         "showlegend": true,
         "textposition": "auto",
         "type": "bar",
         "x": [
          "History"
         ],
         "xaxis": "x",
         "y": [
          1563144975
         ],
         "yaxis": "y"
        },
        {
         "alignmentgroup": "True",
         "hovertemplate": "Genre=%{x}<br>World Sales (in $)=%{y}<extra></extra>",
         "legendgroup": "Music",
         "marker": {
          "color": "#19d3f3",
          "pattern": {
           "shape": ""
          }
         },
         "name": "Music",
         "offsetgroup": "Music",
         "orientation": "v",
         "showlegend": true,
         "textposition": "auto",
         "type": "bar",
         "x": [
          "Music"
         ],
         "xaxis": "x",
         "y": [
          1431476864
         ],
         "yaxis": "y"
        },
        {
         "alignmentgroup": "True",
         "hovertemplate": "Genre=%{x}<br>World Sales (in $)=%{y}<extra></extra>",
         "legendgroup": "Horror",
         "marker": {
          "color": "#FF6692",
          "pattern": {
           "shape": ""
          }
         },
         "name": "Horror",
         "offsetgroup": "Horror",
         "orientation": "v",
         "showlegend": true,
         "textposition": "auto",
         "type": "bar",
         "x": [
          "Horror"
         ],
         "xaxis": "x",
         "y": [
          1324351825
         ],
         "yaxis": "y"
        },
        {
         "alignmentgroup": "True",
         "hovertemplate": "Genre=%{x}<br>World Sales (in $)=%{y}<extra></extra>",
         "legendgroup": "War",
         "marker": {
          "color": "#B6E880",
          "pattern": {
           "shape": ""
          }
         },
         "name": "War",
         "offsetgroup": "War",
         "orientation": "v",
         "showlegend": true,
         "textposition": "auto",
         "type": "bar",
         "x": [
          "War"
         ],
         "xaxis": "x",
         "y": [
          1104631428
         ],
         "yaxis": "y"
        },
        {
         "alignmentgroup": "True",
         "hovertemplate": "Genre=%{x}<br>World Sales (in $)=%{y}<extra></extra>",
         "legendgroup": "Western",
         "marker": {
          "color": "#FF97FF",
          "pattern": {
           "shape": ""
          }
         },
         "name": "Western",
         "offsetgroup": "Western",
         "orientation": "v",
         "showlegend": true,
         "textposition": "auto",
         "type": "bar",
         "x": [
          "Western"
         ],
         "xaxis": "x",
         "y": [
          419899908
         ],
         "yaxis": "y"
        },
        {
         "alignmentgroup": "True",
         "hovertemplate": "Genre=%{x}<br>World Sales (in $)=%{y}<extra></extra>",
         "legendgroup": "Sport",
         "marker": {
          "color": "#FECB52",
          "pattern": {
           "shape": ""
          }
         },
         "name": "Sport",
         "offsetgroup": "Sport",
         "orientation": "v",
         "showlegend": true,
         "textposition": "auto",
         "type": "bar",
         "x": [
          "Sport"
         ],
         "xaxis": "x",
         "y": [
          309795742
         ],
         "yaxis": "y"
        }
       ],
       "layout": {
        "autosize": true,
        "barmode": "relative",
        "legend": {
         "title": {
          "text": "Genre"
         },
         "tracegroupgap": 0
        },
        "template": {
         "data": {
          "bar": [
           {
            "error_x": {
             "color": "#2a3f5f"
            },
            "error_y": {
             "color": "#2a3f5f"
            },
            "marker": {
             "line": {
              "color": "#E5ECF6",
              "width": 0.5
             },
             "pattern": {
              "fillmode": "overlay",
              "size": 10,
              "solidity": 0.2
             }
            },
            "type": "bar"
           }
          ],
          "barpolar": [
           {
            "marker": {
             "line": {
              "color": "#E5ECF6",
              "width": 0.5
             },
             "pattern": {
              "fillmode": "overlay",
              "size": 10,
              "solidity": 0.2
             }
            },
            "type": "barpolar"
           }
          ],
          "carpet": [
           {
            "aaxis": {
             "endlinecolor": "#2a3f5f",
             "gridcolor": "white",
             "linecolor": "white",
             "minorgridcolor": "white",
             "startlinecolor": "#2a3f5f"
            },
            "baxis": {
             "endlinecolor": "#2a3f5f",
             "gridcolor": "white",
             "linecolor": "white",
             "minorgridcolor": "white",
             "startlinecolor": "#2a3f5f"
            },
            "type": "carpet"
           }
          ],
          "choropleth": [
           {
            "colorbar": {
             "outlinewidth": 0,
             "ticks": ""
            },
            "type": "choropleth"
           }
          ],
          "contour": [
           {
            "colorbar": {
             "outlinewidth": 0,
             "ticks": ""
            },
            "colorscale": [
             [
              0,
              "#0d0887"
             ],
             [
              0.1111111111111111,
              "#46039f"
             ],
             [
              0.2222222222222222,
              "#7201a8"
             ],
             [
              0.3333333333333333,
              "#9c179e"
             ],
             [
              0.4444444444444444,
              "#bd3786"
             ],
             [
              0.5555555555555556,
              "#d8576b"
             ],
             [
              0.6666666666666666,
              "#ed7953"
             ],
             [
              0.7777777777777778,
              "#fb9f3a"
             ],
             [
              0.8888888888888888,
              "#fdca26"
             ],
             [
              1,
              "#f0f921"
             ]
            ],
            "type": "contour"
           }
          ],
          "contourcarpet": [
           {
            "colorbar": {
             "outlinewidth": 0,
             "ticks": ""
            },
            "type": "contourcarpet"
           }
          ],
          "heatmap": [
           {
            "colorbar": {
             "outlinewidth": 0,
             "ticks": ""
            },
            "colorscale": [
             [
              0,
              "#0d0887"
             ],
             [
              0.1111111111111111,
              "#46039f"
             ],
             [
              0.2222222222222222,
              "#7201a8"
             ],
             [
              0.3333333333333333,
              "#9c179e"
             ],
             [
              0.4444444444444444,
              "#bd3786"
             ],
             [
              0.5555555555555556,
              "#d8576b"
             ],
             [
              0.6666666666666666,
              "#ed7953"
             ],
             [
              0.7777777777777778,
              "#fb9f3a"
             ],
             [
              0.8888888888888888,
              "#fdca26"
             ],
             [
              1,
              "#f0f921"
             ]
            ],
            "type": "heatmap"
           }
          ],
          "heatmapgl": [
           {
            "colorbar": {
             "outlinewidth": 0,
             "ticks": ""
            },
            "colorscale": [
             [
              0,
              "#0d0887"
             ],
             [
              0.1111111111111111,
              "#46039f"
             ],
             [
              0.2222222222222222,
              "#7201a8"
             ],
             [
              0.3333333333333333,
              "#9c179e"
             ],
             [
              0.4444444444444444,
              "#bd3786"
             ],
             [
              0.5555555555555556,
              "#d8576b"
             ],
             [
              0.6666666666666666,
              "#ed7953"
             ],
             [
              0.7777777777777778,
              "#fb9f3a"
             ],
             [
              0.8888888888888888,
              "#fdca26"
             ],
             [
              1,
              "#f0f921"
             ]
            ],
            "type": "heatmapgl"
           }
          ],
          "histogram": [
           {
            "marker": {
             "pattern": {
              "fillmode": "overlay",
              "size": 10,
              "solidity": 0.2
             }
            },
            "type": "histogram"
           }
          ],
          "histogram2d": [
           {
            "colorbar": {
             "outlinewidth": 0,
             "ticks": ""
            },
            "colorscale": [
             [
              0,
              "#0d0887"
             ],
             [
              0.1111111111111111,
              "#46039f"
             ],
             [
              0.2222222222222222,
              "#7201a8"
             ],
             [
              0.3333333333333333,
              "#9c179e"
             ],
             [
              0.4444444444444444,
              "#bd3786"
             ],
             [
              0.5555555555555556,
              "#d8576b"
             ],
             [
              0.6666666666666666,
              "#ed7953"
             ],
             [
              0.7777777777777778,
              "#fb9f3a"
             ],
             [
              0.8888888888888888,
              "#fdca26"
             ],
             [
              1,
              "#f0f921"
             ]
            ],
            "type": "histogram2d"
           }
          ],
          "histogram2dcontour": [
           {
            "colorbar": {
             "outlinewidth": 0,
             "ticks": ""
            },
            "colorscale": [
             [
              0,
              "#0d0887"
             ],
             [
              0.1111111111111111,
              "#46039f"
             ],
             [
              0.2222222222222222,
              "#7201a8"
             ],
             [
              0.3333333333333333,
              "#9c179e"
             ],
             [
              0.4444444444444444,
              "#bd3786"
             ],
             [
              0.5555555555555556,
              "#d8576b"
             ],
             [
              0.6666666666666666,
              "#ed7953"
             ],
             [
              0.7777777777777778,
              "#fb9f3a"
             ],
             [
              0.8888888888888888,
              "#fdca26"
             ],
             [
              1,
              "#f0f921"
             ]
            ],
            "type": "histogram2dcontour"
           }
          ],
          "mesh3d": [
           {
            "colorbar": {
             "outlinewidth": 0,
             "ticks": ""
            },
            "type": "mesh3d"
           }
          ],
          "parcoords": [
           {
            "line": {
             "colorbar": {
              "outlinewidth": 0,
              "ticks": ""
             }
            },
            "type": "parcoords"
           }
          ],
          "pie": [
           {
            "automargin": true,
            "type": "pie"
           }
          ],
          "scatter": [
           {
            "marker": {
             "colorbar": {
              "outlinewidth": 0,
              "ticks": ""
             }
            },
            "type": "scatter"
           }
          ],
          "scatter3d": [
           {
            "line": {
             "colorbar": {
              "outlinewidth": 0,
              "ticks": ""
             }
            },
            "marker": {
             "colorbar": {
              "outlinewidth": 0,
              "ticks": ""
             }
            },
            "type": "scatter3d"
           }
          ],
          "scattercarpet": [
           {
            "marker": {
             "colorbar": {
              "outlinewidth": 0,
              "ticks": ""
             }
            },
            "type": "scattercarpet"
           }
          ],
          "scattergeo": [
           {
            "marker": {
             "colorbar": {
              "outlinewidth": 0,
              "ticks": ""
             }
            },
            "type": "scattergeo"
           }
          ],
          "scattergl": [
           {
            "marker": {
             "colorbar": {
              "outlinewidth": 0,
              "ticks": ""
             }
            },
            "type": "scattergl"
           }
          ],
          "scattermapbox": [
           {
            "marker": {
             "colorbar": {
              "outlinewidth": 0,
              "ticks": ""
             }
            },
            "type": "scattermapbox"
           }
          ],
          "scatterpolar": [
           {
            "marker": {
             "colorbar": {
              "outlinewidth": 0,
              "ticks": ""
             }
            },
            "type": "scatterpolar"
           }
          ],
          "scatterpolargl": [
           {
            "marker": {
             "colorbar": {
              "outlinewidth": 0,
              "ticks": ""
             }
            },
            "type": "scatterpolargl"
           }
          ],
          "scatterternary": [
           {
            "marker": {
             "colorbar": {
              "outlinewidth": 0,
              "ticks": ""
             }
            },
            "type": "scatterternary"
           }
          ],
          "surface": [
           {
            "colorbar": {
             "outlinewidth": 0,
             "ticks": ""
            },
            "colorscale": [
             [
              0,
              "#0d0887"
             ],
             [
              0.1111111111111111,
              "#46039f"
             ],
             [
              0.2222222222222222,
              "#7201a8"
             ],
             [
              0.3333333333333333,
              "#9c179e"
             ],
             [
              0.4444444444444444,
              "#bd3786"
             ],
             [
              0.5555555555555556,
              "#d8576b"
             ],
             [
              0.6666666666666666,
              "#ed7953"
             ],
             [
              0.7777777777777778,
              "#fb9f3a"
             ],
             [
              0.8888888888888888,
              "#fdca26"
             ],
             [
              1,
              "#f0f921"
             ]
            ],
            "type": "surface"
           }
          ],
          "table": [
           {
            "cells": {
             "fill": {
              "color": "#EBF0F8"
             },
             "line": {
              "color": "white"
             }
            },
            "header": {
             "fill": {
              "color": "#C8D4E3"
             },
             "line": {
              "color": "white"
             }
            },
            "type": "table"
           }
          ]
         },
         "layout": {
          "annotationdefaults": {
           "arrowcolor": "#2a3f5f",
           "arrowhead": 0,
           "arrowwidth": 1
          },
          "autotypenumbers": "strict",
          "coloraxis": {
           "colorbar": {
            "outlinewidth": 0,
            "ticks": ""
           }
          },
          "colorscale": {
           "diverging": [
            [
             0,
             "#8e0152"
            ],
            [
             0.1,
             "#c51b7d"
            ],
            [
             0.2,
             "#de77ae"
            ],
            [
             0.3,
             "#f1b6da"
            ],
            [
             0.4,
             "#fde0ef"
            ],
            [
             0.5,
             "#f7f7f7"
            ],
            [
             0.6,
             "#e6f5d0"
            ],
            [
             0.7,
             "#b8e186"
            ],
            [
             0.8,
             "#7fbc41"
            ],
            [
             0.9,
             "#4d9221"
            ],
            [
             1,
             "#276419"
            ]
           ],
           "sequential": [
            [
             0,
             "#0d0887"
            ],
            [
             0.1111111111111111,
             "#46039f"
            ],
            [
             0.2222222222222222,
             "#7201a8"
            ],
            [
             0.3333333333333333,
             "#9c179e"
            ],
            [
             0.4444444444444444,
             "#bd3786"
            ],
            [
             0.5555555555555556,
             "#d8576b"
            ],
            [
             0.6666666666666666,
             "#ed7953"
            ],
            [
             0.7777777777777778,
             "#fb9f3a"
            ],
            [
             0.8888888888888888,
             "#fdca26"
            ],
            [
             1,
             "#f0f921"
            ]
           ],
           "sequentialminus": [
            [
             0,
             "#0d0887"
            ],
            [
             0.1111111111111111,
             "#46039f"
            ],
            [
             0.2222222222222222,
             "#7201a8"
            ],
            [
             0.3333333333333333,
             "#9c179e"
            ],
            [
             0.4444444444444444,
             "#bd3786"
            ],
            [
             0.5555555555555556,
             "#d8576b"
            ],
            [
             0.6666666666666666,
             "#ed7953"
            ],
            [
             0.7777777777777778,
             "#fb9f3a"
            ],
            [
             0.8888888888888888,
             "#fdca26"
            ],
            [
             1,
             "#f0f921"
            ]
           ]
          },
          "colorway": [
           "#636efa",
           "#EF553B",
           "#00cc96",
           "#ab63fa",
           "#FFA15A",
           "#19d3f3",
           "#FF6692",
           "#B6E880",
           "#FF97FF",
           "#FECB52"
          ],
          "font": {
           "color": "#2a3f5f"
          },
          "geo": {
           "bgcolor": "white",
           "lakecolor": "white",
           "landcolor": "#E5ECF6",
           "showlakes": true,
           "showland": true,
           "subunitcolor": "white"
          },
          "hoverlabel": {
           "align": "left"
          },
          "hovermode": "closest",
          "mapbox": {
           "style": "light"
          },
          "paper_bgcolor": "white",
          "plot_bgcolor": "#E5ECF6",
          "polar": {
           "angularaxis": {
            "gridcolor": "white",
            "linecolor": "white",
            "ticks": ""
           },
           "bgcolor": "#E5ECF6",
           "radialaxis": {
            "gridcolor": "white",
            "linecolor": "white",
            "ticks": ""
           }
          },
          "scene": {
           "xaxis": {
            "backgroundcolor": "#E5ECF6",
            "gridcolor": "white",
            "gridwidth": 2,
            "linecolor": "white",
            "showbackground": true,
            "ticks": "",
            "zerolinecolor": "white"
           },
           "yaxis": {
            "backgroundcolor": "#E5ECF6",
            "gridcolor": "white",
            "gridwidth": 2,
            "linecolor": "white",
            "showbackground": true,
            "ticks": "",
            "zerolinecolor": "white"
           },
           "zaxis": {
            "backgroundcolor": "#E5ECF6",
            "gridcolor": "white",
            "gridwidth": 2,
            "linecolor": "white",
            "showbackground": true,
            "ticks": "",
            "zerolinecolor": "white"
           }
          },
          "shapedefaults": {
           "line": {
            "color": "#2a3f5f"
           }
          },
          "ternary": {
           "aaxis": {
            "gridcolor": "white",
            "linecolor": "white",
            "ticks": ""
           },
           "baxis": {
            "gridcolor": "white",
            "linecolor": "white",
            "ticks": ""
           },
           "bgcolor": "#E5ECF6",
           "caxis": {
            "gridcolor": "white",
            "linecolor": "white",
            "ticks": ""
           }
          },
          "title": {
           "x": 0.05
          },
          "xaxis": {
           "automargin": true,
           "gridcolor": "white",
           "linecolor": "white",
           "ticks": "",
           "title": {
            "standoff": 15
           },
           "zerolinecolor": "white",
           "zerolinewidth": 2
          },
          "yaxis": {
           "automargin": true,
           "gridcolor": "white",
           "linecolor": "white",
           "ticks": "",
           "title": {
            "standoff": 15
           },
           "zerolinecolor": "white",
           "zerolinewidth": 2
          }
         }
        },
        "title": {
         "text": "Top Grossing Genres For Universal Pictures"
        },
        "xaxis": {
         "anchor": "y",
         "autorange": true,
         "categoryarray": [
          "Action",
          "Comedy",
          "Adventure",
          "Thriller",
          "Sci-Fi",
          "Crime",
          "Family",
          "Drama",
          "Animation",
          "Romance",
          "Fantasy",
          "Musical",
          "Biography",
          "Mystery",
          "History",
          "Music",
          "Horror",
          "War",
          "Western",
          "Sport"
         ],
         "categoryorder": "array",
         "domain": [
          0,
          1
         ],
         "range": [
          -0.5,
          19.5
         ],
         "title": {
          "text": "Genre"
         },
         "type": "category"
        },
        "yaxis": {
         "anchor": "x",
         "autorange": true,
         "domain": [
          0,
          1
         ],
         "range": [
          0,
          21584436196.842106
         ],
         "title": {
          "text": "World Sales (in $)"
         },
         "type": "linear"
        }
       }
      },
      "image/png": "[encoded data removed]"
     },
     "metadata": {},
     "output_type": "display_data"
    },
    {
     "data": {
      "text/html": [
       "<div>\n",
       "<style scoped>\n",
       "    .dataframe tbody tr th:only-of-type {\n",
       "        vertical-align: middle;\n",
       "    }\n",
       "\n",
       "    .dataframe tbody tr th {\n",
       "        vertical-align: top;\n",
       "    }\n",
       "\n",
       "    .dataframe thead th {\n",
       "        text-align: right;\n",
       "    }\n",
       "</style>\n",
       "<table border=\"1\" class=\"dataframe\">\n",
       "  <thead>\n",
       "    <tr style=\"text-align: right;\">\n",
       "      <th></th>\n",
       "      <th>Distributor</th>\n",
       "      <th>Genre</th>\n",
       "      <th>Domestic Sales (in $)</th>\n",
       "      <th>International Sales (in $)</th>\n",
       "      <th>World Sales (in $)</th>\n",
       "    </tr>\n",
       "  </thead>\n",
       "  <tbody>\n",
       "    <tr>\n",
       "      <th>0</th>\n",
       "      <td>Universal Pictures</td>\n",
       "      <td>Action</td>\n",
       "      <td>7636419201</td>\n",
       "      <td>12868795186</td>\n",
       "      <td>20505214387</td>\n",
       "    </tr>\n",
       "    <tr>\n",
       "      <th>1</th>\n",
       "      <td>Universal Pictures</td>\n",
       "      <td>Comedy</td>\n",
       "      <td>8979274834</td>\n",
       "      <td>10417608806</td>\n",
       "      <td>19396883640</td>\n",
       "    </tr>\n",
       "    <tr>\n",
       "      <th>2</th>\n",
       "      <td>Universal Pictures</td>\n",
       "      <td>Adventure</td>\n",
       "      <td>7731122633</td>\n",
       "      <td>11423472003</td>\n",
       "      <td>19208513178</td>\n",
       "    </tr>\n",
       "    <tr>\n",
       "      <th>3</th>\n",
       "      <td>Universal Pictures</td>\n",
       "      <td>Thriller</td>\n",
       "      <td>5474565341</td>\n",
       "      <td>9150842462</td>\n",
       "      <td>14625407803</td>\n",
       "    </tr>\n",
       "    <tr>\n",
       "      <th>4</th>\n",
       "      <td>Universal Pictures</td>\n",
       "      <td>Sci-Fi</td>\n",
       "      <td>4993037130</td>\n",
       "      <td>7797646119</td>\n",
       "      <td>12844279361</td>\n",
       "    </tr>\n",
       "    <tr>\n",
       "      <th>5</th>\n",
       "      <td>Universal Pictures</td>\n",
       "      <td>Crime</td>\n",
       "      <td>3761380636</td>\n",
       "      <td>6476572818</td>\n",
       "      <td>10237953454</td>\n",
       "    </tr>\n",
       "    <tr>\n",
       "      <th>6</th>\n",
       "      <td>Universal Pictures</td>\n",
       "      <td>Family</td>\n",
       "      <td>4010553890</td>\n",
       "      <td>5422559420</td>\n",
       "      <td>9486709422</td>\n",
       "    </tr>\n",
       "    <tr>\n",
       "      <th>7</th>\n",
       "      <td>Universal Pictures</td>\n",
       "      <td>Drama</td>\n",
       "      <td>4035448355</td>\n",
       "      <td>4792292013</td>\n",
       "      <td>8828062798</td>\n",
       "    </tr>\n",
       "    <tr>\n",
       "      <th>8</th>\n",
       "      <td>Universal Pictures</td>\n",
       "      <td>Animation</td>\n",
       "      <td>2882507346</td>\n",
       "      <td>4527757823</td>\n",
       "      <td>7410265169</td>\n",
       "    </tr>\n",
       "    <tr>\n",
       "      <th>9</th>\n",
       "      <td>Universal Pictures</td>\n",
       "      <td>Romance</td>\n",
       "      <td>3087167877</td>\n",
       "      <td>4035669308</td>\n",
       "      <td>7122837185</td>\n",
       "    </tr>\n",
       "  </tbody>\n",
       "</table>\n",
       "</div>"
      ],
      "text/plain": [
       "          Distributor      Genre  Domestic Sales (in $)  \\\n",
       "0  Universal Pictures     Action             7636419201   \n",
       "1  Universal Pictures     Comedy             8979274834   \n",
       "2  Universal Pictures  Adventure             7731122633   \n",
       "3  Universal Pictures   Thriller             5474565341   \n",
       "4  Universal Pictures     Sci-Fi             4993037130   \n",
       "5  Universal Pictures      Crime             3761380636   \n",
       "6  Universal Pictures     Family             4010553890   \n",
       "7  Universal Pictures      Drama             4035448355   \n",
       "8  Universal Pictures  Animation             2882507346   \n",
       "9  Universal Pictures    Romance             3087167877   \n",
       "\n",
       "   International Sales (in $)  World Sales (in $)  \n",
       "0                 12868795186         20505214387  \n",
       "1                 10417608806         19396883640  \n",
       "2                 11423472003         19208513178  \n",
       "3                  9150842462         14625407803  \n",
       "4                  7797646119         12844279361  \n",
       "5                  6476572818         10237953454  \n",
       "6                  5422559420          9486709422  \n",
       "7                  4792292013          8828062798  \n",
       "8                  4527757823          7410265169  \n",
       "9                  4035669308          7122837185  "
      ]
     },
     "execution_count": 274,
     "metadata": {},
     "output_type": "execute_result"
    }
   ],
   "source": [
    "top_10_mov('Universal Pictures')"
   ]
  },
  {
   "cell_type": "markdown",
   "id": "2acb38c6-c36b-43bf-9ff2-00644c39d75c",
   "metadata": {},
   "source": [
    "## Notes:"
   ]
  },
  {
   "cell_type": "markdown",
   "id": "5d9199aa-5351-4db9-ba9f-49f068291536",
   "metadata": {},
   "source": [
    "The action genre for Universal pictures grosses the highest in sale. However, Comedy and Adventure comes  extremly close to fight for the number one spot."
   ]
  },
  {
   "cell_type": "markdown",
   "id": "0207965f-ee35-4efa-8d5e-bcc1937ac1e5",
   "metadata": {},
   "source": [
    "# Conclusion:"
   ]
  },
  {
   "cell_type": "markdown",
   "id": "c3c8fcc7-d4e8-4a7b-a386-b0b826b58a3c",
   "metadata": {},
   "source": [
    "In conclusion, this data shows that people enjoy the action genre over anything. The top three genres collectively would be Action, Adventure, and Comedy. Analyzing this data tells me that Walt Disney had the largest impact in sales over the course of 50 years. The top Genre overall for this company would be Adventure. People tend to gravitate towards stories with conquests and explorations of a protagonist. In this analysis, we determined what studio grossed the highest."
   ]
  },
  {
   "cell_type": "markdown",
   "id": "a27c2d73-e9da-4674-a8f2-4a300abc8208",
   "metadata": {},
   "source": [
    "In genreal, we can assess that Adventure movies consistanly outperforms all other genres at the box office. one could also derive from the conclusion that genres Inevitably effect its sales performance. We could also asses that each studio has varied succes with each genre."
   ]
  },
  {
   "cell_type": "markdown",
   "id": "687c0d75-4d8f-4f09-b595-2601f7f8abfd",
   "metadata": {},
   "source": [
    "# Work cited:"
   ]
  },
  {
   "cell_type": "markdown",
   "id": "f3ddaf5f-150b-4fc8-a75a-ed8d416c942e",
   "metadata": {},
   "source": [
    "https://www.kaggle.com/datasets/sanjeetsinghnaik/top-1000-highest-grossing-movies"
   ]
  },
  {
   "cell_type": "markdown",
   "id": "3363263f-8461-4310-bc13-d71debd0e224",
   "metadata": {},
   "source": [
    "https://www.imdb.com/"
   ]
  },
  {
   "cell_type": "markdown",
   "id": "5afaed01-f1d2-4e2d-b687-f9851f659b54",
   "metadata": {},
   "source": [
    "https://thewaltdisneycompany.com/"
   ]
  },
  {
   "cell_type": "markdown",
   "id": "8e7b98b8-dd99-4272-8289-8b48ff6e8c11",
   "metadata": {},
   "source": [
    "https://www.sonypictures.com/"
   ]
  },
  {
   "cell_type": "markdown",
   "id": "9eca2a71-c6be-4a3a-93e8-cd4bb5b7dfcf",
   "metadata": {},
   "source": [
    "https://www.universalpictures.com/"
   ]
  },
  {
   "cell_type": "markdown",
   "id": "2c69bdbe-544d-477a-a50d-f4726e8b1d69",
   "metadata": {},
   "source": [
    "https://www.20thcenturystudios.com/"
   ]
  },
  {
   "cell_type": "markdown",
   "id": "5a13da76-e82d-4d15-8261-ed76734ab6f6",
   "metadata": {},
   "source": [
    "https://www.warnerbros.com/"
   ]
  }
 ],
 "metadata": {
  "kernelspec": {
   "display_name": "Python 3 (ipykernel)",
   "language": "python",
   "name": "python3"
  },
  "language_info": {
   "codemirror_mode": {
    "name": "ipython",
    "version": 3
   },
   "file_extension": ".py",
   "mimetype": "text/x-python",
   "name": "python",
   "nbconvert_exporter": "python",
   "pygments_lexer": "ipython3",
   "version": "3.9.12"
  }
 },
 "nbformat": 4,
 "nbformat_minor": 5
}
